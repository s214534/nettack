{
 "cells": [
  {
   "cell_type": "markdown",
   "metadata": {},
   "source": [
    "# <b> Final Project - Glassman Yair, Vanelli Martina </b>\n",
    "<h2 style=\"color:#C40233\"> <b> CS236605: Deep Learning </b> </h2>"
   ]
  },
  {
   "cell_type": "markdown",
   "metadata": {},
   "source": [
    "Our project is based on the article [Adversarial Attacks on Neural Networks for Graph Data](https://arxiv.org/pdf/1805.07984.pdf) (Code: [code](https://github.com/danielzuegner/nettack)). In this paper, the authors generated adversarial attacks on attributed graphs targeting the node’s features and the graph structure. The attacks aim to fool  graph-based deep learning models on a semi-supervised node classification task. \n",
    "\n",
    "The main point of our project is to study the behavior of the model and the effectiveness of the adversarial attacks according to the edge densities between and within communities. We studied this problem through stochastic block models. "
   ]
  },
  {
   "cell_type": "markdown",
   "metadata": {},
   "source": [
    "## <b> Adversarial Attacks on Neural Networks for Graph data </b>\n",
    "#### <i> Daniel Zügner, Amir Akbarnejad, Stephan Günnemann </i> - 12 June 2018"
   ]
  },
  {
   "cell_type": "markdown",
   "metadata": {},
   "source": [
    "<h3 style=\"color:#C40233\"> <b> Semi-supervised node classification task </b> </h3>\n",
    "\n",
    "The authors considered a semi-supervised node classification task in a single large graph having <b> binary node features </b>. Formally, let $G=(A,X)$ be an attributed graph with $A\\in \\{0,1\\}^{n\\ \\times\\  n}$ representing the connections (adjacency matrix) and $X\\in \\{0,1\\}^{n \\ \\times \\ D}$ representing the nodes’ features. Given a subset $\\mathcal{V}_L\\subseteq \\mathcal{V}=\\{1,\\dots,n\\}$ of labeled nodes with class labels from $C=\\{1,2,...,c_K\\}$, the aim of node classification is to learn a function $g:\\mathcal{V}\\rightarrow C$ that labels each node to one class.\n",
    " "
   ]
  },
  {
   "cell_type": "markdown",
   "metadata": {},
   "source": [
    "<h3 style=\"color:#C40233\">  <b> GCN model </b> </h3>"
   ]
  },
  {
   "cell_type": "markdown",
   "metadata": {},
   "source": [
    "The authors focused on node classification employing <b> graph convolution layers </b>. In particular, they considered the model proposed in [Semi-supervised classification with graph convolutional networks](https://arxiv.org/pdf/1609.02907.pdf) and they built a GCN with a single hidden layer with the following structure:\n",
    "$$\n",
    "Z=f_0(A,X)=\\text{softmax}(\\hat{A}\\sigma(\\hat{A}XW^{(1)})W^{(2)})\n",
    "$$\n",
    "where $\\hat{A}=\\tilde{D}^{-\\frac{1}{2}}\\tilde{A}\\tilde{D}^{\\frac{1}{2}}$, $\\tilde{A}=A+I$, $\\tilde{D}=\\sum_j \\tilde{A}_{jj}$, $\\sigma(\\cdot)=\\text{ReLU}(\\cdot)$.\n",
    "The output $Z_{vc}$ denotes the probability of assigning node $v$ to class $c$.\n",
    "\n",
    "The optimal parameters $\\theta=\\{W^{(1)}, W^{(2)}\\}$ are learned by minimizing <b> cross-entropy </b> on the output of the labeled samples $\\mathcal{V}_L$. After training, $Z$ denotes the class probabilities for every instance in the graph."
   ]
  },
  {
   "cell_type": "markdown",
   "metadata": {},
   "source": [
    "<h3 style=\"color:#C40233\"> <b> The attack definition </b> </h3>"
   ]
  },
  {
   "cell_type": "markdown",
   "metadata": {},
   "source": [
    "Given the previous node classification setting, the goal of the authors was to attack a specific <b>target node</b> $v_0\\in \\mathcal{V}$ by performing small perturbations on the graph $G=(A, X)$ in order to generate a corrupted graph $G'=(A',X')$ \n",
    "where $v_0$'s prediction changes and the classification performance drops.\n",
    "\n",
    "Changes to $A$ are called <font color=#C40233>structure attacks</font>, while changes to $X$ are called <font color=#C40233>feature attacks</font>.\n",
    "\n",
    "The perturbations on $G$ are constrained to a set of <font color=#C40233>attacker nodes</font> $\\mathcal{A} \\subseteq \\mathcal{V}$, namely \n",
    "$$\n",
    "X′_{ui}\\neq X_{ui}\\Rightarrow u\\in \\mathcal{A} \\text{, } A′_{uv}\\neq A_{uv} \\Rightarrow u\\in \\mathcal{A}\\vee v \\in \\mathcal{A}\n",
    "$$\n",
    "If the target $v_0\\notin A$, we are dealing with an <font color=#C40233>influencer attack</font> since $v_0$ cannot be manipulated directly, but only indirectly via some influencers. If ${v_0}=A$, it is called a <font color=#C40233>direct attack</font>.\n",
    "\n",
    "They set a budget $\\Delta$ that limits the number of allowed changes:\n",
    "$$\n",
    "\\sum_u \\sum_i |X_{ui}−X′_{ui}|+\\sum_{u<v}|A_{uv}−A′_{uv}| \\leq \\Delta\n",
    "$$\n",
    "\n",
    "Moreover, in order to have <b>unnoticeable perturbations</b>, the authors set two more constraints (that are described in detail in the paper):\n",
    "- They guaranteed to generate perturbations that preserve the <b>degree distribution</b> of the original graph through a statistical test.\n",
    "- They also managed to preserve the feature statistics through a test based on <b>feature co-occurrences</b>.\n",
    "\n"
   ]
  },
  {
   "cell_type": "markdown",
   "metadata": {},
   "source": [
    "<h3 style=\"color:#C40233\"> <b> The optimization problem </b> </h3>"
   ]
  },
  {
   "cell_type": "markdown",
   "metadata": {},
   "source": [
    "We recall that the authors aimed to solve the following discrete optimization problem. \n",
    "\n",
    "<b>Problem.</b> Given a graph $G=(A,X)$, a target node $v_0$ and attacker nodes $\\mathcal{A}$. Let $c_{old}$ denote the class for $v_0$ based on the graph $G$ (predicted or using some ground truth) and $P^{G^*}_{\\Delta,\\mathcal{A}}$ be the set of the graphs that respect the constraints based on the set of attackers $\\mathcal{A}$, the budget $\\Delta$ and the unnoticeable perturbations.<br>\n",
    "Determine\n",
    "$$\n",
    "G'=\\text{argmax}_{(A′,X′)\\in P^{G^*}_{\\Delta,\\mathcal{A}}} \\text{max}_{c\\neq c_{old}} \\text{ln}Z^∗_{v_0,c}−\\text{ln}Z^∗_{v_0,c_{old}}\n",
    "$$\n",
    "subject to $Z^∗=f_{\\theta^*}(A′,X′)$ with $\\theta^∗=\\text{argmin}_\\theta L(θ;A′,X′)$.\n",
    "\n",
    "<b>Note:</b>\n",
    "In this version of the optimization problem, there is a bi-level optimization problem since $\\theta^∗$ is determined based on $A'$ and $X'$ ( <font color=#C40233> poisoning attack </font>) . As a simpler variant, one can also consider an  <font color=#C40233>evasion attack</font> assuming the parameters are static and learned based on the old graph, $\\theta^∗=\\text{argmin}_\\theta L(\\theta;A,X)$.\n",
    "\n",
    "Since solving this problem is highly challenging due to the discreteness of the data and the large number of parameters in $\\theta$, the authors proposed a sequential approach where they first attack a surrogate model. They use this as an argument for transferability: indeed, the attack was effective even if it was not based on the attacked model. The authors experimented the attack also against other models. <br> \n",
    "The surrogate model is a linearization of the previous model:\n",
    "$$\n",
    "Z'=\\text{softmax}(\\hat{A}\\hat{A}XW^{(1)}W^{(2)})=\\text{softmax}(\\hat{A}^2XW)\n",
    "$$\n",
    "The authors chose to solve the new surrogate optimization problem through a greedy algorithm: at each step, they efficiently computed the scores (based on the surrogate loss) for each feasible change in structure or in features in order to find the best attack at the point. This procedure is repeated until the budget $\\Delta$ is reached. The algorithm is explained in detail in the paper."
   ]
  },
  {
   "cell_type": "markdown",
   "metadata": {},
   "source": [
    "<h3 style=\"color:#C40233\"> <b> Experiments and results </b> </h3>"
   ]
  },
  {
   "cell_type": "markdown",
   "metadata": {},
   "source": [
    "The authors experimented many type of attacks (direct and influencers attacks, poisoning and evasion attacks, features and structure attacks) on different datasets. The effectiveness of the attacks is tested on different nonlinear models: GCN, Deep Walk and CNC (Column Networks for Collective Classification). They set $\\Delta=d_{v_0}+2$ where $d_{v_0}$ is the degree of the attacked node. This choice is based on the fact that node with a higher degree are more difficult to attack. <br>\n",
    "They obtained interesting results, especially in the case of direct attacks. They compared their attack (NETTACK) to 2 others attacks: Fast Gradient Sign Method (FGSM) that is a direct attack on $v_0$ and RND (attack in which they modify the structure of the graph). Part of the results is shown in Table 3, please refer to the paper for the detailed experiments setting and a more complete summary of the final results.\n",
    "\n",
    "<img src=\"image.PNG\" alt=\"Drawing\" style=\"width: 500px;\"/>"
   ]
  },
  {
   "cell_type": "markdown",
   "metadata": {},
   "source": [
    "## <b> Our project </b>"
   ]
  },
  {
   "cell_type": "markdown",
   "metadata": {},
   "source": [
    "As anticipated, the aim of our project is to study the performance of the model and the successfulness of the adversarial attacks according to the graph structure.<br>\n",
    "Our main problem was then to create realistic datasets with different graph structures to be tested with Nettack. \n"
   ]
  },
  {
   "cell_type": "markdown",
   "metadata": {},
   "source": [
    "<h3 style=\"color:#C40233\"> <b> The original datasets </b> </h3>"
   ]
  },
  {
   "cell_type": "markdown",
   "metadata": {},
   "source": [
    "We decided to start from the datasets analyzed in the article: `citeseer.npz` and `cora.npz`. They both contain information about papers. \n",
    "\n",
    "The Cora dataset contains machine-learning papers divided into one of 7 classes (Case Based, Genetic Algorithms, Neural Networks, Probabilistic Methods, Reinforcement Learning, Rule Learning, Theory) while the CiteSeer data set has 6 class labels (Agents, AI, DB, IR, ML, HCI). For both datasets, they performed stemming and stop word removal beside removing the words with document frequency less than 10. <br>\n",
    "The final corpus has 2708 documents (nodes), 1433 distinct words in the vocabulary (node features) and 5429 links (graph structure) in the case of Cora; and 3312 documents, 3703 distinct words in the vocabulary and 4732 links in the case of CiteSeer.\n",
    "\n",
    "\n",
    "<b> Note: </b> In the original datasets, the graphs are directed. Since the implemented model takes as input an indirected graph, the authors change the data structure at the beginning of the code by making every link undirected (either if $A$ cites $B$ or $B$ cites $A$ or they both cite each other, they simply register that there is a connection between $A$ and $B$). We decided to use the same approach. "
   ]
  },
  {
   "cell_type": "markdown",
   "metadata": {},
   "source": [
    "<h3 style=\"color:#C40233\"> <b> The Stochastic Block Model and our new datasets</b> </h3>"
   ]
  },
  {
   "cell_type": "markdown",
   "metadata": {},
   "source": [
    "For simplicity, we decided to create our datasets starting from the ones already used in the article. We decided to keep the features and the labels of the old datasets and to change the relationship among the nodes.\n",
    "\n",
    "We used the random graphs theory to change the graph structure and to generate different graphs. <br> In particolar, we chose a specific random graph model: the <b>Stochastic Block Model</b>. This model does not really fit the original dataset since the citations between articles are not independent from each other, but it is very useful for the scope of our project that is to study the importance of communities. The SBM produces indeed random graphs containing <b>communities</b>, that are subsets characterized by being connected with one another with particular edge densities.<br>\n",
    "We assumed that the labels represent our communities. In this way, we already had some features related to the communities."
   ]
  },
  {
   "cell_type": "markdown",
   "metadata": {},
   "source": [
    "<h3 style=\"color:#C40233\"> <b> Parameters setting: the $\\hat{P}$ matrix</b> </h3>"
   ]
  },
  {
   "cell_type": "markdown",
   "metadata": {},
   "source": [
    "The stochastic block model takes the following parameters:\n",
    "* The number $n$ of vertices;\n",
    "* a partition of the vertex set $\\{ 1 ,\\dots , n \\}$ into disjoint subsets $C_1 ,\\dots , C_r$, called communities;\n",
    "* a symmetric $r \\times r$  matrix $P$ of edge probabilities.\n",
    "\n",
    "The edge set is then sampled at random as follows: any two vertices $u \\in C_i$ and $v \\in C_j$ are connected by an edge independently with probability $P_{ij}$.\n",
    "\n",
    "Once we made the previous assumptions, it was straightforward to set the vertex set with the nodes of the largest connected component of the original dataset and to partition it by labels. <br>\n",
    "The main problem was to find a consistent choice of the matrix $P$ of edge probabilities. For this reason, we computed some statistics over the original dataset in order to find some estimates of these probabilities.<br>\n",
    "In particular, the $\\hat{P}$ matrix, based on the original dataset and given as input of the SBM, is computed in the following way:\n",
    "* $\\hat{P}_{ii}=\\frac{|\\text{ links between articles with label }i\\ |}{|\\text{ possible links between articles with label }i\\ |}\\overset{*}{=}\n",
    " \\frac{|\\text{ links between articles with label }i\\ |}{\\binom{n_i}{2}}= \\frac{2|\\text{ links bewteeen articles with label }i\\ |}{n_i(n_i-1)}$\n",
    "*  $\\hat{P}_{ij}=\\hat{P}_{ji}=\\frac{|\\text{ links between articles with labels respectively }i \\text{ and }j\\ |}{|\\text{ possible links between articles with labels respectively }i \\text{ and } j\\ |}=\\frac{|\\text{ links between articles with labels respectively }i \\text{ and }j\\ |}{n_i n_j }$\n",
    "\n",
    "<b> Note 1: </b> $n_i$ is the number of node in the $i^{th}$ community, that is the number of articles that are labeled with the $i^{th}$ class.  \n",
    "<b> Note 2: </b> Each indirected link is counted once and the possible links are counted as unordered couples of nodes. The implementation of the SBM takes this into account and generates just the upper part of the matrix, that is then copied in the lower part leading to an indirected graph. <br>\n",
    "<b> Note*: </b> We observed that in the original datasets there are few self loops (around 15% of the total nodes). In this case, the total number of possible links should consider also the $n$ possible self loops. Since we did not understand the meaning of the self loops in our datasets, we decided to delete them from the original datasets and then quantify the total number of possible links between articles of labels $i$ as $\\binom{n_i}{2}$ (no self loops)."
   ]
  },
  {
   "cell_type": "markdown",
   "metadata": {},
   "source": [
    "#### <b> Observations </b>\n",
    "Once we have the $\\hat{P}$ matrix, we have all the parameters needed to sample a random graph and to build a dataset that is in some way consistent with the original one. \n",
    "\n",
    "We recall that, although they have similar degree averages, the 2 datasets have underlying different graph structures due to the assumptions that we made on the link distribution. <br> Later on, once we generated the random graphs, we computed some statistics in order to have a look on the behavior of our graphs compared to the original ones. The average degrees converge to the same values, while the max degree and min degree values are very different. This result was expectable: the SBM assumes that all the nodes in the same community have the same degree distribution, while in the original dataset there are very different behaviors among the nodes. Since we do not consider the variance, our model tend to \"flatten\" the degree distribution around the mean. <br>\n",
    "We also observed that in general the SBM dataset seems easier to attack but this is hard to say since, even though the features of each node remain the same, it is quite meaningless to compare the results of the attack on the same node in the original dataset and in the randomly generated one. From the structural point of view, there is not any relationship between nodes in the original one and the new one except for the community belonging. Nodes in the same community are considered anonymus in the SBM while they were not in the original dataset. \n",
    "\n",
    "On the other side, we also observed that, for all the classes, the average probability of having a link within a community is higher than all the other averages. This observation confirmed that there is a community behavior in both the original datasets and that part of our assumptions are valid.\n",
    "\n",
    "<img src=\"citeseer_p_hat.PNG\" alt=\"Drawing\" style=\"width: 500px;\"/>\n",
    "<img src=\"cora_p_hat.PNG\" alt=\"Drawing\" style=\"width: 500px;\"/>"
   ]
  },
  {
   "cell_type": "markdown",
   "metadata": {},
   "source": [
    "<h3 style=\"color:#C40233\"> <b> The $\\tilde{P}$ matrix </b> </h3>"
   ]
  },
  {
   "cell_type": "markdown",
   "metadata": {},
   "source": [
    "At this point, in order to fulfill our analysis and to make meaningful comparisons, we alter the entries of $\\hat{P}$ that is to modify the edge probabilities within and between communities. In particular, we aim to either increase or decrease the edge density within communities and then modify the other densities according to it. \n",
    "\n",
    "Since the effectiveness of the attack changes according to the degree, we decided to alterate the edge probabilities trying to keep the total expected degree constant.<br>\n",
    "The expected degree of a member of the community $i$, that is $u\\in C_i$, is: \n",
    "$$\n",
    "\\mathbb{E}[\\text{deg}(u)]=\\hat{P}_{ii}(n_i-1) + \\sum_{j\\neq i } \\hat{P}_{ij}n_j\n",
    "$$\n",
    "and this holds because the edges probabilities are independent from each other.<br>\n",
    "Given $N$, we did the following trick to increase the edge density within communities (we assume $n_i>1$ $\\forall i$):\n",
    "$$\n",
    "\\begin{align}\n",
    "\\mathbb{E}[\\text{deg}(u)]&=\\hat{P}_{ii}(n_i-1) +N-N +\\sum_{j\\neq i } \\hat{P}_{ij}n_j=\\hat{P}_{ii}(n_i-1) + \\frac{N (n_i-1)}{(n_i-1)} -N\\frac{n_1+\\dots+n_{i-1}+n_{i+1}+\\dots+n_{C_r}}{\\sum_{j\\neq i} n_j} +\\sum_{j\\neq i } \\hat{P}_{ij}n_j=\\\\\n",
    "&=\\left(\\hat{P}_{ii}+\\frac{N}{(n_i-1)}\\right)(n_i-1) +\\sum_{j\\neq i } \\left(\\hat{P}_{ij}- \\frac{N}{\\sum_{j\\neq i} n_j}\\right)n_j\\overset{\\text{def}}{=}\\tilde{P}_{ii}(n_i-1) +\\sum_{j\\neq i }\\tilde{P}_{ij}n_j\n",
    "\\end{align}\n",
    "$$\n",
    "One can think of this trick as a way to change $N$ edges \"between communities\" to edges \"within communities\". <br>\n",
    "Let us note that, with this definition, $\\tilde{P}_{ij}$ can be negative. We solve this problem by setting all the negative probabilities to 0. In this last case, the expected degree increases.\n",
    "Thus, we obtain:\n",
    "$$\n",
    "\\begin{align}\n",
    "\\tilde{P}_{ii}&\\overset{\\text{def}}{=}\\hat{P}_{ii}+\\frac{N}{(n_i-1)}\\\\\n",
    "\\tilde{P}_{ij}=\\tilde{P}_{ji}&\\overset{\\text{def}}{=}\\text{max}\\{\\hat{P}_{ij}- \\frac{N}{\\sum_{j\\neq i} n_j},0\\}\n",
    "\\end{align}\n",
    "$$\n",
    "To decrease the edge density, we simply change the sign:\n",
    "$$\n",
    "\\begin{align}\n",
    "\\tilde{P}_{ii}&\\overset{\\text{def}}{=}\\text{max}\\{\\hat{P}_{ii}-\\frac{N}{(n_i-1)},0\\}\\\\\n",
    "\\tilde{P}_{ij}=\\tilde{P}_{ji}&\\overset{\\text{def}}{=}\\hat{P}_{ij}+ \\frac{N}{\\sum_{j\\neq i} n_j}\n",
    "\\end{align}\n",
    "$$\n",
    "\n",
    "We usually set $N=1$ or $N=2$ since the average degree is very low. "
   ]
  },
  {
   "cell_type": "markdown",
   "metadata": {},
   "source": [
    "<h3 style=\"color:#C40233\"> <b> The SBM generation: the coupling </b> </h3>"
   ]
  },
  {
   "cell_type": "markdown",
   "metadata": {},
   "source": [
    "We now have 2 matrices $\\hat{P}$ and $\\tilde{P}$ with different edges probabilities: the first one is directly obtained  from the original dataset while the second one has slightly changed community distributions. At this point, the two SBM probability spaces ( SBM($\\hat{P}$) and SBM($\\tilde{P}$) ) are completely defined and we can sample from them. \n",
    "\n",
    "In order to make meaningful comparison between them, we decided to sample the random graphs through the following coupling. <br>\n",
    "Recall that $n$ is the number of nodes and $C_1 ,\\dots , C_r$ the community subsets. We will call $[n]=\\{1,\\dots,n\\}$. <br>\n",
    "For every indirected edge $e=\\{v,w\\}$, $v\\in C_i$ and $ w\\in C_j$, let $u_{\\{v,w\\}}$ be i.i.d. $\\mathcal{U}[0,1]$. We consider the graphs $G_1$ and $G_2$ with edge sets to be\n",
    "$$\n",
    "\\begin{align}\n",
    "E(G_1)=&\\{\\{v,w\\} \\in [n]^{(2)}, v \\in C_i, w \\in C_j : u_{\\{v,w\\}}\\leq \\hat{P}_{ij} \\} \\\\\n",
    "E(G_2)=&\\{\\{v,w\\} \\in [n]^{(2)}, v \\in C_i, w \\in C_j  : u_{\\{v,w\\}}\\leq \\tilde{P}_{ij}\\} \n",
    "\\end{align}\n",
    "$$\n",
    "In other words, for every unordered couple of nodes  $v \\in C_i, w \\in C_j$, we generate a uniform random number $u\\in [0,1]$. We then put an edge in the first graph if $u \\leq \\hat{P}_{ij}$ and an edge in the second graph  if  $u \\leq \\tilde{P}_{ij}$. The main point is that the $u$ is the same for both graphs and in this way we can compare the results for each node."
   ]
  },
  {
   "cell_type": "markdown",
   "metadata": {},
   "source": [
    "<h3 style=\"color:#C40233\"> <b> The experiments </b> </h3>"
   ]
  },
  {
   "cell_type": "markdown",
   "metadata": {},
   "source": [
    "Once we generated the 2 random graphs, we can study their properties. First, as anticipated, we compute few statistics in order to compare them with the original datasets. Then, we try the GCN and the Nettack on them. \n",
    "\n",
    "Since we want to study the performance according to the structure, we performed structure attacks. In particular, we focused on direct evasion structure attacks.  <br>\n",
    "In any case, we observed that, since  in  <i> CiteSeer </i> and <i> Cora </i> the average degrees are respectively around 3.5 and 4 while the number of features per node are 3703 and 1433, the Nettack always prefer to perform structure attacks when it is not constrained. This is due to the fact that the authors set the same budget for both the features and structure attacks. Moreover, in the article, the authors set $\\Delta=d_{v_0}+2$ that is a low budget for a feature attack (for these datasets) but it is quite high for a structure attacks since it allows to overturn the neighborhood. Since we agreed on the fact that effectiveness of the attack depends on the degree of the attacked node, we decided to set  $\\Delta=\\frac{d_{v_0}}{2}$ for the majority of the experiments. We also tried a stronger attack"
   ]
  },
  {
   "cell_type": "markdown",
   "metadata": {},
   "source": [
    "<h3 style=\"color:#C40233\"> <b> The results </b> </h3>"
   ]
  },
  {
   "cell_type": "markdown",
   "metadata": {},
   "source": [
    "\n",
    "\n",
    "\n"
   ]
  },
  {
   "cell_type": "markdown",
   "metadata": {},
   "source": [
    "[A link to data preprocessing](#data_preprocessing)\n",
    " "
   ]
  },
  {
   "cell_type": "markdown",
   "metadata": {},
   "source": [
    "## <b> The code </b>"
   ]
  },
  {
   "cell_type": "markdown",
   "metadata": {},
   "source": [
    "#### Requirements:\n",
    "* `numpy`\n",
    "* `scipy`\n",
    "* `scikit-learn`\n",
    "* `matplotlib`\n",
    "* `tensorflow`\n",
    "* `numba`"
   ]
  },
  {
   "cell_type": "code",
   "execution_count": 41,
   "metadata": {},
   "outputs": [],
   "source": [
    "from matplotlib import pyplot as plt\n",
    "%matplotlib inline\n",
    "from nettack import utils, GCN\n",
    "from nettack import nettack as ntk\n",
    "import numpy as np\n",
    "gpu_id = None # set this to your desired GPU ID if you want to use GPU computations (only for the GCN/surrogate training)\n",
    "\n",
    "#our code\n",
    "#from importlib import reload \n",
    "import random\n",
    "from nettack import sbm\n",
    "import scipy.sparse as sp\n",
    "from function import avg_matrix\n",
    "from test_nettack import test_nettack"
   ]
  },
  {
   "cell_type": "markdown",
   "metadata": {},
   "source": [
    "<a id='data'></a>\n",
    "### Load network, basic setup"
   ]
  },
  {
   "cell_type": "markdown",
   "metadata": {},
   "source": [
    "To begin with, we load the data from one of the dataset present in the data folder (`citeseer.npz` and `cora.npz`).\n"
   ]
  },
  {
   "cell_type": "code",
   "execution_count": 42,
   "metadata": {},
   "outputs": [
    {
     "name": "stdout",
     "output_type": "stream",
     "text": [
      "Number of nodes: 3312\n",
      "Number of features: 3703\n"
     ]
    }
   ],
   "source": [
    "#load the data\n",
    "#_A_obs: adjacency matrix for links (structure)\n",
    "#_X_obs: features per node  \n",
    "#_z_obs: label per node\n",
    "#One can also repeat the experiment with the dataset cora.\n",
    "dataset='citeseer'\n",
    "_A_obs, _X_obs, _z_obs = utils.load_npz('data/'+dataset+'.npz')\n",
    "\n",
    "#make the graph indirected, that is make the adjacency matrix _A_obs symmetric\n",
    "_A_obs = _A_obs + _A_obs.T \n",
    "_A_obs[_A_obs > 1] = 1\n",
    "    \n",
    "print_matrix=False\n",
    "if(print_matrix):\n",
    "    print(_A_obs)\n",
    "    \n",
    "#number of vertices\n",
    "print(\"Number of nodes:\", _A_obs.shape[0])\n",
    "print(\"Number of features:\",_X_obs.shape[1])"
   ]
  },
  {
   "cell_type": "markdown",
   "metadata": {},
   "source": [
    "### Data preprocessing\n"
   ]
  },
  {
   "cell_type": "code",
   "execution_count": 43,
   "metadata": {},
   "outputs": [
    {
     "name": "stdout",
     "output_type": "stream",
     "text": [
      "Selecting 1 largest connected components\n",
      "Number of nodes in the largest connected component: 2110\n"
     ]
    }
   ],
   "source": [
    "#we select the largest connected component    \n",
    "lcc = utils.largest_connected_components(_A_obs)\n",
    "_A_obs = _A_obs[lcc][:,lcc]\n",
    "_X_obs = _X_obs[lcc].astype('float32')\n",
    "_z_obs = _z_obs[lcc]\n",
    "\n",
    "#number of vertices\n",
    "N = _A_obs.shape[0]\n",
    "print(\"Number of nodes in the largest connected component:\",N)\n",
    "#avoid self loops\n",
    "_A_obs=_A_obs- sp.eye(N)\n",
    "#print(\"Number of self loops in the dataset:\",int(N-np.sum(_A_obs[_A_obs<0]*-1)))\n",
    "_A_obs[_A_obs < 0] = 0\n",
    "\n",
    "\n",
    "assert np.abs(_A_obs - _A_obs.T).sum() == 0, \"Input graph is not symmetric\"\n",
    "assert _A_obs.max() == 1 and len(np.unique(_A_obs[_A_obs.nonzero()].A1)) == 1, \"Graph must be unweighted\"\n",
    "assert _A_obs.sum(0).A1.min() > 0, \"Graph contains singleton nodes\""
   ]
  },
  {
   "cell_type": "code",
   "execution_count": 44,
   "metadata": {},
   "outputs": [
    {
     "name": "stdout",
     "output_type": "stream",
     "text": [
      "Number of labels: 6\n"
     ]
    }
   ],
   "source": [
    "#number of labels\n",
    "_K = _z_obs.max()+1\n",
    "print(\"Number of labels:\", _K)\n",
    "_Z_obs = np.eye(_K)[_z_obs]\n",
    "#the authors compute the matrix _A_hat that is used in the GCN model described above\n",
    "_An = utils.preprocess_graph(_A_obs)"
   ]
  },
  {
   "cell_type": "code",
   "execution_count": 45,
   "metadata": {},
   "outputs": [],
   "source": [
    "#since we are dealing with a semi-supervised node classification task, we assume that \n",
    "#just a set V_l of the vertices is labeled. \n",
    "#For this reason, even though in our datasets all the labels are known, \n",
    "#the set of nodes is randomly divided in labeled nodes (V_l) \n",
    "#and unlabeled nodes (the rest of the nodes).\n",
    "#The labeled set of nodes is then divided in train set and validation set\n",
    "seed = 15\n",
    "\n",
    "unlabeled_share = 0.8\n",
    "val_share = 0.1\n",
    "train_share = 1 - unlabeled_share - val_share\n",
    "np.random.seed(seed)\n",
    "split_train, split_val, split_unlabeled = utils.train_val_test_split_tabular(np.arange(N),\n",
    "                                                                       train_size=train_share,\n",
    "                                                                       val_size=val_share,\n",
    "                                                                       test_size=unlabeled_share,\n",
    "                                                                       stratify=_z_obs)"
   ]
  },
  {
   "cell_type": "markdown",
   "metadata": {},
   "source": [
    "### Choose the node to attack\n",
    "\n",
    "In order to see significant results, we choose to attack a node with at least a `set_deg` degree."
   ]
  },
  {
   "cell_type": "code",
   "execution_count": 46,
   "metadata": {},
   "outputs": [],
   "source": [
    "set_deg=10"
   ]
  },
  {
   "cell_type": "code",
   "execution_count": 47,
   "metadata": {},
   "outputs": [],
   "source": [
    "#degrees and neighbors\n",
    "neighbors=[]\n",
    "degrees=np.zeros(N)\n",
    "for i in range(N):\n",
    "    neighbors.append(_A_obs[i].nonzero()[1])\n",
    "    degrees[i]=len(neighbors[i])"
   ]
  },
  {
   "cell_type": "code",
   "execution_count": 48,
   "metadata": {},
   "outputs": [
    {
     "name": "stdout",
     "output_type": "stream",
     "text": [
      "Attacked node: 1699\n"
     ]
    }
   ],
   "source": [
    "vertices=np.array(range(N))\n",
    "u = random.choice(vertices[degrees==set_deg]) # node to attack \n",
    "#the authors attack unlabeled nodes, since in the problem definition the goal of the\n",
    "#semi supervised learning is to predict the unlabeled nodes from the features, \n",
    "#the structure and the labeled ones\n",
    "#run this part until the condition is verified\n",
    "assert u in split_unlabeled\n",
    "print(\"Attacked node:\",u)\n",
    "deg=degrees[u]"
   ]
  },
  {
   "cell_type": "markdown",
   "metadata": {},
   "source": [
    "### Train surrogate model\n",
    "Since we focus on the poisoning attacks, we train the surrogate model once in order to find the optimal parameters $W_1$ and $W_2$ that we pass them as inputs to Nettack."
   ]
  },
  {
   "cell_type": "code",
   "execution_count": 49,
   "metadata": {},
   "outputs": [],
   "source": [
    "sizes = [16, _K]\n",
    "verbose=False"
   ]
  },
  {
   "cell_type": "code",
   "execution_count": 50,
   "metadata": {},
   "outputs": [
    {
     "name": "stderr",
     "output_type": "stream",
     "text": [
      "C:\\Users\\Martina\\Anaconda3\\envs\\cs236605-hw\\lib\\site-packages\\tensorflow\\python\\client\\session.py:1702: UserWarning: An interactive session is already active. This can cause out-of-memory errors in some cases. You must explicitly call `InteractiveSession.close()` to release resources held by the other session(s).\n",
      "  warnings.warn('An interactive session is already active. This can '\n",
      "C:\\Users\\Martina\\Anaconda3\\envs\\cs236605-hw\\lib\\site-packages\\sklearn\\metrics\\classification.py:1143: UndefinedMetricWarning: F-score is ill-defined and being set to 0.0 in labels with no predicted samples.\n",
      "  'precision', 'predicted', average, warn_for)\n"
     ]
    }
   ],
   "source": [
    "surrogate_model = GCN.GCN(sizes, _An, _X_obs, with_relu=False, name=\"surrogate\", gpu_id=gpu_id)\n",
    "surrogate_model.train(split_train, split_val, _Z_obs, print_info=verbose)\n",
    "W1 =surrogate_model.W1.eval(session=surrogate_model.session)\n",
    "W2 =surrogate_model.W2.eval(session=surrogate_model.session)"
   ]
  },
  {
   "cell_type": "markdown",
   "metadata": {},
   "source": [
    "### Set up Nettack\n"
   ]
  },
  {
   "cell_type": "code",
   "execution_count": 51,
   "metadata": {},
   "outputs": [],
   "source": [
    "nettack = ntk.Nettack(_A_obs, _X_obs, _z_obs, W1, W2, u, verbose)"
   ]
  },
  {
   "cell_type": "markdown",
   "metadata": {},
   "source": [
    "### Poison the data\n"
   ]
  },
  {
   "cell_type": "code",
   "execution_count": 52,
   "metadata": {},
   "outputs": [],
   "source": [
    "#we focus on direct attacks\n",
    "direct_attack = True\n",
    "n_influencers = 1 if direct_attack else 5\n",
    "#we focus on structure attacks\n",
    "perturb_features = False    \n",
    "perturb_structure = True"
   ]
  },
  {
   "cell_type": "code",
   "execution_count": 53,
   "metadata": {},
   "outputs": [],
   "source": [
    "#we decided to set the number of perturbations as degree/2\n",
    "n_perturbations = int(degrees[u]/2) "
   ]
  },
  {
   "cell_type": "code",
   "execution_count": 54,
   "metadata": {},
   "outputs": [],
   "source": [
    "nettack.reset()\n",
    "nettack.attack_surrogate(n_perturbations, perturb_structure=perturb_structure, perturb_features=perturb_features, direct=direct_attack, n_influencers=n_influencers)\n",
    " "
   ]
  },
  {
   "cell_type": "code",
   "execution_count": 55,
   "metadata": {},
   "outputs": [],
   "source": [
    "#Print perturbations\n",
    "if verbose:\n",
    "    print(\"Structure perturbations:\",nettack.structure_perturbations)\n",
    "    print(\"Features perturbations:\", nettack.feature_perturbations)"
   ]
  },
  {
   "cell_type": "markdown",
   "metadata": {},
   "source": [
    "### Train GCN without perturbations\n"
   ]
  },
  {
   "cell_type": "code",
   "execution_count": 56,
   "metadata": {},
   "outputs": [],
   "source": [
    "retrain_iters=5\n",
    "#classification_margins_clean = []\n",
    "class_distrs_clean = []\n",
    "gcn_before = GCN.GCN(sizes, _An, _X_obs, \"gcn_orig\", gpu_id=gpu_id)"
   ]
  },
  {
   "cell_type": "code",
   "execution_count": 57,
   "metadata": {},
   "outputs": [],
   "source": [
    "if verbose:\n",
    "    print(\"Train GCN without perturbations\")\n",
    "    \n",
    "for _ in range(retrain_iters):\n",
    "    if verbose:\n",
    "        print(\"... {}/{} \".format(_+1, retrain_iters))\n",
    "    gcn_before.train(split_train, split_val, _Z_obs, print_info=verbose)\n",
    "    probs_before_attack = gcn_before.predictions.eval(session=gcn_before.session,feed_dict={gcn_before.node_ids: [nettack.u]})[0]\n",
    "    class_distrs_clean.append(probs_before_attack)\n",
    "    #best_second_class_before = (probs_before_attack - 1000*_Z_obs[nettack.u]).argmax()\n",
    "    #margin_before = probs_before_attack[_z_obs[nettack.u]] - probs_before_attack[best_second_class_before]\n",
    "    #classification_margins_clean.append(margin_before)\n",
    "class_distrs_clean = np.array(class_distrs_clean)"
   ]
  },
  {
   "cell_type": "markdown",
   "metadata": {},
   "source": [
    "### Train GCN with perturbations\n"
   ]
  },
  {
   "cell_type": "code",
   "execution_count": 58,
   "metadata": {},
   "outputs": [],
   "source": [
    "#classification_margins_corrupted = []\n",
    "class_distrs_retrain = []\n",
    "\n",
    "#this time we use nettack.adj_preprocessed and nettack.X_obs.tocsr(), that are the attacked adjacency matrix and features \n",
    "gcn_retrain = GCN.GCN(sizes, nettack.adj_preprocessed, nettack.X_obs.tocsr(), \"gcn_retrain\", gpu_id=gpu_id)"
   ]
  },
  {
   "cell_type": "code",
   "execution_count": 59,
   "metadata": {},
   "outputs": [],
   "source": [
    "if verbose:\n",
    "    print(\"Train GCN with perturbations\")\n",
    "for _ in range(retrain_iters):\n",
    "    if verbose:    \n",
    "        print(\"... {}/{} \".format(_+1, retrain_iters))\n",
    "    gcn_retrain.train(split_train, split_val, _Z_obs, print_info=verbose)\n",
    "    probs_after_attack = gcn_retrain.predictions.eval(session=gcn_retrain.session,feed_dict={gcn_retrain.node_ids: [nettack.u]})[0]\n",
    "    class_distrs_retrain.append(probs_after_attack)\n",
    "    #best_second_class_after = (probs_after_attack - 1000*_Z_obs[nettack.u]).argmax()\n",
    "    #margin_after = probs_after_attack[_z_obs[nettack.u]] - probs_after_attack[best_second_class_after]\n",
    "    #classification_margins_corrupted.append(margin_after)\n",
    "class_distrs_retrain = np.array(class_distrs_retrain)\n",
    "    "
   ]
  },
  {
   "cell_type": "markdown",
   "metadata": {},
   "source": [
    "### Visualize the results"
   ]
  },
  {
   "cell_type": "code",
   "execution_count": 60,
   "metadata": {},
   "outputs": [],
   "source": [
    "def plot(class_distrs_clean, class_distrs_retrain, retrain_iters, u, label_u):\n",
    "    figure = plt.figure(figsize=(12,4))\n",
    "    plt.subplot(1, 2, 1)\n",
    "    center_ixs_clean = []\n",
    "    for ix, block in enumerate(class_distrs_clean.T):\n",
    "        x_ixs= np.arange(len(block)) + ix*(len(block)+2)\n",
    "        center_ixs_clean.append(np.mean(x_ixs))\n",
    "        color = '#555555'\n",
    "        if ix == label_u:\n",
    "            color = 'darkgreen'\n",
    "        plt.bar(x_ixs, block, color=color)\n",
    "\n",
    "    ax=plt.gca()\n",
    "    plt.ylim((-.05, 1.05))\n",
    "    plt.ylabel(\"Predicted probability\")\n",
    "    ax.set_xticks(center_ixs_clean)\n",
    "    ax.set_xticklabels([make_xlabel(k, label_u) for k in range(_K)])\n",
    "    ax.set_title(\"Predicted class probabilities for node {} on clean data\\n({} re-trainings)\".format(u, retrain_iters))\n",
    "\n",
    "    fig = plt.subplot(1, 2, 2)\n",
    "    center_ixs_retrain = []\n",
    "    for ix, block in enumerate(class_distrs_retrain.T):\n",
    "        x_ixs= np.arange(len(block)) + ix*(len(block)+2)\n",
    "        center_ixs_retrain.append(np.mean(x_ixs))\n",
    "        color = '#555555'\n",
    "        if ix == label_u:\n",
    "            color = 'darkgreen'\n",
    "        plt.bar(x_ixs, block, color=color)\n",
    "\n",
    "\n",
    "    ax=plt.gca()\n",
    "    plt.ylim((-.05, 1.05))\n",
    "    ax.set_xticks(center_ixs_retrain)\n",
    "    ax.set_xticklabels([make_xlabel(k, label_u) for k in range(_K)])\n",
    "    ax.set_title(\"Predicted class probabilities for node {} after {} perturbations\\n({} re-trainings)\".format(u, n_perturbations, retrain_iters))\n",
    "    plt.tight_layout()\n",
    "    plt.show()\n",
    "    \n",
    "\n",
    "def make_xlabel(ix, correct):\n",
    "    if ix==correct:\n",
    "        return \"Class {}\\n(correct)\".format(ix)\n",
    "    return \"Class {}\".format(ix)"
   ]
  },
  {
   "cell_type": "code",
   "execution_count": 61,
   "metadata": {},
   "outputs": [
    {
     "data": {
      "image/png": "[encoded data removed]",
      "text/plain": [
       "<Figure size 864x288 with 2 Axes>"
      ]
     },
     "metadata": {
      "needs_background": "light"
     },
     "output_type": "display_data"
    }
   ],
   "source": [
    "plot(class_distrs_clean, class_distrs_retrain, retrain_iters, nettack.u, nettack.label_u)\n",
    "#clean, attacked = test_nettack(_A_obs, _X_obs, _z_obs, u,  n_perturbations, perturb_structure, perturb_features, direct_attack, n_influencers, \n",
    "#             split_train, split_val, split_unlabeled, verbose=False)\n"
   ]
  },
  {
   "cell_type": "markdown",
   "metadata": {},
   "source": [
    "### The $\\hat{P}$ matrix"
   ]
  },
  {
   "cell_type": "code",
   "execution_count": 62,
   "metadata": {},
   "outputs": [],
   "source": [
    "#number of communities/labels\n",
    "num_communities=_z_obs.max()+1"
   ]
  },
  {
   "cell_type": "code",
   "execution_count": 63,
   "metadata": {},
   "outputs": [
    {
     "name": "stdout",
     "output_type": "stream",
     "text": [
      "[[0.00762777 0.00157761 0.0011654  0.00042906 0.00057208 0.0015528 ]\n",
      " [0.00157761 0.00560994 0.00024493 0.00056838 0.00016239 0.00046983]\n",
      " [0.0011654  0.00024493 0.00588721 0.00016108 0.00072669 0.00030125]\n",
      " [0.00042906 0.00056838 0.00016108 0.00686121 0.00031534 0.00020292]\n",
      " [0.00057208 0.00016239 0.00072669 0.00031534 0.00699489 0.00134264]\n",
      " [0.0015528  0.00046983 0.00030125 0.00020292 0.00134264 0.0064512 ]]\n"
     ]
    }
   ],
   "source": [
    "#vector that stores the # of nodes for each community\n",
    "dim_communities=np.zeros(num_communities)\n",
    "#computes the values and fills the vector\n",
    "for i in range(num_communities):\n",
    "    dim_communities[i]=len(vertices[_z_obs==i])\n",
    "\n",
    "#upper triangular matrix of _A_obs,used to compute the ammount of links among members of \n",
    "#the same community\n",
    "temp=sp.triu(_A_obs,k=0).todense()\n",
    "#one can put norm=False is he wants to print the total number of links instead of the\n",
    "#normalized value (without the norm, the result is meaningless for the creation of the random graph) \n",
    "norm=True\n",
    "#p_hat=matrix that stores the estimated probabilities of presence of an edge that links members of \n",
    "#specified communities, that is, for each pair of communities i and j, the entry i,j of the matrix stores\n",
    "#the average value of the number of edges present in the graphs that link members of the communities i and j\n",
    "#respectively over the number of all possible edges among the 2 communities (that in the case of 2 \n",
    "#different communities is equal to dim_comm_i*dim_comm_j).\n",
    "#The average is computed also for the entries i,i that represent an estimation of the probability of an edge that link \n",
    "#2 members of community i.\n",
    "p_hat=np.zeros([num_communities,num_communities])\n",
    "#for each community\n",
    "for i in range(num_communities):\n",
    "    #total number of edges that link members of community i \n",
    "    p_hat[i][i]=temp[_z_obs==i][:,_z_obs==i].sum()\n",
    "    #this value has to be normalized over the total number of possible edges that link\n",
    "    #members of the same community, that is dim_i(dim_i-1)/2= (dim_i)(dim_i-1)/2\n",
    "    if norm:    \n",
    "        p_hat[i][i]=2*p_hat[i][i]/(dim_communities[i]*(dim_communities[i]-1))\n",
    "    #for all the other communities\n",
    "    for j in range(i+1, num_communities):\n",
    "        #total number of edges that link a member of community i and a member of community j\n",
    "        p_hat[i][j]=_A_obs[_z_obs==i][:,_z_obs==j].sum()\n",
    "        #over all the possible links, that is dim_i*dim_j\n",
    "        if norm:\n",
    "            p_hat[i][j]=p_hat[i][j]/(dim_communities[i]*dim_communities[j])\n",
    "        p_hat[j][i]=p_hat[i][j]\n",
    "\n",
    "print_avg=True\n",
    "if(print_avg):\n",
    "    print(p_hat)"
   ]
  },
  {
   "cell_type": "markdown",
   "metadata": {},
   "source": [
    "### The $\\tilde{P}$ matrix\n",
    "In order to study the importance and the effects of edge densities and community structure, we either strengthen or weaken the ties within communities."
   ]
  },
  {
   "cell_type": "code",
   "execution_count": 64,
   "metadata": {},
   "outputs": [
    {
     "name": "stdout",
     "output_type": "stream",
     "text": [
      "The community that is most connected is: \n",
      "0 3\n",
      "The community that is less connected is: \n",
      "1 0\n"
     ]
    }
   ],
   "source": [
    "#we will call strongest_comm the community that has the highest probability to have an edges\n",
    "#that link members of the same community\n",
    "\n",
    "strongest_comm=np.argmax(np.diag(p_hat))\n",
    "temp=(p_hat-np.diag(np.diag(p_hat))).sum(axis=1)\n",
    "#print(temp)\n",
    "strongest_comm_2=np.argmax(np.diag(p_hat)-temp)\n",
    "#stongest_comm=np.argmax(np.diag(p_hat))\n",
    "#weakest_comm has the lowest probability\n",
    "weakest_comm=np.argmin(np.diag(p_hat))\n",
    "weakest_comm_2=np.argmin(np.diag(p_hat)-temp)\n",
    "print(\"The community that is most connected is: \")\n",
    "print(strongest_comm, strongest_comm_2)\n",
    "print(\"The community that is less connected is: \")\n",
    "print(weakest_comm, weakest_comm_2)"
   ]
  },
  {
   "cell_type": "code",
   "execution_count": 65,
   "metadata": {},
   "outputs": [],
   "source": [
    "#community=range(num_communities)\n",
    "community=[0]\n",
    "strong=True\n",
    "n=1"
   ]
  },
  {
   "cell_type": "code",
   "execution_count": 66,
   "metadata": {},
   "outputs": [
    {
     "name": "stdout",
     "output_type": "stream",
     "text": [
      "p_hat matrix for the citeseer dataset:\n",
      "[[0.00762777 0.00157761 0.0011654  0.00042906 0.00057208 0.0015528 ]\n",
      " [0.00157761 0.00560994 0.00024493 0.00056838 0.00016239 0.00046983]\n",
      " [0.0011654  0.00024493 0.00588721 0.00016108 0.00072669 0.00030125]\n",
      " [0.00042906 0.00056838 0.00016108 0.00686121 0.00031534 0.00020292]\n",
      " [0.00057208 0.00016239 0.00072669 0.00031534 0.00699489 0.00134264]\n",
      " [0.0015528  0.00046983 0.00030125 0.00020292 0.00134264 0.0064512 ]]\n",
      "Modified matrix:\n",
      "[[0.01639969 0.00107636 0.00066414 0.         0.00007083 0.00105154]\n",
      " [0.00107636 0.00560994 0.00024493 0.00056838 0.00016239 0.00046983]\n",
      " [0.00066414 0.00024493 0.00588721 0.00016108 0.00072669 0.00030125]\n",
      " [0.         0.00056838 0.00016108 0.00686121 0.00031534 0.00020292]\n",
      " [0.00007083 0.00016239 0.00072669 0.00031534 0.00699489 0.00134264]\n",
      " [0.00105154 0.00046983 0.00030125 0.00020292 0.00134264 0.0064512 ]]\n"
     ]
    }
   ],
   "source": [
    "p_hat_2=np.copy(p_hat)\n",
    "\n",
    "for i in community:\n",
    "    #n=sum(_z_obs==i)/4\n",
    "    if strong:\n",
    "        p_hat_2[i][i]=p_hat_2[i][i]+n/(sum(_z_obs==i)-1)\n",
    "        sum_not_i=sum(_z_obs!=i)\n",
    "        for j in range(num_communities):\n",
    "            if j!=i:\n",
    "                p_hat_2[i][j]=p_hat_2[i][j]-n/sum_not_i\n",
    "                if p_hat_2[i][j]<0:\n",
    "                    p_hat_2[i][j]=0\n",
    "                p_hat_2[j][i]=p_hat_2[i][j]\n",
    "    else:\n",
    "        p_hat_2[i][i]=p_hat_2[i][i]-n/(sum(_z_obs==i)-1)\n",
    "        if p_hat_2[i][i]<0:\n",
    "            p_hat_2[i][i]=0\n",
    "        sum_not_i=sum(_z_obs!=i)\n",
    "        for j in range(num_communities):\n",
    "            if j!=i:\n",
    "                p_hat_2[i][j]=p_hat_2[i][j]+n/sum_not_i\n",
    "                p_hat_2[j][i]=p_hat_2[i][j]\n",
    "    \n",
    "print_changes=True\n",
    "np.set_printoptions(suppress=True)\n",
    "if print_changes:\n",
    "    print(\"p_hat matrix for the \" + dataset+\" dataset:\")\n",
    "    print(p_hat)\n",
    "    print(\"Modified matrix:\")\n",
    "    print(p_hat_2)\n"
   ]
  },
  {
   "cell_type": "markdown",
   "metadata": {},
   "source": [
    "### The Stochastic Block Models generation\n",
    "Once we have <i> p_hat_2 </i>, we can generate a second SBM with a comparable average degree where edges more common within communities than between communities (or less common, depending on the boolean parameter <i> strong </i>)"
   ]
  },
  {
   "cell_type": "code",
   "execution_count": 67,
   "metadata": {},
   "outputs": [],
   "source": [
    "degrees_hat_2=np.zeros(N)\n",
    "degrees_hat=np.zeros(N)\n",
    "n_matrices=1\n",
    "for i in range(n_matrices):\n",
    "    #generate a SBM based on the p_hat we just computed and the node labels/community membership\n",
    "    rg=sbm.SBM(N, _z_obs.max()+1, _z_obs, p_hat, p_hat_2)\n",
    "    _A_obs_hat=sp.csr_matrix(rg.block_matrix)\n",
    "    _A_obs_hat_2=sp.csr_matrix(rg.block_matrix_2)\n",
    "    \n",
    "    #update/compute statistics\n",
    "    temp_neighbors=[]\n",
    "    temp_degrees=np.zeros(N)\n",
    "    for i in range(N):\n",
    "        temp_neighbors.append(_A_obs_hat[i].nonzero()[1])\n",
    "        temp_degrees[i]=len(temp_neighbors[i])\n",
    "        degrees_hat[i]+=temp_degrees[i]\n",
    "        \n",
    "    temp_neighbors_2=[]\n",
    "    temp_degrees_2=np.zeros(N)\n",
    "    for i in range(N):\n",
    "        temp_neighbors_2.append(_A_obs_hat_2[i].nonzero()[1])\n",
    "        temp_degrees_2[i]=len(temp_neighbors_2[i])\n",
    "        degrees_hat_2[i]+=temp_degrees_2[i]\n",
    "\n",
    "degrees_hat=degrees_hat/n_matrices\n",
    "degrees_hat_2=degrees_hat_2/n_matrices    "
   ]
  },
  {
   "cell_type": "markdown",
   "metadata": {},
   "source": [
    "### A comparison"
   ]
  },
  {
   "cell_type": "markdown",
   "metadata": {},
   "source": [
    "In this section, we compute some statistics over the original dataset and the random graphs that we just  in order to compare them. Considering how they both were built, it is not surprising that the  One can decide if to print them or not through the boolean variable <i>print_stats</i>."
   ]
  },
  {
   "cell_type": "code",
   "execution_count": 68,
   "metadata": {},
   "outputs": [
    {
     "name": "stdout",
     "output_type": "stream",
     "text": [
      "STATISTICS OVER THE INPUT DATA\n",
      "# nodes with 0 degree: 0\n",
      "# nodes with 1 degree: 530\n",
      "# nodes with 2 degree: 571\n",
      "# nodes with 3 degree: 351\n",
      "# nodes with degree less than average: 1452\n",
      "# nodes with degree greater than average: 658\n",
      "max degree: 99.0\n",
      "average degree: 3.476777251184834\n",
      "degree average for community 0 : 2.965217391304348\n",
      "degree average for community 1 : 3.2721382289416847\n",
      "degree average for community 2 : 3.054123711340206\n",
      "degree average for community 3 : 2.6842105263157894\n",
      "degree average for community 4 : 4.646616541353383\n",
      "degree average for community 5 : 3.2694805194805197\n",
      "\n",
      "STATISTICS OVER THE RANDOM GRAPH\n",
      "# nodes with 0 degree: 86\n",
      "# nodes with 1 degree: 238\n",
      "# nodes with 2 degree: 379\n",
      "# nodes with 3 degree: 440\n",
      "# nodes with degree less than average: 1143\n",
      "# nodes with degree greater than average: 967\n",
      "max degree: 16.0\n",
      "average degree: 3.5118483412322274\n",
      "average degree for community 0 : 2.747826086956522\n",
      "average degree for community 1 : 3.31317494600432\n",
      "average degree for community 2 : 3.134020618556701\n",
      "average degree for community 3 : 2.7565789473684212\n",
      "average degree for community 4 : 4.661654135338346\n",
      "average degree for community 5 : 3.331168831168831\n",
      "\n",
      "STATISTICS OVER THE MODIFIED RANDOM GRAPH\n",
      "# nodes with 0 degree: 85\n",
      "# nodes with 1 degree: 246\n",
      "# nodes with 2 degree: 383\n",
      "# nodes with 3 degree: 445\n",
      "# nodes with degree less than average: 1159\n",
      "# nodes with degree greater than average: 951\n",
      "max degree: 16.0\n",
      "average degree: 3.4777251184834124\n",
      "average degree for community 0 : 2.8956521739130436\n",
      "average degree for community 1 : 3.2678185745140387\n",
      "average degree for community 2 : 3.0850515463917527\n",
      "average degree for community 3 : 2.713815789473684\n",
      "average degree for community 4 : 4.62781954887218\n",
      "average degree for community 5 : 3.272727272727273\n"
     ]
    }
   ],
   "source": [
    "print_stats=True\n",
    "if(print_stats):\n",
    "    print(\"STATISTICS OVER THE INPUT DATA\")\n",
    "    for i in range(4):\n",
    "        print(\"# nodes with\",i,\"degree:\",(degrees==i).sum())\n",
    "    print(\"# nodes with degree less than average:\",(degrees<sum(degrees)/len(degrees)).sum())\n",
    "    print(\"# nodes with degree greater than average:\",(degrees>sum(degrees)/len(degrees)).sum())\n",
    "    print(\"max degree:\",max(degrees))\n",
    "    #print(neighbors[np.argmax(degrees)])\n",
    "    #print(np.argmax(degrees))\n",
    "    print(\"average degree:\",sum(degrees)/len(degrees))\n",
    "    for i in range(num_communities):\n",
    "        print(\"degree average for community\",i,\":\",sum(degrees[vertices[_z_obs==i]])/len(degrees[vertices[_z_obs==i]]))\n",
    "\n",
    "print_stats_rg=True\n",
    "if(print_stats_rg):\n",
    "    print(\"\\nSTATISTICS OVER THE RANDOM GRAPH\")\n",
    "    print(\"# nodes with 0 degree:\",(degrees_hat<1).sum())\n",
    "    for i in range(1,4):\n",
    "        print(\"# nodes with\",i,\"degree:\", (degrees_hat<i+1).sum()-(degrees_hat<i).sum())\n",
    "\n",
    "    print(\"# nodes with degree less than average:\",(degrees_hat<sum(degrees_hat)/len(degrees_hat)).sum())\n",
    "    j=10\n",
    "    print(\"# nodes with degree greater than average:\",(degrees_hat>sum(degrees_hat)/len(degrees_hat)).sum())\n",
    "    print(\"max degree:\",(max(degrees_hat)))\n",
    "    print(\"average degree:\",(sum(degrees_hat)/len(degrees_hat)))\n",
    "    for i in range(num_communities):\n",
    "        print(\"average degree for community\",i,\":\",sum(degrees_hat[vertices[_z_obs==i]])/len(degrees_hat[vertices[_z_obs==i]]))\n",
    "\n",
    "\n",
    "print_stats_rg_2=True\n",
    "if(print_stats_rg_2):\n",
    "    print(\"\\nSTATISTICS OVER THE MODIFIED RANDOM GRAPH\")\n",
    "    print(\"# nodes with 0 degree:\",(degrees_hat_2<1).sum())\n",
    "    for i in range(1,4):\n",
    "        print(\"# nodes with\",i,\"degree:\", (degrees_hat_2<i+1).sum()-(degrees_hat_2<i).sum())\n",
    "\n",
    "    print(\"# nodes with degree less than average:\",(degrees_hat_2<sum(degrees_hat_2)/len(degrees_hat_2)).sum())\n",
    "    j=10\n",
    "    print(\"# nodes with degree greater than average:\",(degrees_hat_2>sum(degrees_hat_2)/len(degrees_hat_2)).sum())\n",
    "    print(\"max degree:\",(max(degrees_hat_2)))\n",
    "    print(\"average degree:\",(sum(degrees_hat_2)/len(degrees_hat_2)))\n",
    "    for i in range(num_communities):\n",
    "        print(\"average degree for community\",i,\":\",sum(degrees_hat_2[vertices[_z_obs==i]])/len(degrees_hat_2[vertices[_z_obs==i]]))\n",
    "        \n"
   ]
  },
  {
   "cell_type": "markdown",
   "metadata": {},
   "source": [
    "<a id='data_preprocessing'></a>\n",
    "### Data preprocessing"
   ]
  },
  {
   "cell_type": "code",
   "execution_count": 69,
   "metadata": {},
   "outputs": [],
   "source": [
    "def intersection(lst1, lst2): \n",
    "    lst3 = [value for value in lst1 if value in lst2] \n",
    "    return lst3 "
   ]
  },
  {
   "cell_type": "code",
   "execution_count": 70,
   "metadata": {},
   "outputs": [
    {
     "name": "stdout",
     "output_type": "stream",
     "text": [
      "Selecting 1 largest connected components\n",
      "Selecting 1 largest connected components\n",
      "Number of nodes in the intersection of the 2 largerst connected components: 2003\n"
     ]
    }
   ],
   "source": [
    "#we select just the largest connected component    \n",
    "lcc_1= utils.largest_connected_components(_A_obs_hat)\n",
    "lcc_2= utils.largest_connected_components(_A_obs_hat_2)\n",
    "lcc=intersection(lcc_1,lcc_2)\n",
    "_A_obs_hat = _A_obs_hat[lcc][:,lcc]\n",
    "_A_obs_hat_2 = _A_obs_hat_2[lcc][:,lcc]\n",
    "_X_obs_hat = _X_obs[lcc].astype('float32')\n",
    "_z_obs_hat = _z_obs[lcc]\n",
    "\n",
    "#number of vertices\n",
    "N = _A_obs_hat.shape[0]\n",
    "print(\"Number of nodes in the intersection of the 2 largerst connected components:\",N)"
   ]
  },
  {
   "cell_type": "code",
   "execution_count": 71,
   "metadata": {},
   "outputs": [],
   "source": [
    "seed = 15\n",
    "unlabeled_share = 0.8\n",
    "val_share = 0.1\n",
    "train_share = 1 - unlabeled_share - val_share\n",
    "np.random.seed(seed)\n",
    "split_train, split_val, split_unlabeled = utils.train_val_test_split_tabular(np.arange(N),\n",
    "                                                                       train_size=train_share,\n",
    "                                                                       val_size=val_share,\n",
    "                                                                       test_size=unlabeled_share,\n",
    "                                                                       stratify=_z_obs_hat)"
   ]
  },
  {
   "cell_type": "markdown",
   "metadata": {},
   "source": [
    "### Choose the node to attack"
   ]
  },
  {
   "cell_type": "code",
   "execution_count": 100,
   "metadata": {},
   "outputs": [
    {
     "name": "stdout",
     "output_type": "stream",
     "text": [
      "Neighbors of 669 in the non-modified SBM: [ 604  630  952 1311 1386 1496 1939]\n",
      "Labels of the neighbors: [2 4 4 4 4 4 4]\n",
      "Neighbors of 669 in the modified SBM: [ 604  630  952 1311 1386 1496 1939]\n",
      "Labels of the neighbors: [2 4 4 4 4 4 4]\n"
     ]
    }
   ],
   "source": [
    "set_deg=5\n",
    "\n",
    "#degrees and neighbors\n",
    "neighbors_hat=[]\n",
    "degrees_hat=np.zeros(N)\n",
    "for i in range(N):\n",
    "    neighbors_hat.append(_A_obs_hat[i].nonzero()[1])\n",
    "    degrees_hat[i]=len(neighbors_hat[i])\n",
    "    \n",
    "#degrees and neighbors\n",
    "neighbors_hat_2=[]\n",
    "degrees_hat_2=np.zeros(N)\n",
    "for i in range(N):\n",
    "    neighbors_hat_2.append(_A_obs_hat_2[i].nonzero()[1])\n",
    "    degrees_hat_2[i]=len(neighbors_hat_2[i])\n",
    "\n",
    "vertices=np.array(range(N))\n",
    "#u = random.choice(vertices[degrees_hat==set_deg]) # node to attack \n",
    "indices= _z_obs==community[0]\n",
    "for c in community:\n",
    "    indices= [ indices[i] or _z_obs_hat[i]==c for i in range(len(_z_obs_hat))]\n",
    "\n",
    "u = random.choice(vertices[np.multiply(indices ,degrees_hat>set_deg)])\n",
    "assert u in split_unlabeled\n",
    "deg=degrees_hat[u]\n",
    "print(\"Neighbors of\", u, \"in the non-modified SBM:\",neighbors_hat[u])\n",
    "print(\"Labels of the neighbors:\",_z_obs_hat[neighbors_hat[u]])\n",
    "print(\"Neighbors of\", u, \"in the modified SBM:\",neighbors_hat_2[u])\n",
    "print(\"Labels of the neighbors:\",_z_obs_hat[neighbors_hat_2[u]])\n",
    "\n",
    "train_1=False\n",
    "train_2=False"
   ]
  },
  {
   "cell_type": "markdown",
   "metadata": {},
   "source": [
    "### Data preprocessing e general nettack set up"
   ]
  },
  {
   "cell_type": "code",
   "execution_count": 73,
   "metadata": {},
   "outputs": [],
   "source": [
    "_K = _z_obs.max()+1\n",
    "_Z_obs_hat = np.eye(_K)[_z_obs_hat]\n",
    "sizes = [16, _K]"
   ]
  },
  {
   "cell_type": "code",
   "execution_count": 74,
   "metadata": {},
   "outputs": [],
   "source": [
    "direct_attack = True\n",
    "n_influencers = 1 if direct_attack else 5\n",
    "perturb_features = False    \n",
    "perturb_structure = True"
   ]
  },
  {
   "cell_type": "code",
   "execution_count": 75,
   "metadata": {},
   "outputs": [],
   "source": [
    "verbose = False\n",
    "retrain_iters=5"
   ]
  },
  {
   "cell_type": "markdown",
   "metadata": {},
   "source": [
    "### Attack of u on SBM($\\hat{P}$)"
   ]
  },
  {
   "cell_type": "code",
   "execution_count": 78,
   "metadata": {},
   "outputs": [],
   "source": [
    "n_perturbations=int(degrees_hat[u]/2)\n",
    "_An_hat = utils.preprocess_graph(_A_obs_hat)"
   ]
  },
  {
   "cell_type": "code",
   "execution_count": 79,
   "metadata": {},
   "outputs": [],
   "source": [
    "train_1=True\n",
    "\n",
    "#Train surrogate model (i.e. GCN without nonlinear activation)\n",
    "surrogate_model_1 = GCN.GCN(sizes, _An_hat, _X_obs_hat, with_relu=False, name=\"surrogate\", gpu_id=gpu_id)\n",
    "surrogate_model_1.train(split_train, split_val, _Z_obs_hat, print_info=verbose)\n",
    "W1_1 =surrogate_model_1.W1.eval(session=surrogate_model_1.session)\n",
    "W2_1 =surrogate_model_1.W2.eval(session=surrogate_model_1.session)\n",
    "    \n",
    "#Setup Nettack\n",
    "nettack_1 = ntk.Nettack(_A_obs_hat, _X_obs_hat, _z_obs_hat, W1_1, W2_1, u, verbose)\n",
    "    \n",
    "#Poison the data\n",
    "nettack_1.reset()\n",
    "nettack_1.attack_surrogate(n_perturbations, perturb_structure=perturb_structure, perturb_features=perturb_features, direct=direct_attack, n_influencers=n_influencers)\n",
    "    \n",
    "#Print perturbations\n",
    "if verbose:\n",
    "    print(\"Structure perturbations:\",nettack_1.structure_perturbations)\n",
    "    print(\"Features perturbations:\", nettack_1.feature_perturbations)\n",
    "    \n",
    "#Train GCN without perturbations\n",
    "if verbose:\n",
    "    print(\"Train GCN without perturbations\")\n",
    "\n",
    "classification_margins_clean_1 = []\n",
    "class_distrs_clean_1 = []\n",
    "gcn_before_1 = GCN.GCN(sizes, _An_hat, _X_obs_hat, \"gcn_orig\", gpu_id=gpu_id)\n",
    "for _ in range(retrain_iters):\n",
    "    if verbose:\n",
    "        print(\"... {}/{} \".format(_+1, retrain_iters))\n",
    "    gcn_before_1.train(split_train, split_val, _Z_obs_hat, print_info=verbose)\n",
    "    probs_before_attack_1 = gcn_before_1.predictions.eval(session=gcn_before_1.session,feed_dict={gcn_before_1.node_ids: [nettack_1.u]})[0]\n",
    "    class_distrs_clean_1.append(probs_before_attack_1)\n",
    "    #best_second_class_before_1 = (probs_before_attack_1 - 1000*_Z_obs_hat[nettack_1.u]).argmax()\n",
    "    #margin_before_1 = probs_before_attack_1[_z_obs_hat[nettack_1.u]] - probs_before_attack_1[best_second_class_before_1]\n",
    "    #classification_margins_clean_1.append(margin_before_1)\n",
    "\n",
    "class_distrs_clean_1 = np.array(class_distrs_clean_1)\n",
    "\n",
    "#Train GCN with perturbations\n",
    "if verbose:\n",
    "    print(\"Train GCN with perturbations\")\n",
    "classification_margins_corrupted_1 = []\n",
    "class_distrs_retrain_1 = []\n",
    "gcn_retrain_1 = GCN.GCN(sizes, nettack_1.adj_preprocessed, nettack_1.X_obs.tocsr(), \"gcn_retrain\", gpu_id=gpu_id)\n",
    "for _ in range(retrain_iters):\n",
    "    if verbose:    \n",
    "        print(\"... {}/{} \".format(_+1, retrain_iters))\n",
    "    gcn_retrain_1.train(split_train, split_val, _Z_obs_hat, print_info=verbose)\n",
    "    probs_after_attack_1 = gcn_retrain_1.predictions.eval(session=gcn_retrain_1.session,feed_dict={gcn_retrain_1.node_ids: [nettack_1.u]})[0]\n",
    "    #best_second_class_after_1 = (probs_after_attack_1 - 1000*_Z_obs_hat[nettack_1.u]).argmax()\n",
    "    #margin_after_1 = probs_after_attack_1[_z_obs_hat[nettack_1.u]] - probs_after_attack_1[best_second_class_after_1]\n",
    "    class_distrs_retrain_1.append(probs_after_attack_1)\n",
    "    #classification_margins_corrupted_1.append(margin_after_1)\n",
    "class_distrs_retrain_1 = np.array(class_distrs_retrain_1)"
   ]
  },
  {
   "cell_type": "markdown",
   "metadata": {},
   "source": [
    "### Attack of u on SBM($\\tilde{P}$)"
   ]
  },
  {
   "cell_type": "code",
   "execution_count": 80,
   "metadata": {},
   "outputs": [],
   "source": [
    "n_perturbations=int(degrees_hat_2[u]/2)\n",
    "_An_hat_2 = utils.preprocess_graph(_A_obs_hat_2)"
   ]
  },
  {
   "cell_type": "code",
   "execution_count": 81,
   "metadata": {},
   "outputs": [],
   "source": [
    "train_2=True \n",
    "#Train surrogate model (i.e. GCN without nonlinear activation)\n",
    "surrogate_model_2 = GCN.GCN(sizes, _An_hat_2, _X_obs_hat, with_relu=False, name=\"surrogate\", gpu_id=gpu_id)\n",
    "surrogate_model_2.train(split_train, split_val, _Z_obs_hat, print_info=verbose)\n",
    "W1_2 =surrogate_model_2.W1.eval(session=surrogate_model_2.session)\n",
    "W2_2 =surrogate_model_2.W2.eval(session=surrogate_model_2.session)\n",
    "    \n",
    "#Setup Nettack\n",
    "nettack_2 = ntk.Nettack(_A_obs_hat_2, _X_obs_hat, _z_obs_hat, W1_2, W2_2, u, verbose)\n",
    "    \n",
    "#Poison the data\n",
    "nettack_2.reset()\n",
    "nettack_2.attack_surrogate(n_perturbations, perturb_structure=perturb_structure, perturb_features=perturb_features, direct=direct_attack, n_influencers=n_influencers)\n",
    "    \n",
    "#Print perturbations\n",
    "if verbose:\n",
    "    print(\"Structure perturbations:\",nettack_2.structure_perturbations)\n",
    "    print(\"Features perturbations:\", nettack_2.feature_perturbations)\n",
    "    \n",
    "#Train GCN without perturbations\n",
    "if verbose:\n",
    "    print(\"Train GCN without perturbations\")\n",
    "\n",
    "classification_margins_clean_2 = []\n",
    "class_distrs_clean_2 = []\n",
    "gcn_before_2 = GCN.GCN(sizes, _An_hat_2, _X_obs_hat, \"gcn_orig\", gpu_id=gpu_id)\n",
    "for _ in range(retrain_iters):\n",
    "    if verbose:\n",
    "        print(\"... {}/{} \".format(_+1, retrain_iters))\n",
    "    gcn_before_2.train(split_train, split_val, _Z_obs_hat, print_info=verbose)\n",
    "    probs_before_attack_2 = gcn_before_2.predictions.eval(session=gcn_before_2.session,feed_dict={gcn_before_2.node_ids: [nettack_2.u]})[0]\n",
    "    class_distrs_clean_2.append(probs_before_attack_2)\n",
    "    #best_second_class_before_2 = (probs_before_attack_2 - 1000*_Z_obs_hat[nettack_2.u]).argmax()\n",
    "    #margin_before_2 = probs_before_attack_2[_z_obs_hat[nettack_1.u]] - probs_before_attack_2[best_second_class_before_2]\n",
    "    #classification_margins_clean_2.append(margin_before_2)\n",
    "\n",
    "class_distrs_clean_2 = np.array(class_distrs_clean_2)\n",
    "\n",
    "#Train GCN with perturbations\n",
    "if verbose:\n",
    "    print(\"Train GCN with perturbations\")\n",
    "classification_margins_corrupted_2 = []\n",
    "class_distrs_retrain_2 = []\n",
    "gcn_retrain_2 = GCN.GCN(sizes, nettack_2.adj_preprocessed, nettack_2.X_obs.tocsr(), \"gcn_retrain\", gpu_id=gpu_id)\n",
    "for _ in range(retrain_iters):\n",
    "    if verbose:    \n",
    "        print(\"... {}/{} \".format(_+1, retrain_iters))\n",
    "    gcn_retrain_2.train(split_train, split_val, _Z_obs_hat, print_info=verbose)\n",
    "    probs_after_attack_2 = gcn_retrain_2.predictions.eval(session=gcn_retrain_2.session,feed_dict={gcn_retrain_2.node_ids: [nettack_2.u]})[0]\n",
    "    #best_second_class_after_2 = (probs_after_attack_2 - 1000*_Z_obs_hat[nettack_2.u]).argmax()\n",
    "    #margin_after_2 = probs_after_attack_2[_z_obs_hat[nettack_2.u]] - probs_after_attack_2[best_second_class_after_2]\n",
    "    class_distrs_retrain_2.append(probs_after_attack_2)\n",
    "    #classification_margins_corrupted_2.append(margin_after_2)\n",
    "class_distrs_retrain_2 = np.array(class_distrs_retrain_2)"
   ]
  },
  {
   "cell_type": "markdown",
   "metadata": {},
   "source": [
    "### Visualize and compare the results"
   ]
  },
  {
   "cell_type": "code",
   "execution_count": 82,
   "metadata": {},
   "outputs": [
    {
     "data": {
      "image/png": "[encoded data removed]",
      "text/plain": [
       "<Figure size 864x288 with 2 Axes>"
      ]
     },
     "metadata": {
      "needs_background": "light"
     },
     "output_type": "display_data"
    },
    {
     "data": {
      "image/png": "[encoded data removed]",
      "text/plain": [
       "<Figure size 864x288 with 2 Axes>"
      ]
     },
     "metadata": {
      "needs_background": "light"
     },
     "output_type": "display_data"
    }
   ],
   "source": [
    "plot(class_distrs_clean_1, class_distrs_retrain_1, retrain_iters, nettack_1.u, nettack_1.label_u)\n",
    "plot(class_distrs_clean_2, class_distrs_retrain_2, retrain_iters, nettack_2.u, nettack_2.label_u)"
   ]
  },
  {
   "cell_type": "code",
   "execution_count": 83,
   "metadata": {},
   "outputs": [],
   "source": [
    "#u_hat_2=random.choice(vertices[np.multiply(degrees_hat_2==deg,_z_obs==_z_obs[u])])\n",
    "#n_perturbations=int(degrees_hat_2[u]/2)\n",
    "#[clean, attacked]=test_nettack(_A_obs_hat_2, _X_obs_hat, _z_obs_hat, u,  n_perturbations, perturb_structure, perturb_features, direct_attack, n_influencers, \n",
    "#             split_train, split_val, split_unlabeled, verbose=True)"
   ]
  },
  {
   "cell_type": "markdown",
   "metadata": {},
   "source": [
    "### Experiments"
   ]
  },
  {
   "cell_type": "code",
   "execution_count": 84,
   "metadata": {},
   "outputs": [],
   "source": [
    "indices= _z_obs==community[0]\n",
    "attacked_nodes = vertices[[indices[i]  and degrees_hat[i]>1 and degrees_hat_2[i]>1 for i in range(N)]]\n",
    "tot=len(attacked_nodes)\n"
   ]
  },
  {
   "cell_type": "code",
   "execution_count": 85,
   "metadata": {},
   "outputs": [],
   "source": [
    " #DATA PREPROCESSING\n",
    "_An_1=_An_hat\n",
    "_An_2=_An_hat_2\n",
    "#_An_1 = utils.preprocess_graph(_A_obs_hat)\n",
    "#_An_2 = utils.preprocess_graph(_A_obs_hat_2)"
   ]
  },
  {
   "cell_type": "code",
   "execution_count": 88,
   "metadata": {},
   "outputs": [],
   "source": [
    "#surrogate model of SBM 1 - needed for nettack\n",
    "\n",
    "if not train_1:\n",
    "    surrogate_model_1 = GCN.GCN(sizes, _An_1, _X_obs_hat, with_relu=False, name=\"surrogate\", gpu_id=gpu_id)\n",
    "    surrogate_model_1.train(split_train, split_val, _Z_obs_hat, print_info=False)\n",
    "    W1_1 =surrogate_model_1.W1.eval(session=surrogate_model_1.session)\n",
    "    W2_1 =surrogate_model_1.W2.eval(session=surrogate_model_1.session)\n",
    "    \n",
    "    #Train GCN without perturbations\n",
    "    gcn_before_1 = GCN.GCN(sizes, _An_1, _X_obs_hat, \"gcn_orig\", gpu_id=gpu_id)\n",
    "    gcn_before_1.train(split_train, split_val, _Z_obs_hat, print_info=False)\n",
    "\n",
    "if not train_2:\n",
    "    #surrogate model of SBM 2 - needed for nettack\n",
    "    surrogate_model_2 = GCN.GCN(sizes, _An_2, _X_obs_hat, with_relu=False, name=\"surrogate\", gpu_id=gpu_id)\n",
    "    surrogate_model_2.train(split_train, split_val, _Z_obs_hat, print_info=False)\n",
    "    W1_2 =surrogate_model_2.W1.eval(session=surrogate_model_2.session)\n",
    "    W2_2 =surrogate_model_2.W2.eval(session=surrogate_model_2.session)\n",
    "    \n",
    "    #Train GCN without perturbations\n",
    "    gcn_before_2 = GCN.GCN(sizes, _An_2, _X_obs_hat, \"gcn_orig\", gpu_id=gpu_id)\n",
    "    gcn_before_2.train(split_train, split_val, _Z_obs_hat, print_info=False)\n",
    "\n",
    "    "
   ]
  },
  {
   "cell_type": "code",
   "execution_count": 89,
   "metadata": {},
   "outputs": [
    {
     "name": "stdout",
     "output_type": "stream",
     "text": [
      "More edges within communities\n",
      "\n",
      "Iteration: 2 / 101\n",
      "Iteration: 3 / 101\n",
      "Iteration: 5 / 101\n",
      "Iteration: 6 / 101\n",
      "Iteration: 7 / 101\n",
      "Iteration: 8 / 101\n",
      "Iteration: 9 / 101\n",
      "Iteration: 11 / 101\n",
      "Iteration: 12 / 101\n",
      "Iteration: 13 / 101\n",
      "Iteration: 14 / 101\n",
      "Iteration: 15 / 101\n",
      "Iteration: 16 / 101\n",
      "Iteration: 17 / 101\n",
      "Iteration: 18 / 101\n",
      "Iteration: 19 / 101\n",
      "Iteration: 20 / 101\n",
      "Iteration: 21 / 101\n",
      "Iteration: 22 / 101\n",
      "Iteration: 23 / 101\n",
      "Iteration: 24 / 101\n",
      "Iteration: 25 / 101\n",
      "Iteration: 26 / 101\n",
      "Iteration: 27 / 101\n",
      "Iteration: 28 / 101\n",
      "Iteration: 29 / 101\n",
      "Iteration: 30 / 101\n",
      "Iteration: 31 / 101\n",
      "Iteration: 32 / 101\n",
      "Iteration: 33 / 101\n",
      "Iteration: 34 / 101\n",
      "Iteration: 36 / 101\n",
      "Iteration: 37 / 101\n",
      "Iteration: 38 / 101\n",
      "Iteration: 39 / 101\n",
      "Iteration: 40 / 101\n",
      "Iteration: 41 / 101\n",
      "Iteration: 42 / 101\n",
      "Iteration: 43 / 101\n",
      "Iteration: 44 / 101\n",
      "Iteration: 45 / 101\n",
      "Iteration: 46 / 101\n",
      "Iteration: 47 / 101\n",
      "Iteration: 48 / 101\n",
      "Iteration: 49 / 101\n",
      "Iteration: 50 / 101\n",
      "Iteration: 51 / 101\n",
      "Iteration: 52 / 101\n",
      "Iteration: 54 / 101\n",
      "Iteration: 55 / 101\n",
      "Iteration: 56 / 101\n",
      "Iteration: 57 / 101\n",
      "Iteration: 58 / 101\n",
      "Iteration: 60 / 101\n",
      "Iteration: 62 / 101\n",
      "Iteration: 63 / 101\n",
      "Iteration: 64 / 101\n",
      "Iteration: 65 / 101\n",
      "Iteration: 66 / 101\n",
      "Iteration: 68 / 101\n",
      "Iteration: 69 / 101\n",
      "Iteration: 70 / 101\n",
      "Iteration: 71 / 101\n",
      "Iteration: 72 / 101\n",
      "Iteration: 73 / 101\n",
      "Iteration: 74 / 101\n",
      "Iteration: 75 / 101\n",
      "Iteration: 76 / 101\n",
      "Iteration: 77 / 101\n",
      "Iteration: 78 / 101\n",
      "Iteration: 79 / 101\n",
      "Iteration: 80 / 101\n",
      "Iteration: 81 / 101\n",
      "Iteration: 82 / 101\n",
      "Iteration: 83 / 101\n",
      "Iteration: 84 / 101\n",
      "Iteration: 85 / 101\n",
      "Iteration: 86 / 101\n",
      "Iteration: 87 / 101\n",
      "Iteration: 89 / 101\n",
      "Iteration: 91 / 101\n",
      "Iteration: 92 / 101\n",
      "Iteration: 93 / 101\n",
      "Iteration: 95 / 101\n",
      "Iteration: 96 / 101\n",
      "Iteration: 97 / 101\n",
      "Iteration: 98 / 101\n",
      "Iteration: 99 / 101\n",
      "Iteration: 100 / 101\n",
      "Iteration: 101 / 101\n",
      "# of correct classified nodes: 90\n",
      "# of correct classified nodes in the second graph 91\n",
      "# of successful attacks  55\n",
      "# of successful attacks in the second graph 59\n"
     ]
    }
   ],
   "source": [
    "stamp=False\n",
    "correct=0\n",
    "mod_correct=0\n",
    "mod_mis=0\n",
    "mis=0\n",
    "succ_att=0\n",
    "mod_succ_att=0\n",
    "i=0\n",
    "limit=500\n",
    "\n",
    "if strong:\n",
    "    print(\"More edges within communities\\n\")\n",
    "else:\n",
    "    print(\"More edges between communities\\n\")\n",
    "\n",
    "\n",
    "for u in attacked_nodes:  \n",
    "    if i ==limit:\n",
    "        break\n",
    "    if stamp:\n",
    "        print(\"Iteration:\",i,\"/\", tot)\n",
    "    i+=1\n",
    "    \n",
    "    ###### AVERAGE COMMUNITIES ########\n",
    "    n_perturbations=int(degrees_hat[u]/2)\n",
    "    if stamp:\n",
    "        print(\"Testing nettack on the clean random graph (\", n_perturbations, \"perturbations)\")\n",
    "        print(\"Attacked node:\",u,\", class:\",_z_obs_hat[u],\", neighbors:\", neighbors_hat[u], \"with class\", _z_obs_hat[neighbors_hat[u]])\n",
    "    \n",
    "    \n",
    "    clean_1 = gcn_before_1.predictions.eval(session=gcn_before_1.session,feed_dict={gcn_before_1.node_ids: [u]})[0]\n",
    "       #[clean_1, attacked_1]=test_nettack(_A_obs_hat, _X_obs_hat, _z_obs_hat, u,  n_perturbations, perturb_structure, perturb_features, direct_attack, n_influencers, \n",
    "    #         split_train, split_val, split_unlabeled, verbose=False, plot=False)\n",
    "    \n",
    "    #if(np.argmax(np.sum(clean_1,axis=1))==_z_obs_hat[u]):\n",
    "    if(np.argmax(clean_1)==_z_obs_hat[u]):\n",
    "        correct+=1\n",
    "        print(\"Iteration:\",i,\"/\", tot)\n",
    "        #Set up nettack \n",
    "        #NOTE: W1_1 and W_2 are the same for all the attacks and are computed in the previous step\n",
    "        nettack_1 = ntk.Nettack(_A_obs_hat, _X_obs_hat, _z_obs_hat, W1_1, W2_1, u,verbose=False)\n",
    "        #Poison the data\n",
    "        nettack_1.reset()\n",
    "        nettack_1.attack_surrogate(n_perturbations, perturb_structure=perturb_structure, \n",
    "                               perturb_features=perturb_features, direct=direct_attack, n_influencers=n_influencers)\n",
    "        gcn_retrain_1 = GCN.GCN(sizes, nettack_1.adj_preprocessed, nettack_1.X_obs.tocsr(), \n",
    "                                \"gcn_retrain\", gpu_id=gpu_id)\n",
    "        gcn_retrain_1.train(split_train, split_val, _Z_obs_hat, print_info=False)\n",
    "        attacked_1 = gcn_retrain_1.predictions.eval(session=gcn_retrain_1.session,\n",
    "                                                    feed_dict={gcn_retrain_1.node_ids: [nettack_1.u]})[0]\n",
    "        #if(np.argmax(np.sum(attacked_1,axis=1))!=_z_obs_hat[u]):\n",
    "        if(np.argmax(attacked_1)!=_z_obs_hat[u]):\n",
    "            succ_att+=1\n",
    "    else:\n",
    "        mis+=1\n",
    "            \n",
    "    if stamp:\n",
    "        if(np.argmax(clean_1)==_z_obs_hat[u]):\n",
    "            print(\"Correct classified\")\n",
    "            if(np.argmax(attacked_1)!=_z_obs_hat[u]):\n",
    "                print(\"Successful attack\\n\")\n",
    "            else:\n",
    "                print(\"Unsuccessful attack\\n\")\n",
    "        else:\n",
    "            print(\"Misclassified\")\n",
    "        \n",
    "            \n",
    "    ######## MODIFIED COMMUNITIES ##########\n",
    "    n_perturbations=int(degrees_hat_2[u]/2)\n",
    "    if stamp:\n",
    "        print(\"Testing nettack on the modified random graph (\", n_perturbations, \"perturbations)\")\n",
    "        print(\"Attacked node:\",u, \", class:\",_z_obs_hat[u],\", neighbors:\", neighbors_hat_2[u], \"with class\",_z_obs_hat[neighbors_hat_2[u]])\n",
    "\n",
    "    clean_2 = gcn_before_2.predictions.eval(session=gcn_before_2.session,feed_dict={gcn_before_2.node_ids: [u]})[0]\n",
    "    \n",
    "    #if(np.argmax(np.sum(clean_2,axis=1))==_z_obs_hat[u]):\n",
    "    if(np.argmax(clean_2)==_z_obs_hat[u]):\n",
    "        mod_correct+=1\n",
    "        \n",
    "        #Set up nettack \n",
    "        #NOTE: W1_1 and W_2 are the same for all the attacks and are computed in the previous step\n",
    "        nettack_2 = ntk.Nettack(_A_obs_hat_2, _X_obs_hat, _z_obs_hat, W1_2, W2_2, u, verbose=False)\n",
    "        #Poison the data\n",
    "        nettack_2.reset()\n",
    "        nettack_2.attack_surrogate(n_perturbations, perturb_structure=perturb_structure, \n",
    "                                   perturb_features=perturb_features, direct=direct_attack, \n",
    "                                   n_influencers=n_influencers)\n",
    "    \n",
    "        gcn_retrain_2 = GCN.GCN(sizes, nettack_2.adj_preprocessed, nettack_2.X_obs.tocsr(), \"gcn_retrain\", \n",
    "                                gpu_id=gpu_id)\n",
    "        gcn_retrain_2.train(split_train, split_val, _Z_obs_hat, print_info=False)\n",
    "        attacked_2 = gcn_retrain_2.predictions.eval(session=gcn_retrain_2.session,\n",
    "                                                feed_dict={gcn_retrain_2.node_ids: [nettack_2.u]})[0]\n",
    "        #if(np.argmax(np.sum(attacked_2,axis=1))!=_z_obs_hat[u]):\n",
    "        if(np.argmax(attacked_2)!=_z_obs_hat[u]):\n",
    "            mod_succ_att+=1\n",
    "    else:\n",
    "        mod_mis+=1\n",
    "    \n",
    "    if stamp:\n",
    "        if(np.argmax(clean_2)==_z_obs_hat[u]):\n",
    "            print(\"Correct classified\")\n",
    "            if(np.argmax(attacked_2)!=_z_obs_hat[u]):\n",
    "                print(\"Successful attack\\n\")\n",
    "            else:\n",
    "                print(\"Unsuccessful attack\\n\")\n",
    "        else:\n",
    "            print(\"Misclassified\")\n",
    "        \n",
    "        \n",
    "    \n",
    "print(\"# of correct classified nodes:\",correct)\n",
    "print(\"# of correct classified nodes in the second graph\", mod_correct)\n",
    "print(\"# of successful attacks \", succ_att)\n",
    "print(\"# of successful attacks in the second graph\", mod_succ_att)"
   ]
  },
  {
   "cell_type": "code",
   "execution_count": 90,
   "metadata": {},
   "outputs": [
    {
     "name": "stdout",
     "output_type": "stream",
     "text": [
      "#### CASE N = 1 , n_perturbations=degree/2, strong= True  ####\n",
      "# of tested nodes: 101\n",
      "# of correct classified nodes in the first dataset: 90 , accuracy: 0.8910891089108911\n",
      "# of correct classified nodes in the second dataset: 91 , accuracy: 0.900990099009901\n",
      "# of successful attacks in the first dataset: 55 , accuracy: 0.6111111111111112\n",
      "# of successful attacks in the second dataset: 59 , accuracy: 0.6483516483516484\n"
     ]
    }
   ],
   "source": [
    "print(\"#### CASE N =\", n, \", n_perturbations=degree/2, strong=\", strong, \" ####\" )\n",
    "print(\"# of tested nodes:\", tot)\n",
    "print(\"# of correct classified nodes in the first dataset:\",correct, \", accuracy:\", correct/tot)\n",
    "print(\"# of correct classified nodes in the second dataset:\", mod_correct, \", accuracy:\", mod_correct/tot)\n",
    "print(\"# of successful attacks in the first dataset:\", succ_att, \", accuracy:\", succ_att/correct)\n",
    "print(\"# of successful attacks in the second dataset:\", mod_succ_att, \", accuracy:\", mod_succ_att/mod_correct)"
   ]
  },
  {
   "cell_type": "code",
   "execution_count": 99,
   "metadata": {},
   "outputs": [],
   "source": [
    "name=\"Experiment\"+str(2)\n",
    "f=open(name,\"w+\")\n",
    "f.write(\"#### CASE N=\"+ str(n)+ \", n_perturbations=degree/2, strong=\" + str(strong)+ \" on \" +dataset+\" ####\\n\" )\n",
    "f.write(\"# of tested nodes:\"+str(tot)+ \"\\n\")\n",
    "f.write(\"# of correct classified nodes in the first dataset:\"+str(correct)+ \", accuracy:\"+str(correct/tot)+ \"\\n\")\n",
    "f.write(\"# of correct classified nodes in the second dataset:\"+str(mod_correct)+ \", accuracy:\"+str(mod_correct/tot)+ \"\\n\")\n",
    "f.write(\"# of successful attacks in the first dataset:\" +str(succ_att)+ \", accuracy:\"+ str(succ_att/correct)+ \"\\n\")\n",
    "f.write(\"# of successful attacks in the second dataset:\"+str(mod_succ_att)+ \", accuracy:\" + str(mod_succ_att/mod_correct)+ \"\\n\")\n",
    "f.close()"
   ]
  },
  {
   "cell_type": "code",
   "execution_count": null,
   "metadata": {},
   "outputs": [],
   "source": []
  }
 ],
 "metadata": {
  "kernelspec": {
   "display_name": "Python 3",
   "language": "python",
   "name": "python3"
  },
  "language_info": {
   "codemirror_mode": {
    "name": "ipython",
    "version": 3
   },
   "file_extension": ".py",
   "mimetype": "text/x-python",
   "name": "python",
   "nbconvert_exporter": "python",
   "pygments_lexer": "ipython3",
   "version": "3.7.3"
  }
 },
 "nbformat": 4,
 "nbformat_minor": 2
}
