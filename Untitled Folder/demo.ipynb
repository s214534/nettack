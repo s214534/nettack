{
 "cells": [
  {
   "cell_type": "code",
   "execution_count": 3,
   "metadata": {},
   "outputs": [],
   "source": [
    "from matplotlib import pyplot as plt\n",
    "%matplotlib inline\n",
    "from nettack import utils, GCN\n",
    "from nettack import nettack as ntk\n",
    "import numpy as np\n",
    "gpu_id = None # set this to your desired GPU ID if you want to use GPU computations (only for the GCN/surrogate training)\n",
    "\n",
    "#our code\n",
    "from importlib import reload \n",
    "import random\n",
    "from nettack import sbm\n",
    "import scipy.sparse as sp\n"
   ]
  },
  {
   "cell_type": "markdown",
   "metadata": {},
   "source": [
    "### Load network, basic setup"
   ]
  },
  {
   "cell_type": "code",
   "execution_count": 4,
   "metadata": {},
   "outputs": [],
   "source": [
    "def gen_sbm(num_vertices, num_communities, community_labels):\n",
    "    #num_vertices = _A_obs.shape[0]  # number of unique vertices\n",
    "    #num_communities = 5  # number of communities\n",
    "    \n",
    "    #community_labels = np.zeros(num_vertices)   # community label assigned to each vertices\n",
    "    #for i in range(num_communities):\n",
    "    #    for j in range(int(num_vertices/num_communities)):\n",
    "    #        community_labels[j+i*int(num_vertices/num_communities)]=i\n",
    "    #print(int(community_labels))\n",
    "    \n",
    "    #p_matrix =np.array( [\n",
    "    #  [.7, .1, .1, .1, .1],\n",
    "    #  [.1, .7, .1,.1,.1],\n",
    "    #    [.1, .1, .7,.1,.1],\n",
    "    #    [.1, .1, .1,.7,.1],\n",
    "    #    [.1, .1, .1,.1,.7]\n",
    "    #])\n",
    "    \n",
    "    p_matrix=np.eye(num_communities)\n",
    "    p_matrix[p_matrix==1]=.1\n",
    "    p_matrix[p_matrix==0]=.001\n",
    "    #print(p_matrix)\n",
    "    \n",
    "    #community_labels=community_labels.astype(int)\n",
    "    return sbm.SBM(num_vertices, num_communities, community_labels, p_matrix)"
   ]
  },
  {
   "cell_type": "code",
   "execution_count": 30,
   "metadata": {},
   "outputs": [
    {
     "name": "stdout",
     "output_type": "stream",
     "text": [
      "Selecting 1 largest connected components\n",
      "  (0, 0)\t1.0\n",
      "  (0, 253)\t1.0\n",
      "  (0, 285)\t1.0\n",
      "  (0, 850)\t1.0\n",
      "  (0, 894)\t1.0\n",
      "  (0, 1063)\t1.0\n",
      "  (0, 1222)\t1.0\n",
      "  (0, 1436)\t1.0\n",
      "  (0, 1437)\t1.0\n",
      "  (0, 1638)\t1.0\n",
      "  (0, 1639)\t1.0\n",
      "  (0, 2012)\t1.0\n",
      "  (1, 393)\t1.0\n",
      "  (1, 1523)\t1.0\n",
      "  (1, 1733)\t1.0\n",
      "  (2, 3)\t1.0\n",
      "  (2, 1357)\t1.0\n",
      "  (2, 1366)\t1.0\n",
      "  (3, 2)\t1.0\n",
      "  (3, 1874)\t1.0\n",
      "  (4, 488)\t1.0\n",
      "  (4, 712)\t1.0\n",
      "  (4, 734)\t1.0\n",
      "  (4, 982)\t1.0\n",
      "  (4, 1785)\t1.0\n",
      "  :\t:\n",
      "  (2103, 2102)\t1.0\n",
      "  (2104, 245)\t1.0\n",
      "  (2104, 2105)\t1.0\n",
      "  (2105, 245)\t1.0\n",
      "  (2105, 663)\t1.0\n",
      "  (2105, 2104)\t1.0\n",
      "  (2106, 976)\t1.0\n",
      "  (2107, 1694)\t1.0\n",
      "  (2107, 1904)\t1.0\n",
      "  (2107, 1944)\t1.0\n",
      "  (2107, 2006)\t1.0\n",
      "  (2107, 2075)\t1.0\n",
      "  (2108, 560)\t1.0\n",
      "  (2108, 725)\t1.0\n",
      "  (2108, 1311)\t1.0\n",
      "  (2108, 1388)\t1.0\n",
      "  (2108, 1437)\t1.0\n",
      "  (2108, 1515)\t1.0\n",
      "  (2108, 1534)\t1.0\n",
      "  (2109, 113)\t1.0\n",
      "  (2109, 669)\t1.0\n",
      "  (2109, 1027)\t1.0\n",
      "  (2109, 1350)\t1.0\n",
      "  (2109, 1858)\t1.0\n",
      "  (2109, 1927)\t1.0\n",
      "0\n",
      "99.0\n",
      "[  17   25   49   63   80  144  151  157  214  218  241  250  261  268\n",
      "  370  384  393  394  398  399  420  441  448  450  484  506  518  523\n",
      "  538  543  545  559  568  575  578  592  685  717  718  755  804  805\n",
      "  816  852  863  893  948  950  962  976  980  989 1000 1018 1019 1021\n",
      " 1052 1056 1067 1069 1092 1095 1147 1165 1195 1199 1252 1271 1295 1386\n",
      " 1400 1401 1410 1423 1440 1452 1453 1455 1456 1459 1464 1466 1475 1509\n",
      " 1545 1552 1611 1612 1665 1668 1670 1685 1842 1867 1873 1895 1898 1949\n",
      " 2085]\n",
      "862\n",
      "3.5014218009478673\n",
      "[[0.00778828 0.00157761 0.0011654  0.00042906 0.00057208 0.0015528 ]\n",
      " [0.00157761 0.00563048 0.00024493 0.00056838 0.00016239 0.00046983]\n",
      " [0.0011654  0.00024493 0.00601153 0.00016108 0.00072669 0.00030125]\n",
      " [0.00042906 0.00056838 0.00016108 0.0068711  0.00031534 0.00020292]\n",
      " [0.00057208 0.00016239 0.00072669 0.00031534 0.00701001 0.00134264]\n",
      " [0.0015528  0.00046983 0.00030125 0.00020292 0.00134264 0.00653567]]\n",
      "0.008610872529270544\n",
      "3.1082474226804124\n",
      "71\n",
      "13.0\n",
      "3.4720379146919433\n"
     ]
    }
   ],
   "source": [
    "def gen_p_matrix(degrees, neighbors, num_communities, community_labels):\n",
    "    #initialization of the matrix\n",
    "    avg_p_matrix=np.zeros([num_communities,num_communities])\n",
    "    #avg_p_matrix_overall=np.zeros(num_communities)\n",
    "    \n",
    "    #N=number of vertices\n",
    "    N=len(neighbors)\n",
    "    #initialize the vector of vertices' indices\n",
    "    vertices=np.array(range(0,N))\n",
    "    #for each community (label)\n",
    "    dens_communities=np.zeros(num_communities)\n",
    "    for i in range(num_communities):\n",
    "        dens_communities[i]=len(vertices[community_labels==i])\n",
    "    \n",
    "    for i in range(num_communities):\n",
    "        #n=vertices[community_labels==i].sum()\n",
    "        n=0\n",
    "        \n",
    "        #for each vertex in that community(label)\n",
    "        for v in vertices[community_labels==i]:\n",
    "                flag=0\n",
    "                n=n+1\n",
    "                avg_p_matrix[i,i]+=(community_labels[neighbors[v]]==i).sum()#/(N-1)\n",
    "                #avg_p_matrix[i,i]+=(community_labels[neighbors[v]]==i).sum()/degrees[v]\n",
    "                \n",
    "                #avg_p_matrix_overall[i,i]=(community_labels[neighbors[v]]==i).sum()/N\n",
    "                if flag==1:\n",
    "                    print(neighbors[v])\n",
    "                    print(community_labels[neighbors[v]])\n",
    "                    print((community_labels[neighbors[v]]==i).sum()/N)\n",
    "                    print((community_labels[neighbors[v]]==i).sum()/degrees[v])\n",
    "                    flag=0\n",
    "                    \n",
    "                for j in range(num_communities):\n",
    "                    if i!=j:\n",
    "                        avg_p_matrix[i,j]+=(community_labels[neighbors[v]]==j).sum()#/(N-1)\n",
    "                        #avg_p_matrix[i,j]+=(community_labels[neighbors[v]]==j).sum()/degrees[v]\n",
    "                        \n",
    "                        #if (i==0 and j==1) or (i==1 and j==0):\n",
    "                            #print(neighbors[v])\n",
    "                            #print(community_labels[neighbors[v]])\n",
    "                            #print((community_labels[neighbors[v]]==j).sum()/degrees[v])\n",
    "                    #flag=0\n",
    "                #print((community_labels[neighbors[v]]==i).shape[0])\n",
    "        \n",
    "        avg_p_matrix[i,:]=avg_p_matrix[i,:]/n\n",
    "        for j in range(num_communities):\n",
    "            avg_p_matrix[i,j]=avg_p_matrix[i,j]/dens_communities[j]\n",
    "        #avg_p_matrix_overall[i,i]=avg_p_matrix_overall[i,i]/n\n",
    "    return avg_p_matrix#, avg_p_matrix_overall\n",
    "\n",
    "_A_obs, _X_obs, _z_obs = utils.load_npz('data/citeseer.npz')\n",
    "_A_obs = _A_obs + _A_obs.T\n",
    "_A_obs[_A_obs > 1] = 1\n",
    "\n",
    "#print(_A_obs)\n",
    "lcc = utils.largest_connected_components(_A_obs)\n",
    "_A_obs = _A_obs[lcc][:,lcc]\n",
    "_X_obs = _X_obs[lcc].astype('float32')\n",
    "_z_obs = _z_obs[lcc]\n",
    "print(_A_obs)\n",
    "#degrees = _A_obs.sum(0)#.A1\n",
    "#print(degrees)\n",
    "#print((degrees==0).sum())\n",
    "N=_A_obs.shape[0]\n",
    "#print(N)\n",
    "neighbors=[]\n",
    "degrees=np.zeros(N)\n",
    "#print(_A_obs)\n",
    "for i in range(N):\n",
    "    #if _A_obs[i].nonzero()[1]:\n",
    "    #    print\n",
    "    neighbors.append(_A_obs[i].nonzero()[1])\n",
    "    degrees[i]=len(neighbors[i])\n",
    "print((degrees==0).sum())\n",
    "print(max(degrees))\n",
    "print(neighbors[np.argmax(degrees)])\n",
    "print(np.argmax(degrees))\n",
    "print(sum(degrees)/len(degrees))\n",
    "\n",
    "community_distribution=gen_p_matrix(degrees, neighbors, _z_obs.max()+1, _z_obs )\n",
    "print(community_distribution)\n",
    "print(community_distribution[2,:].sum())\n",
    "vertices=np.array(range(0,N))\n",
    "l=degrees[vertices[_z_obs==2]]\n",
    "print(sum(l)/len(l))\n",
    "\n",
    "#print(_A_obs)\n",
    "\n",
    "#_A_obs=sp.csr_matrix(sbm.SBM(N, _z_obs.max()+1, _z_obs, (community_distribution+np.eye(_z_obs.max()+1)*100)/N).block_matrix)\n",
    "_A_obs=sp.csr_matrix(sbm.SBM(N, _z_obs.max()+1, _z_obs, community_distribution).block_matrix)\n",
    "#_A_obs = _A_obs + _A_obs.T\n",
    "#_A_obs[_A_obs > 1] = 1\n",
    "\n",
    "#print(_A_obs)\n",
    "neighbors=[]\n",
    "degrees=np.zeros(N)\n",
    "for i in range(N):\n",
    "    #if _A_obs[i].nonzero()[1]:\n",
    "    #    print\n",
    "    neighbors.append(_A_obs[i].nonzero()[1])\n",
    "    degrees[i]=len(neighbors[i])\n",
    "print((degrees==0).sum())\n",
    "print(max(degrees))\n",
    "print(sum(degrees)/len(degrees))\n",
    "#lcc = utils.largest_connected_components(_A_obs)\n",
    "#_A_obs = _A_obs[lcc][:,lcc]\n",
    "#print(_A_obs)"
   ]
  },
  {
   "cell_type": "code",
   "execution_count": 24,
   "metadata": {},
   "outputs": [
    {
     "name": "stdout",
     "output_type": "stream",
     "text": [
      "Selecting 1 largest connected components\n",
      "  (0, 0)\t1.0\n",
      "  (0, 253)\t1.0\n",
      "  (0, 285)\t1.0\n",
      "  (0, 850)\t1.0\n",
      "  (0, 894)\t1.0\n",
      "  (0, 1063)\t1.0\n",
      "  (0, 1222)\t1.0\n",
      "  (0, 1436)\t1.0\n",
      "  (0, 1437)\t1.0\n",
      "  (0, 1638)\t1.0\n",
      "  (0, 1639)\t1.0\n",
      "  (0, 2012)\t1.0\n",
      "  (1, 393)\t1.0\n",
      "  (1, 1523)\t1.0\n",
      "  (1, 1733)\t1.0\n",
      "  (2, 3)\t1.0\n",
      "  (2, 1357)\t1.0\n",
      "  (2, 1366)\t1.0\n",
      "  (3, 2)\t1.0\n",
      "  (3, 1874)\t1.0\n",
      "  (4, 488)\t1.0\n",
      "  (4, 712)\t1.0\n",
      "  (4, 734)\t1.0\n",
      "  (4, 982)\t1.0\n",
      "  (4, 1785)\t1.0\n",
      "  :\t:\n",
      "  (2103, 2102)\t1.0\n",
      "  (2104, 245)\t1.0\n",
      "  (2104, 2105)\t1.0\n",
      "  (2105, 245)\t1.0\n",
      "  (2105, 663)\t1.0\n",
      "  (2105, 2104)\t1.0\n",
      "  (2106, 976)\t1.0\n",
      "  (2107, 1694)\t1.0\n",
      "  (2107, 1904)\t1.0\n",
      "  (2107, 1944)\t1.0\n",
      "  (2107, 2006)\t1.0\n",
      "  (2107, 2075)\t1.0\n",
      "  (2108, 560)\t1.0\n",
      "  (2108, 725)\t1.0\n",
      "  (2108, 1311)\t1.0\n",
      "  (2108, 1388)\t1.0\n",
      "  (2108, 1437)\t1.0\n",
      "  (2108, 1515)\t1.0\n",
      "  (2108, 1534)\t1.0\n",
      "  (2109, 113)\t1.0\n",
      "  (2109, 669)\t1.0\n",
      "  (2109, 1027)\t1.0\n",
      "  (2109, 1350)\t1.0\n",
      "  (2109, 1858)\t1.0\n",
      "  (2109, 1927)\t1.0\n"
     ]
    }
   ],
   "source": [
    "#_A_obs, _X_obs, _z_obs = utils.load_npz('data/citeseer.npz')\n",
    "#_A_obs = _A_obs + _A_obs.T\n",
    "#_A_obs[_A_obs > 1] = 1\n",
    "#print(_A_obs)\n",
    "\n",
    "#print(_A_obs)\n",
    "degrees = _A_obs.sum(0).A1\n",
    "neighbors=[]\n",
    "for i in range(_A_obs.shape[0]):\n",
    "    neighbors.append(_A_obs[i].nonzero()[1])\n",
    "#print(neighbors)\n",
    "\n",
    "#print(_A_obs)\n",
    "#print(gen_sbm(_A_obs.shape[0],_z_obs.max()+1, _z_obs).block_matrix)\n",
    "#_A_obs=sp.csr_matrix(gen_sbm(_A_obs.shape[0],_z_obs.max()+1, _z_obs).block_matrix)\n",
    "#print(_A_obs)\n",
    "lcc = utils.largest_connected_components(_A_obs)\n",
    "_A_obs = _A_obs[lcc][:,lcc]\n",
    "print(_A_obs)\n",
    "assert np.abs(_A_obs - _A_obs.T).sum() == 0, \"Input graph is not symmetric\"\n",
    "assert _A_obs.max() == 1 and len(np.unique(_A_obs[_A_obs.nonzero()].A1)) == 1, \"Graph must be unweighted\"\n",
    "assert _A_obs.sum(0).A1.min() > 0, \"Graph contains singleton nodes\"\n",
    "\n",
    "_X_obs = _X_obs[lcc].astype('float32')\n",
    "_z_obs = _z_obs[lcc]\n",
    "_N = _A_obs.shape[0]\n",
    "_K = _z_obs.max()+1\n",
    "_Z_obs = np.eye(_K)[_z_obs]\n",
    "_An = utils.preprocess_graph(_A_obs)\n",
    "sizes = [16, _K]\n",
    "degrees = _A_obs.sum(0).A1\n",
    "\n",
    "seed = 15\n",
    "unlabeled_share = 0.8\n",
    "val_share = 0.1\n",
    "train_share = 1 - unlabeled_share - val_share\n",
    "np.random.seed(seed)\n",
    "\n",
    "split_train, split_val, split_unlabeled = utils.train_val_test_split_tabular(np.arange(_N),\n",
    "                                                                       train_size=train_share,\n",
    "                                                                       val_size=val_share,\n",
    "                                                                       test_size=unlabeled_share,\n",
    "                                                                       stratify=_z_obs)"
   ]
  },
  {
   "cell_type": "markdown",
   "metadata": {},
   "source": [
    "### Choose the node to attack"
   ]
  },
  {
   "cell_type": "code",
   "execution_count": 1,
   "metadata": {},
   "outputs": [
    {
     "ename": "NameError",
     "evalue": "name 'split_unlabeled' is not defined",
     "output_type": "error",
     "traceback": [
      "\u001b[1;31m---------------------------------------------------------------------------\u001b[0m",
      "\u001b[1;31mNameError\u001b[0m                                 Traceback (most recent call last)",
      "\u001b[1;32m<ipython-input-1-a74db4862691>\u001b[0m in \u001b[0;36m<module>\u001b[1;34m\u001b[0m\n\u001b[0;32m      1\u001b[0m \u001b[0mu\u001b[0m \u001b[1;33m=\u001b[0m \u001b[1;36m0\u001b[0m \u001b[1;31m# node to attack\u001b[0m\u001b[1;33m\u001b[0m\u001b[1;33m\u001b[0m\u001b[0m\n\u001b[1;32m----> 2\u001b[1;33m \u001b[1;32massert\u001b[0m \u001b[0mu\u001b[0m \u001b[1;32min\u001b[0m \u001b[0msplit_unlabeled\u001b[0m\u001b[1;33m\u001b[0m\u001b[1;33m\u001b[0m\u001b[0m\n\u001b[0m",
      "\u001b[1;31mNameError\u001b[0m: name 'split_unlabeled' is not defined"
     ]
    }
   ],
   "source": [
    "u = 0 # node to attack\n",
    "assert u in split_unlabeled"
   ]
  },
  {
   "cell_type": "markdown",
   "metadata": {},
   "source": [
    "### Train surrogate model (i.e. GCN without nonlinear activation)"
   ]
  },
  {
   "cell_type": "code",
   "execution_count": 15,
   "metadata": {},
   "outputs": [
    {
     "name": "stdout",
     "output_type": "stream",
     "text": [
      "WARNING:tensorflow:From C:\\Users\\Martina\\Desktop\\Secondo anno-Primo semestre\\Deep Learning on Computational Accelerators\\progetto\\nettack2\\nettack\\GCN.py:116: softmax_cross_entropy_with_logits (from tensorflow.python.ops.nn_ops) is deprecated and will be removed in a future version.\n",
      "Instructions for updating:\n",
      "\n",
      "Future major versions of TensorFlow will allow gradients to flow\n",
      "into the labels input on backprop by default.\n",
      "\n",
      "See `tf.nn.softmax_cross_entropy_with_logits_v2`.\n",
      "\n"
     ]
    },
    {
     "name": "stderr",
     "output_type": "stream",
     "text": [
      "WARNING:tensorflow:From C:\\Users\\Martina\\Desktop\\Secondo anno-Primo semestre\\Deep Learning on Computational Accelerators\\progetto\\nettack2\\nettack\\GCN.py:116: softmax_cross_entropy_with_logits (from tensorflow.python.ops.nn_ops) is deprecated and will be removed in a future version.\n",
      "Instructions for updating:\n",
      "\n",
      "Future major versions of TensorFlow will allow gradients to flow\n",
      "into the labels input on backprop by default.\n",
      "\n",
      "See `tf.nn.softmax_cross_entropy_with_logits_v2`.\n",
      "\n",
      "C:\\Users\\Martina\\Anaconda3\\envs\\cs236605-hw\\lib\\site-packages\\sklearn\\metrics\\classification.py:1135: UndefinedMetricWarning: F-score is ill-defined and being set to 0.0 in labels with no predicted samples.\n",
      "  'precision', 'predicted', average, warn_for)\n"
     ]
    },
    {
     "name": "stdout",
     "output_type": "stream",
     "text": [
      "converged after 45 iterations\n"
     ]
    }
   ],
   "source": [
    "surrogate_model = GCN.GCN(sizes, _An, _X_obs, with_relu=False, name=\"surrogate\", gpu_id=gpu_id)\n",
    "surrogate_model.train(split_train, split_val, _Z_obs)\n",
    "W1 =surrogate_model.W1.eval(session=surrogate_model.session)\n",
    "W2 =surrogate_model.W2.eval(session=surrogate_model.session)"
   ]
  },
  {
   "cell_type": "markdown",
   "metadata": {},
   "source": [
    "### Setup Nettack"
   ]
  },
  {
   "cell_type": "code",
   "execution_count": 16,
   "metadata": {},
   "outputs": [],
   "source": [
    "nettack = ntk.Nettack(_A_obs, _X_obs, _z_obs, W1, W2, u, verbose=True)"
   ]
  },
  {
   "cell_type": "code",
   "execution_count": 17,
   "metadata": {},
   "outputs": [],
   "source": [
    "direct_attack = True\n",
    "n_influencers = 1 if direct_attack else 5\n",
    "n_perturbations = int(degrees[u]/2) # How many perturbations to perform. Default: Degree of the node\n",
    "perturb_features = False\n",
    "perturb_structure = True"
   ]
  },
  {
   "cell_type": "markdown",
   "metadata": {},
   "source": [
    "### Poison the data"
   ]
  },
  {
   "cell_type": "code",
   "execution_count": 18,
   "metadata": {},
   "outputs": [
    {
     "name": "stdout",
     "output_type": "stream",
     "text": [
      "##### Starting attack #####\n",
      "##### Attack only using structure perturbations #####\n",
      "##### Attacking the node directly #####\n",
      "##### Performing 1 perturbations #####\n",
      "##### ...1/1 perturbations ... #####\n"
     ]
    }
   ],
   "source": [
    "nettack.reset()\n",
    "nettack.attack_surrogate(n_perturbations, perturb_structure=perturb_structure, perturb_features=perturb_features, direct=direct_attack, n_influencers=n_influencers)"
   ]
  },
  {
   "cell_type": "code",
   "execution_count": 154,
   "metadata": {},
   "outputs": [
    {
     "name": "stdout",
     "output_type": "stream",
     "text": [
      "[(0, 2022), (0, 833), (0, 2731), (0, 657), (0, 877), (0, 1895), (0, 1525), (0, 152), (0, 114), (0, 1735), (0, 3275), (0, 3143)]\n"
     ]
    }
   ],
   "source": [
    "print(nettack.structure_perturbations)"
   ]
  },
  {
   "cell_type": "code",
   "execution_count": 155,
   "metadata": {},
   "outputs": [
    {
     "name": "stdout",
     "output_type": "stream",
     "text": [
      "[(), (), (), (), (), (), (), (), (), (), (), ()]\n"
     ]
    }
   ],
   "source": [
    "print(nettack.feature_perturbations)"
   ]
  },
  {
   "cell_type": "markdown",
   "metadata": {},
   "source": [
    "### Train GCN without perturbations"
   ]
  },
  {
   "cell_type": "code",
   "execution_count": 156,
   "metadata": {},
   "outputs": [],
   "source": [
    "retrain_iters=5"
   ]
  },
  {
   "cell_type": "code",
   "execution_count": 157,
   "metadata": {},
   "outputs": [
    {
     "name": "stdout",
     "output_type": "stream",
     "text": [
      "... 1/5 \n",
      "converged after 37 iterations\n",
      "... 2/5 \n",
      "converged after 47 iterations\n",
      "... 3/5 \n",
      "converged after 41 iterations\n",
      "... 4/5 \n",
      "converged after 43 iterations\n",
      "... 5/5 \n",
      "converged after 44 iterations\n"
     ]
    }
   ],
   "source": [
    "classification_margins_clean = []\n",
    "class_distrs_clean = []\n",
    "gcn_before = GCN.GCN(sizes, _An, _X_obs, \"gcn_orig\", gpu_id=gpu_id)\n",
    "for _ in range(retrain_iters):\n",
    "    print(\"... {}/{} \".format(_+1, retrain_iters))\n",
    "    gcn_before.train(split_train, split_val, _Z_obs)\n",
    "    probs_before_attack = gcn_before.predictions.eval(session=gcn_before.session,feed_dict={gcn_before.node_ids: [nettack.u]})[0]\n",
    "    class_distrs_clean.append(probs_before_attack)\n",
    "    best_second_class_before = (probs_before_attack - 1000*_Z_obs[nettack.u]).argmax()\n",
    "    margin_before = probs_before_attack[_z_obs[nettack.u]] - probs_before_attack[best_second_class_before]\n",
    "    classification_margins_clean.append(margin_before)\n",
    "class_distrs_clean = np.array(class_distrs_clean)"
   ]
  },
  {
   "cell_type": "markdown",
   "metadata": {},
   "source": [
    "### Train GCN with perturbations\n",
    "(insert your favorite node classification algorithm here)"
   ]
  },
  {
   "cell_type": "code",
   "execution_count": 158,
   "metadata": {},
   "outputs": [
    {
     "name": "stdout",
     "output_type": "stream",
     "text": [
      "... 1/5 \n",
      "converged after 41 iterations\n",
      "... 2/5 \n",
      "converged after 41 iterations\n",
      "... 3/5 \n",
      "converged after 40 iterations\n",
      "... 4/5 \n",
      "converged after 40 iterations\n",
      "... 5/5 \n",
      "converged after 40 iterations\n"
     ]
    }
   ],
   "source": [
    "classification_margins_corrupted = []\n",
    "class_distrs_retrain = []\n",
    "gcn_retrain = GCN.GCN(sizes, nettack.adj_preprocessed, nettack.X_obs.tocsr(), \"gcn_retrain\", gpu_id=gpu_id)\n",
    "for _ in range(retrain_iters):\n",
    "    print(\"... {}/{} \".format(_+1, retrain_iters))\n",
    "    gcn_retrain.train(split_train, split_val, _Z_obs)\n",
    "    probs_after_attack = gcn_retrain.predictions.eval(session=gcn_retrain.session,feed_dict={gcn_retrain.node_ids: [nettack.u]})[0]\n",
    "    best_second_class_after = (probs_after_attack - 1000*_Z_obs[nettack.u]).argmax()\n",
    "    margin_after = probs_after_attack[_z_obs[nettack.u]] - probs_after_attack[best_second_class_after]\n",
    "    class_distrs_retrain.append(probs_after_attack)\n",
    "    classification_margins_corrupted.append(margin_after)\n",
    "class_distrs_retrain = np.array(class_distrs_retrain)"
   ]
  },
  {
   "cell_type": "markdown",
   "metadata": {},
   "source": [
    "### Visualize results"
   ]
  },
  {
   "cell_type": "code",
   "execution_count": 159,
   "metadata": {},
   "outputs": [
    {
     "data": {
      "image/png": "[encoded data removed]",
      "text/plain": [
       "<Figure size 864x288 with 2 Axes>"
      ]
     },
     "metadata": {
      "needs_background": "light"
     },
     "output_type": "display_data"
    }
   ],
   "source": [
    "def make_xlabel(ix, correct):\n",
    "    if ix==correct:\n",
    "        return \"Class {}\\n(correct)\".format(ix)\n",
    "    return \"Class {}\".format(ix)\n",
    "\n",
    "figure = plt.figure(figsize=(12,4))\n",
    "plt.subplot(1, 2, 1)\n",
    "center_ixs_clean = []\n",
    "for ix, block in enumerate(class_distrs_clean.T):\n",
    "    x_ixs= np.arange(len(block)) + ix*(len(block)+2)\n",
    "    center_ixs_clean.append(np.mean(x_ixs))\n",
    "    color = '#555555'\n",
    "    if ix == nettack.label_u:\n",
    "        color = 'darkgreen'\n",
    "    plt.bar(x_ixs, block, color=color)\n",
    "\n",
    "ax=plt.gca()\n",
    "plt.ylim((-.05, 1.05))\n",
    "plt.ylabel(\"Predicted probability\")\n",
    "ax.set_xticks(center_ixs_clean)\n",
    "ax.set_xticklabels([make_xlabel(k, nettack.label_u) for k in range(_K)])\n",
    "ax.set_title(\"Predicted class probabilities for node {} on clean data\\n({} re-trainings)\".format(nettack.u, retrain_iters))\n",
    "\n",
    "fig = plt.subplot(1, 2, 2)\n",
    "center_ixs_retrain = []\n",
    "for ix, block in enumerate(class_distrs_retrain.T):\n",
    "    x_ixs= np.arange(len(block)) + ix*(len(block)+2)\n",
    "    center_ixs_retrain.append(np.mean(x_ixs))\n",
    "    color = '#555555'\n",
    "    if ix == nettack.label_u:\n",
    "        color = 'darkgreen'\n",
    "    plt.bar(x_ixs, block, color=color)\n",
    "\n",
    "\n",
    "ax=plt.gca()\n",
    "plt.ylim((-.05, 1.05))\n",
    "ax.set_xticks(center_ixs_retrain)\n",
    "ax.set_xticklabels([make_xlabel(k, nettack.label_u) for k in range(_K)])\n",
    "ax.set_title(\"Predicted class probabilities for node {} after {} perturbations\\n({} re-trainings)\".format(nettack.u, n_perturbations, retrain_iters))\n",
    "plt.tight_layout()\n",
    "plt.show()"
   ]
  },
  {
   "cell_type": "code",
   "execution_count": null,
   "metadata": {},
   "outputs": [],
   "source": []
  },
  {
   "cell_type": "code",
   "execution_count": null,
   "metadata": {},
   "outputs": [],
   "source": []
  },
  {
   "cell_type": "code",
   "execution_count": null,
   "metadata": {},
   "outputs": [],
   "source": []
  }
 ],
 "metadata": {
  "kernelspec": {
   "display_name": "Python 3",
   "language": "python",
   "name": "python3"
  },
  "language_info": {
   "codemirror_mode": {
    "name": "ipython",
    "version": 3
   },
   "file_extension": ".py",
   "mimetype": "text/x-python",
   "name": "python",
   "nbconvert_exporter": "python",
   "pygments_lexer": "ipython3",
   "version": "3.7.3"
  }
 },
 "nbformat": 4,
 "nbformat_minor": 2
}
