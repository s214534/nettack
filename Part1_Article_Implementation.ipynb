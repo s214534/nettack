{
 "cells": [
  {
   "cell_type": "markdown",
   "metadata": {},
   "source": [
    "# <b> Final Project - Glassman Yair, Vanelli Martina </b>\n",
    "<h2 style=\"color:#C40233\"> <b> CS236605: Deep Learning </b> </h2>"
   ]
  },
  {
   "cell_type": "markdown",
   "metadata": {},
   "source": [
    "## <b> Adversarial Attacks on Neural Networks for Graph data </b>\n",
    "#### <i> Daniel Zügner, Amir Akbarnejad, Stephan Günnemann </i> - 12 June 2018"
   ]
  },
  {
   "cell_type": "markdown",
   "metadata": {},
   "source": [
    "<h3 style=\"color:#C40233\"> <b> Semi-supervised node classification task </b> </h3>\n",
    "\n",
    "The authors considered a semi-supervised node classification task in a single large graph having <b> binary node features </b>. Formally, let $G=(A,X)$ be an attributed graph with $A\\in \\{0,1\\}^{n\\ \\times\\  n}$ representing the connections (adjacency matrix) and $X\\in \\{0,1\\}^{n \\ \\times \\ D}$ representing the nodes’ features. Given a subset $\\mathcal{V}_L\\subseteq \\mathcal{V}=\\{1,\\dots,n\\}$ of labeled nodes with class labels from $C=\\{1,2,...,c_K\\}$, the aim of node classification is to learn a function $g:\\mathcal{V}\\rightarrow C$ that labels each node to one class.\n",
    " "
   ]
  },
  {
   "cell_type": "markdown",
   "metadata": {},
   "source": [
    "<h3 style=\"color:#C40233\">  <b> GCN model </b> </h3>"
   ]
  },
  {
   "cell_type": "markdown",
   "metadata": {},
   "source": [
    "The authors focused on node classification employing <b> graph convolution layers </b>. In particular, they considered the model proposed in [Semi-supervised classification with graph convolutional networks](https://arxiv.org/pdf/1609.02907.pdf) and they built a GCN with a single hidden layer with the following structure:\n",
    "$$\n",
    "Z=f_0(A,X)=\\text{softmax}(\\hat{A}\\sigma(\\hat{A}XW^{(1)})W^{(2)})\n",
    "$$\n",
    "where $\\hat{A}=\\tilde{D}^{-\\frac{1}{2}}\\tilde{A}\\tilde{D}^{\\frac{1}{2}}$, $\\tilde{A}=A+I$, $\\tilde{D}=\\sum_j \\tilde{A}_{jj}$, $\\sigma(\\cdot)=\\text{ReLU}(\\cdot)$.\n",
    "The output $Z_{vc}$ denotes the probability of assigning node $v$ to class $c$.\n",
    "\n",
    "The optimal parameters $\\theta=\\{W^{(1)}, W^{(2)}\\}$ are learned by minimizing <b> cross-entropy </b> on the output of the labeled samples $\\mathcal{V}_L$. After training, $Z$ denotes the class probabilities for every instance in the graph."
   ]
  },
  {
   "cell_type": "markdown",
   "metadata": {},
   "source": [
    "<h3 style=\"color:#C40233\"> <b> The attack definition </b> </h3>"
   ]
  },
  {
   "cell_type": "markdown",
   "metadata": {},
   "source": [
    "Given the previous node classification setting, the goal of the authors was to attack a specific <b>target node</b> $v_0\\in \\mathcal{V}$ by performing small perturbations on the graph $G=(A, X)$ in order to generate a corrupted graph $G'=(A',X')$ \n",
    "where $v_0$'s prediction changes and the classification performance drops.\n",
    "\n",
    "Changes to $A$ are called <font color=#C40233>structure attacks</font>, while changes to $X$ are called <font color=#C40233>feature attacks</font>.\n",
    "\n",
    "The perturbations on $G$ are constrained to a set of <font color=#C40233>attacker nodes</font> $\\mathcal{A} \\subseteq \\mathcal{V}$, namely \n",
    "$$\n",
    "X′_{ui}\\neq X_{ui}\\Rightarrow u\\in \\mathcal{A} \\text{, } A′_{uv}\\neq A_{uv} \\Rightarrow u\\in \\mathcal{A}\\vee v \\in \\mathcal{A}\n",
    "$$\n",
    "If the target $v_0\\notin A$, we are dealing with an <font color=#C40233>influencer attack</font> since $v_0$ cannot be manipulated directly, but only indirectly via some influencers. If ${v_0}=A$, it is called a <font color=#C40233>direct attack</font>.\n",
    "\n",
    "They set a budget $\\Delta$ that limits the number of allowed changes:\n",
    "$$\n",
    "\\sum_u \\sum_i |X_{ui}−X′_{ui}|+\\sum_{u<v}|A_{uv}−A′_{uv}| \\leq \\Delta\n",
    "$$\n",
    "\n",
    "Moreover, in order to have <b>unnoticeable perturbations</b>, the authors set two more constraints (that are described in detail in the paper):\n",
    "- They guaranteed to generate perturbations that preserve the <b>degree distribution</b> of the original graph through a statistical test.\n",
    "- They also managed to preserve the feature statistics through a test based on <b>feature co-occurrences</b>.\n",
    "\n"
   ]
  },
  {
   "cell_type": "markdown",
   "metadata": {},
   "source": [
    "<h3 style=\"color:#C40233\"> <b> The optimization problem </b> </h3>"
   ]
  },
  {
   "cell_type": "markdown",
   "metadata": {},
   "source": [
    "We recall that the authors aimed to solve the following discrete optimization problem. \n",
    "\n",
    "<b>Problem.</b> Given a graph $G=(A,X)$, a target node $v_0$ and attacker nodes $\\mathcal{A}$. Let $c_{old}$ denote the class for $v_0$ based on the graph $G$ (predicted or using some ground truth) and $P^{G^*}_{\\Delta,\\mathcal{A}}$ be the set of the graphs that respect the constraints based on the set of attackers $\\mathcal{A}$, the budget $\\Delta$ and the unnoticeable perturbations.<br>\n",
    "Determine\n",
    "$$\n",
    "G'=\\text{argmax}_{(A′,X′)\\in P^{G^*}_{\\Delta,\\mathcal{A}}} \\text{max}_{c\\neq c_{old}} \\text{ln}Z^∗_{v_0,c}−\\text{ln}Z^∗_{v_0,c_{old}}\n",
    "$$\n",
    "subject to $Z^∗=f_{\\theta^*}(A′,X′)$ with $\\theta^∗=\\text{argmin}_\\theta L(θ;A′,X′)$.\n",
    "\n",
    "<b>Note:</b>\n",
    "In this version of the optimization problem, there is a bi-level optimization problem since $\\theta^∗$ is determined based on $A'$ and $X'$ ( <font color=#C40233> poisoning attack </font>) . As a simpler variant, one can also consider an  <font color=#C40233>evasion attack</font> assuming the parameters are static and learned based on the old graph, $\\theta^∗=\\text{argmin}_\\theta L(\\theta;A,X)$.\n",
    "\n",
    "Since solving this problem is highly challenging due to the discreteness of the data and the large number of parameters in $\\theta$, the authors proposed a sequential approach where they first attack a surrogate model. They use this as an argument for transferability: indeed, the attack was effective even if it was not based on the attacked model. The authors experimented the attack also against other models. <br> \n",
    "The surrogate model is a linearization of the previous model:\n",
    "$$\n",
    "Z'=\\text{softmax}(\\hat{A}\\hat{A}XW^{(1)}W^{(2)})=\\text{softmax}(\\hat{A}^2XW)\n",
    "$$\n",
    "The authors chose to solve the new surrogate optimization problem through a greedy algorithm: at each step, they efficiently computed the scores (based on the surrogate loss) for each feasible change in structure or in features in order to find the best attack at the point. This procedure is repeated until the budget $\\Delta$ is reached. The algorithm is explained in detail in the paper."
   ]
  },
  {
   "cell_type": "markdown",
   "metadata": {},
   "source": [
    "<h3 style=\"color:#C40233\"> <b> Experiments and results </b> </h3>"
   ]
  },
  {
   "cell_type": "markdown",
   "metadata": {},
   "source": [
    "The authors experimented many type of attacks (direct and influencers attacks, poisoning and evasion attacks, features and structure attacks) on different datasets. The effectiveness of the attacks is tested on different nonlinear models: GCN, Deep Walk and CNC (Column Networks for Collective Classification). They set $\\Delta=d_{v_0}+2$ where $d_{v_0}$ is the degree of the attacked node. This choice is based on the fact that node with a higher degree are more difficult to attack. <br>\n",
    "They obtained interesting results, especially in the case of direct attacks. They compared their attack (NETTACK) to 2 others attacks: Fast Gradient Sign Method (FGSM) that is a direct attack on $v_0$ and RND (attack in which they modify the structure of the graph). Part of the results is shown in Table 3, please refer to the paper for the detailed experiments setting and a more complete summary of the final results.\n",
    "\n",
    "<img src=\"image.PNG\" alt=\"Drawing\" style=\"width: 500px;\"/>"
   ]
  },
  {
   "cell_type": "markdown",
   "metadata": {},
   "source": [
    "## <b> The code </b>"
   ]
  },
  {
   "cell_type": "markdown",
   "metadata": {},
   "source": [
    "#### Requirements:\n",
    "* `numpy`\n",
    "* `scipy`\n",
    "* `scikit-learn`\n",
    "* `matplotlib`\n",
    "* `tensorflow`\n",
    "* `numba`"
   ]
  },
  {
   "cell_type": "code",
   "execution_count": 1,
   "metadata": {},
   "outputs": [],
   "source": [
    "#from importlib import reload \n",
    "from matplotlib import pyplot as plt\n",
    "%matplotlib inline\n",
    "from nettack import utils, GCN\n",
    "from nettack import nettack as ntk\n",
    "import numpy as np\n",
    "gpu_id = None # set this to your desired GPU ID if you want to use GPU computations (only for the GCN/surrogate training)\n",
    "from function_plot import plot\n",
    "\n",
    "import random\n",
    "from nettack import sbm\n",
    "import scipy.sparse as sp"
   ]
  },
  {
   "cell_type": "markdown",
   "metadata": {},
   "source": [
    "<a id='data'></a>\n",
    "### Load network, basic setup"
   ]
  },
  {
   "cell_type": "markdown",
   "metadata": {},
   "source": [
    "To begin with, we load the data from one of the dataset present in the data folder (`citeseer.npz` and `cora.npz`).\n"
   ]
  },
  {
   "cell_type": "code",
   "execution_count": 2,
   "metadata": {},
   "outputs": [
    {
     "name": "stdout",
     "output_type": "stream",
     "text": [
      "Number of nodes: 3312\n",
      "Number of features: 3703\n"
     ]
    }
   ],
   "source": [
    "#load the data\n",
    "#_A_obs: adjacency matrix for links (structure)\n",
    "#_X_obs: features per node  \n",
    "#_z_obs: label per node\n",
    "#One can also repeat the experiment with the dataset cora.\n",
    "dataset='citeseer'\n",
    "_A_obs, _X_obs, _z_obs = utils.load_npz('data/'+dataset+'.npz')\n",
    "\n",
    "#make the graph indirected, that is make the adjacency matrix _A_obs symmetric\n",
    "_A_obs = _A_obs + _A_obs.T \n",
    "_A_obs[_A_obs > 1] = 1\n",
    "    \n",
    "print_matrix=False\n",
    "if(print_matrix):\n",
    "    print(_A_obs)\n",
    "    \n",
    "#number of vertices\n",
    "print(\"Number of nodes:\", _A_obs.shape[0])\n",
    "print(\"Number of features:\",_X_obs.shape[1])"
   ]
  },
  {
   "cell_type": "markdown",
   "metadata": {},
   "source": [
    "### Data preprocessing\n"
   ]
  },
  {
   "cell_type": "code",
   "execution_count": 3,
   "metadata": {},
   "outputs": [
    {
     "name": "stdout",
     "output_type": "stream",
     "text": [
      "Selecting 1 largest connected components\n",
      "Number of nodes in the largest connected component: 2110\n"
     ]
    }
   ],
   "source": [
    "#we select the largest connected component    \n",
    "lcc = utils.largest_connected_components(_A_obs)\n",
    "_A_obs = _A_obs[lcc][:,lcc]\n",
    "_X_obs = _X_obs[lcc].astype('float32')\n",
    "_z_obs = _z_obs[lcc]\n",
    "\n",
    "#number of vertices\n",
    "N = _A_obs.shape[0]\n",
    "print(\"Number of nodes in the largest connected component:\",N)\n",
    "\n",
    "assert np.abs(_A_obs - _A_obs.T).sum() == 0, \"Input graph is not symmetric\"\n",
    "assert _A_obs.max() == 1 and len(np.unique(_A_obs[_A_obs.nonzero()].A1)) == 1, \"Graph must be unweighted\"\n",
    "assert _A_obs.sum(0).A1.min() > 0, \"Graph contains singleton nodes\""
   ]
  },
  {
   "cell_type": "code",
   "execution_count": 4,
   "metadata": {},
   "outputs": [
    {
     "name": "stdout",
     "output_type": "stream",
     "text": [
      "Number of labels: 6\n"
     ]
    }
   ],
   "source": [
    "#number of labels\n",
    "_K = _z_obs.max()+1\n",
    "print(\"Number of labels:\", _K)\n",
    "_Z_obs = np.eye(_K)[_z_obs]\n",
    "#the authors compute the matrix _A_hat that is used in the GCN model described above\n",
    "_An = utils.preprocess_graph(_A_obs)"
   ]
  },
  {
   "cell_type": "code",
   "execution_count": 5,
   "metadata": {},
   "outputs": [],
   "source": [
    "#since we are dealing with a semi-supervised node classification task, we assume that \n",
    "#just a set V_l of the vertices is labeled. \n",
    "#For this reason, even though in our datasets all the labels are known, \n",
    "#the set of nodes is randomly divided in labeled nodes (V_l) \n",
    "#and unlabeled nodes (the rest of the nodes).\n",
    "#The labeled set of nodes is then divided in train set and validation set\n",
    "seed = 15\n",
    "\n",
    "unlabeled_share = 0.8\n",
    "val_share = 0.1\n",
    "train_share = 1 - unlabeled_share - val_share\n",
    "np.random.seed(seed)\n",
    "split_train, split_val, split_unlabeled = utils.train_val_test_split_tabular(np.arange(N),\n",
    "                                                                       train_size=train_share,\n",
    "                                                                       val_size=val_share,\n",
    "                                                                       test_size=unlabeled_share,\n",
    "                                                                       stratify=_z_obs)"
   ]
  },
  {
   "cell_type": "markdown",
   "metadata": {},
   "source": [
    "### Choose the node to attack\n",
    "\n",
    "In order to see significant results, we choose to attack a node with at least a `set_deg` degree."
   ]
  },
  {
   "cell_type": "code",
   "execution_count": 6,
   "metadata": {},
   "outputs": [],
   "source": [
    "set_deg=10"
   ]
  },
  {
   "cell_type": "code",
   "execution_count": 7,
   "metadata": {},
   "outputs": [],
   "source": [
    "#degrees and neighbors\n",
    "neighbors=[]\n",
    "degrees=np.zeros(N)\n",
    "for i in range(N):\n",
    "    neighbors.append(_A_obs[i].nonzero()[1])\n",
    "    degrees[i]=len(neighbors[i])"
   ]
  },
  {
   "cell_type": "code",
   "execution_count": 8,
   "metadata": {},
   "outputs": [
    {
     "name": "stdout",
     "output_type": "stream",
     "text": [
      "Attacked node: 645\n"
     ]
    }
   ],
   "source": [
    "vertices=np.array(range(N))\n",
    "u = random.choice(vertices[degrees==set_deg]) # node to attack \n",
    "#the authors attack unlabeled nodes, since in the problem definition the goal of the\n",
    "#semi supervised learning is to predict the unlabeled nodes from the features, \n",
    "#the structure and the labeled ones\n",
    "#run this part until the condition is verified\n",
    "assert u in split_unlabeled\n",
    "print(\"Attacked node:\",u)\n",
    "deg=degrees[u]"
   ]
  },
  {
   "cell_type": "markdown",
   "metadata": {},
   "source": [
    "### Train surrogate model\n",
    "Since we focus on the poisoning attacks, we train the surrogate model once in order to find the optimal parameters $W_1$ and $W_2$ that we pass them as inputs to Nettack."
   ]
  },
  {
   "cell_type": "code",
   "execution_count": 9,
   "metadata": {},
   "outputs": [],
   "source": [
    "sizes = [16, _K]\n",
    "verbose=False"
   ]
  },
  {
   "cell_type": "code",
   "execution_count": 10,
   "metadata": {},
   "outputs": [
    {
     "name": "stdout",
     "output_type": "stream",
     "text": [
      "WARNING:tensorflow:From C:\\Users\\Martina\\Anaconda3\\envs\\cs236605-hw\\lib\\site-packages\\tensorflow\\python\\framework\\op_def_library.py:263: colocate_with (from tensorflow.python.framework.ops) is deprecated and will be removed in a future version.\n",
      "Instructions for updating:\n",
      "Colocations handled automatically by placer.\n",
      "WARNING:tensorflow:From C:\\Users\\Martina\\Desktop\\Secondo anno-Primo semestre\\Deep Learning on Computational Accelerators\\progetto\\nettack2\\nettack\\GCN.py:98: calling dropout (from tensorflow.python.ops.nn_ops) with keep_prob is deprecated and will be removed in a future version.\n",
      "Instructions for updating:\n",
      "Please use `rate` instead of `keep_prob`. Rate should be set to `rate = 1 - keep_prob`.\n",
      "WARNING:tensorflow:From C:\\Users\\Martina\\Desktop\\Secondo anno-Primo semestre\\Deep Learning on Computational Accelerators\\progetto\\nettack2\\nettack\\GCN.py:116: softmax_cross_entropy_with_logits (from tensorflow.python.ops.nn_ops) is deprecated and will be removed in a future version.\n",
      "Instructions for updating:\n",
      "\n",
      "Future major versions of TensorFlow will allow gradients to flow\n",
      "into the labels input on backprop by default.\n",
      "\n",
      "See `tf.nn.softmax_cross_entropy_with_logits_v2`.\n",
      "\n",
      "WARNING:tensorflow:From C:\\Users\\Martina\\Anaconda3\\envs\\cs236605-hw\\lib\\site-packages\\tensorflow\\python\\ops\\array_grad.py:425: to_int32 (from tensorflow.python.ops.math_ops) is deprecated and will be removed in a future version.\n",
      "Instructions for updating:\n",
      "Use tf.cast instead.\n"
     ]
    }
   ],
   "source": [
    "surrogate_model = GCN.GCN(sizes, _An, _X_obs, with_relu=False, name=\"surrogate\", gpu_id=gpu_id)\n",
    "surrogate_model.train(split_train, split_val, _Z_obs, print_info=verbose)\n",
    "W1 =surrogate_model.W1.eval(session=surrogate_model.session)\n",
    "W2 =surrogate_model.W2.eval(session=surrogate_model.session)"
   ]
  },
  {
   "cell_type": "markdown",
   "metadata": {},
   "source": [
    "### Set up Nettack\n"
   ]
  },
  {
   "cell_type": "code",
   "execution_count": 11,
   "metadata": {},
   "outputs": [],
   "source": [
    "nettack = ntk.Nettack(_A_obs, _X_obs, _z_obs, W1, W2, u, verbose)"
   ]
  },
  {
   "cell_type": "markdown",
   "metadata": {},
   "source": [
    "### Poison the data\n"
   ]
  },
  {
   "cell_type": "code",
   "execution_count": 12,
   "metadata": {},
   "outputs": [],
   "source": [
    "#we focus on direct attacks\n",
    "direct_attack = True\n",
    "n_influencers = 1 if direct_attack else 5\n",
    "#we focus on structure attacks\n",
    "perturb_features = False    \n",
    "perturb_structure = True"
   ]
  },
  {
   "cell_type": "code",
   "execution_count": 13,
   "metadata": {},
   "outputs": [],
   "source": [
    "#we decided to set the number of perturbations as degree/2\n",
    "n_perturbations = int(degrees[u]/2) "
   ]
  },
  {
   "cell_type": "code",
   "execution_count": 14,
   "metadata": {},
   "outputs": [],
   "source": [
    "nettack.reset()\n",
    "nettack.attack_surrogate(n_perturbations, perturb_structure=perturb_structure, perturb_features=perturb_features, direct=direct_attack, n_influencers=n_influencers)\n",
    " "
   ]
  },
  {
   "cell_type": "code",
   "execution_count": 15,
   "metadata": {},
   "outputs": [],
   "source": [
    "#Print perturbations\n",
    "if verbose:\n",
    "    print(\"Structure perturbations:\",nettack.structure_perturbations)\n",
    "    print(\"Features perturbations:\", nettack.feature_perturbations)"
   ]
  },
  {
   "cell_type": "markdown",
   "metadata": {},
   "source": [
    "### Train GCN without perturbations\n"
   ]
  },
  {
   "cell_type": "code",
   "execution_count": 16,
   "metadata": {},
   "outputs": [
    {
     "name": "stderr",
     "output_type": "stream",
     "text": [
      "C:\\Users\\Martina\\Anaconda3\\envs\\cs236605-hw\\lib\\site-packages\\tensorflow\\python\\client\\session.py:1702: UserWarning: An interactive session is already active. This can cause out-of-memory errors in some cases. You must explicitly call `InteractiveSession.close()` to release resources held by the other session(s).\n",
      "  warnings.warn('An interactive session is already active. This can '\n"
     ]
    }
   ],
   "source": [
    "retrain_iters=5\n",
    "#classification_margins_clean = []\n",
    "class_distrs_clean = []\n",
    "gcn_before = GCN.GCN(sizes, _An, _X_obs, \"gcn_orig\", gpu_id=gpu_id)"
   ]
  },
  {
   "cell_type": "code",
   "execution_count": 17,
   "metadata": {},
   "outputs": [
    {
     "name": "stderr",
     "output_type": "stream",
     "text": [
      "C:\\Users\\Martina\\Anaconda3\\envs\\cs236605-hw\\lib\\site-packages\\sklearn\\metrics\\classification.py:1143: UndefinedMetricWarning: F-score is ill-defined and being set to 0.0 in labels with no predicted samples.\n",
      "  'precision', 'predicted', average, warn_for)\n"
     ]
    }
   ],
   "source": [
    "if verbose:\n",
    "    print(\"Train GCN without perturbations\")\n",
    "    \n",
    "for _ in range(retrain_iters):\n",
    "    if verbose:\n",
    "        print(\"... {}/{} \".format(_+1, retrain_iters))\n",
    "    gcn_before.train(split_train, split_val, _Z_obs, print_info=verbose)\n",
    "    probs_before_attack = gcn_before.predictions.eval(session=gcn_before.session,feed_dict={gcn_before.node_ids: [nettack.u]})[0]\n",
    "    class_distrs_clean.append(probs_before_attack)\n",
    "    #best_second_class_before = (probs_before_attack - 1000*_Z_obs[nettack.u]).argmax()\n",
    "    #margin_before = probs_before_attack[_z_obs[nettack.u]] - probs_before_attack[best_second_class_before]\n",
    "    #classification_margins_clean.append(margin_before)\n",
    "class_distrs_clean = np.array(class_distrs_clean)"
   ]
  },
  {
   "cell_type": "markdown",
   "metadata": {},
   "source": [
    "### Train GCN with perturbations\n"
   ]
  },
  {
   "cell_type": "code",
   "execution_count": 18,
   "metadata": {},
   "outputs": [],
   "source": [
    "#classification_margins_corrupted = []\n",
    "class_distrs_retrain = []\n",
    "\n",
    "#this time we use nettack.adj_preprocessed and nettack.X_obs.tocsr(), that are the attacked adjacency matrix and features \n",
    "gcn_retrain = GCN.GCN(sizes, nettack.adj_preprocessed, nettack.X_obs.tocsr(), \"gcn_retrain\", gpu_id=gpu_id)"
   ]
  },
  {
   "cell_type": "code",
   "execution_count": 19,
   "metadata": {},
   "outputs": [],
   "source": [
    "if verbose:\n",
    "    print(\"Train GCN with perturbations\")\n",
    "for _ in range(retrain_iters):\n",
    "    if verbose:    \n",
    "        print(\"... {}/{} \".format(_+1, retrain_iters))\n",
    "    gcn_retrain.train(split_train, split_val, _Z_obs, print_info=verbose)\n",
    "    probs_after_attack = gcn_retrain.predictions.eval(session=gcn_retrain.session,feed_dict={gcn_retrain.node_ids: [nettack.u]})[0]\n",
    "    class_distrs_retrain.append(probs_after_attack)\n",
    "    #best_second_class_after = (probs_after_attack - 1000*_Z_obs[nettack.u]).argmax()\n",
    "    #margin_after = probs_after_attack[_z_obs[nettack.u]] - probs_after_attack[best_second_class_after]\n",
    "    #classification_margins_corrupted.append(margin_after)\n",
    "class_distrs_retrain = np.array(class_distrs_retrain)\n",
    "    "
   ]
  },
  {
   "cell_type": "markdown",
   "metadata": {},
   "source": [
    "### Visualize the results"
   ]
  },
  {
   "cell_type": "code",
   "execution_count": 20,
   "metadata": {},
   "outputs": [
    {
     "data": {
      "image/png": "[encoded data removed]",
      "text/plain": [
       "<Figure size 864x288 with 2 Axes>"
      ]
     },
     "metadata": {
      "needs_background": "light"
     },
     "output_type": "display_data"
    }
   ],
   "source": [
    "plot(class_distrs_clean, class_distrs_retrain, retrain_iters, nettack.u, nettack.label_u, _K, n_perturbations)\n",
    "#clean, attacked = test_nettack(_A_obs, _X_obs, _z_obs, u,  n_perturbations, perturb_structure, perturb_features, direct_attack, n_influencers, \n",
    "#             split_train, split_val, split_unlabeled, verbose=False)\n"
   ]
  },
  {
   "cell_type": "code",
   "execution_count": null,
   "metadata": {},
   "outputs": [],
   "source": []
  },
  {
   "cell_type": "code",
   "execution_count": null,
   "metadata": {},
   "outputs": [],
   "source": []
  }
 ],
 "metadata": {
  "kernelspec": {
   "display_name": "Python 3",
   "language": "python",
   "name": "python3"
  },
  "language_info": {
   "codemirror_mode": {
    "name": "ipython",
    "version": 3
   },
   "file_extension": ".py",
   "mimetype": "text/x-python",
   "name": "python",
   "nbconvert_exporter": "python",
   "pygments_lexer": "ipython3",
   "version": "3.7.3"
  }
 },
 "nbformat": 4,
 "nbformat_minor": 2
}
