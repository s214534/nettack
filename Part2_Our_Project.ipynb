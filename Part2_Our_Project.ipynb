{
 "cells": [
  {
   "cell_type": "markdown",
   "metadata": {},
   "source": [
    "# <b> Final Project - Glassman Yair, Vanelli Martina </b>\n",
    "<h2 style=\"color:#C40233\"> <b> CS236605: Deep Learning </b> </h2>"
   ]
  },
  {
   "cell_type": "markdown",
   "metadata": {},
   "source": [
    "## <b> Our project </b>"
   ]
  },
  {
   "cell_type": "markdown",
   "metadata": {},
   "source": [
    "As anticipated, the aim of our project is to study the performance of the model and the successfulness of the adversarial attacks according to the graph structure.<br>\n",
    "Our main problem was then to create realistic datasets with different graph structures to be tested with Nettack. \n"
   ]
  },
  {
   "cell_type": "markdown",
   "metadata": {},
   "source": [
    "<h3 style=\"color:#C40233\"> <b> The original datasets </b> </h3>"
   ]
  },
  {
   "cell_type": "markdown",
   "metadata": {},
   "source": [
    "We decided to start from the datasets analyzed in the article: `citeseer.npz` and `cora.npz`. They both contain information about papers. \n",
    "\n",
    "The Cora dataset contains machine-learning papers divided into one of 7 classes (Case Based, Genetic Algorithms, Neural Networks, Probabilistic Methods, Reinforcement Learning, Rule Learning, Theory) while the CiteSeer data set has 6 class labels (Agents, AI, DB, IR, ML, HCI). For both datasets, they performed stemming and stop word removal beside removing the words with document frequency less than 10. <br>\n",
    "The final corpus has 2708 documents (nodes), 1433 distinct words in the vocabulary (node features) and 5429 links (graph structure) in the case of Cora; and 3312 documents, 3703 distinct words in the vocabulary and 4732 links in the case of CiteSeer.\n",
    "\n",
    "\n",
    "<b> Note: </b> In the original datasets, the graphs are directed. Since the implemented model takes as input an indirected graph, the authors change the data structure at the beginning of the code by making every link undirected (either if $A$ cites $B$ or $B$ cites $A$ or they both cite each other, they simply register that there is a connection between $A$ and $B$). We decided to use the same approach. "
   ]
  },
  {
   "cell_type": "markdown",
   "metadata": {},
   "source": [
    "<h3 style=\"color:#C40233\"> <b> The Stochastic Block Model and our new datasets</b> </h3>"
   ]
  },
  {
   "cell_type": "markdown",
   "metadata": {},
   "source": [
    "For simplicity, we decided to create our datasets starting from the ones already used in the article. We decided to keep the features and the labels of the old datasets and to change the relationship among the nodes.\n",
    "\n",
    "We used the random graphs theory to change the graph structure and to generate different graphs. <br> In particolar, we chose a specific random graph model: the <b>Stochastic Block Model</b>.\n",
    "The stochastic block model takes the following parameters:\n",
    "* The number $n$ of vertices;\n",
    "* a partition of the vertex set $\\{ 1 ,\\dots , n \\}$ into disjoint subsets $C_1 ,\\dots , C_r$, called communities;\n",
    "* a symmetric $r \\times r$  matrix $P$ of edge probabilities.\n",
    "\n",
    "The edge set is then sampled at random as follows: any two vertices $u \\in C_i$ and $v \\in C_j$ are connected by an edge independently with probability $P_{ij}$.\n",
    "\n",
    "This model does not really fit the original dataset since the citations between articles are not independent from each other, but it is very useful for the scope of our project that is to study the importance of communities. The SBM produces indeed random graphs containing <b>communities</b>, that are subsets characterized by being connected with one another with particular edge densities.\n",
    "\n",
    "We assumed that the labels represent our communities. In this way, we already had some features related to the communities."
   ]
  },
  {
   "cell_type": "markdown",
   "metadata": {},
   "source": [
    "<h3 style=\"color:#C40233\"> <b> Parameters setting: the $\\hat{P}$ matrix</b> </h3>"
   ]
  },
  {
   "cell_type": "markdown",
   "metadata": {},
   "source": [
    "Once we made the previous assumptions, it was straightforward to set the vertex set with the nodes of the largest connected component of the original dataset and to partition it by labels. <br>\n",
    "The main problem was to find a consistent choice of the matrix $P$ of edge probabilities. For this reason, we computed some statistics over the original dataset in order to find some estimates of these probabilities.<br>\n",
    "In particular, the $\\hat{P}$ matrix, based on the original dataset and given as input of the SBM, is computed in the following way:\n",
    "* $\\hat{P}_{ii}=\\frac{|\\text{ links between articles with label }i\\ |}{|\\text{ possible links between articles with label }i\\ |}\\overset{*}{=}\n",
    " \\frac{|\\text{ links between articles with label }i\\ |}{\\binom{n_i}{2}}= \\frac{2|\\text{ links bewteeen articles with label }i\\ |}{n_i(n_i-1)}$\n",
    "*  $\\hat{P}_{ij}=\\hat{P}_{ji}=\\frac{|\\text{ links between articles with labels respectively }i \\text{ and }j\\ |}{|\\text{ possible links between articles with labels respectively }i \\text{ and } j\\ |}=\\frac{|\\text{ links between articles with labels respectively }i \\text{ and }j\\ |}{n_i n_j }$\n",
    "\n",
    "<b> Note 1: </b> $n_i$ is the number of node in the $i^{th}$ community, that is the number of articles that are labeled with the $i^{th}$ class.  \n",
    "<b> Note 2: </b> Each indirected link is counted once and the possible links are counted as unordered couples of nodes. The implementation of the SBM takes this into account and generates just the upper part of the matrix, that is then copied in the lower part leading to an indirected graph. <br>\n",
    "<b> Note*: </b> We observed that in the original datasets there are few self loops (2% of the total nodes in citeseer). In this case, the total number of possible links should consider also the $n$ possible self loops. Since we did not understand the meaning of the self loops in our datasets, we decided to delete them from the original datasets and then quantify the total number of possible links within a community $i$ as $\\binom{n_i}{2}$ (no self loops)."
   ]
  },
  {
   "cell_type": "markdown",
   "metadata": {},
   "source": [
    "#### <b> Observations </b>\n",
    "Once we have the $\\hat{P}$ matrix, we have all the parameters needed to sample a random graph and to build a dataset that is in some way consistent with the original one. \n",
    "\n",
    "We recall that, although they have similar degree averages, the 2 datasets have underlying different graph structures due to the assumptions that we made on the link distribution. <br> Later on, once we generated the random graphs, we computed some statistics in order to have a look on the behavior of our graphs compared to the original ones. The average degrees converge to the same values, while the max degree and min degree values are very different. This result was expectable: the SBM assumes that all the nodes in the same community have the same degree distribution, while in the original dataset there are very different behaviors among the nodes. Since we do not consider the variance, our model tend to \"flatten\" the degree distribution around the mean. <br>\n",
    "We also observed that in general the SBM dataset seems easier to attack but this is hard to say since, even though the features of each node remain the same, it is quite meaningless to compare the results of the attack on the same node in the original dataset and in the randomly generated one. From the structural point of view, there is not any relationship between nodes in the original one and the new ones except for the community belonging. Nodes in the same community are considered anonymus in the SBM while they were not in the original dataset. \n",
    "\n",
    "On the other side, we also observed that, for all the classes, the average probability of having a link within a community is higher than all the other averages. This observation confirmed that there is a community behavior in both the original datasets and that part of our assumptions is valid.\n",
    "\n",
    "<img src=\"p_hat_citeseer.PNG\" alt=\"Drawing\" style=\"width: 500px;\"/>\n",
    "<img src=\"p_hat_cora.PNG\" alt=\"Drawing\" style=\"width: 500px;\"/>"
   ]
  },
  {
   "cell_type": "markdown",
   "metadata": {},
   "source": [
    "<h3 style=\"color:#C40233\"> <b> The $\\tilde{P}$ matrix </b> </h3>"
   ]
  },
  {
   "cell_type": "markdown",
   "metadata": {},
   "source": [
    "At this point, in order to fulfill our analysis and to make meaningful comparisons, we alter the entries of $\\hat{P}$ that is to modify the edge probabilities within and between communities. In particular, we aim to either increase or decrease the edge density within communities and then modify the other densities according to it. \n",
    "\n",
    "Since the effectiveness of the attack changes according to the degree, we decided to alterate the edge probabilities trying to keep the total expected degree constant.<br>\n",
    "The expected degree of a member $u$ of the community $i$, that is $u \\in C_i$, is: \n",
    "$$\n",
    "\\mathbb{E}[\\text{deg}(u)]=\\hat{P}_{ii}(n_i-1) + \\sum_{j\\neq i } \\hat{P}_{ij}n_j\n",
    "$$\n",
    "and this holds since, in a SBM, the number of neighbors of community $i$ of $u\\in C_i$ is distributed as a $\\text{Bin}(n_i-1, \\hat{P}_{ii})$ while the number of neighbors of community $j$ is distributed as $\\text{Bin}(n_j, \\hat{P}_{ij})$.\n",
    "\n",
    "Given $N$, we did the following trick to increase the edge density within communities (we assume $n_i>1$ $\\forall i$):\n",
    "$$\n",
    "\\begin{align}\n",
    "\\mathbb{E}[\\text{deg}(u)]&=\\hat{P}_{ii}(n_i-1) +N-N +\\sum_{j\\neq i } \\hat{P}_{ij}n_j=\\hat{P}_{ii}(n_i-1) + \\frac{N (n_i-1)}{(n_i-1)} -N\\frac{n_1+\\dots+n_{i-1}+n_{i+1}+\\dots+n_{C_r}}{\\sum_{j\\neq i} n_j} +\\sum_{j\\neq i } \\hat{P}_{ij}n_j=\\\\\n",
    "&=\\left(\\hat{P}_{ii}+\\frac{N}{(n_i-1)}\\right)(n_i-1) +\\sum_{j\\neq i } \\left(\\hat{P}_{ij}- \\frac{N}{\\sum_{j\\neq i} n_j}\\right)n_j\\overset{\\text{def}}{=}\\tilde{P}_{ii}(n_i-1) +\\sum_{j\\neq i }\\tilde{P}_{ij}n_j\n",
    "\\end{align}\n",
    "$$\n",
    "One can think of this trick as a way to change $N$ edges \"between communities\" to edges \"within communities\". <br>\n",
    "Let us note that, with this definition, $\\tilde{P}_{ij}$ can be negative. We solve this problem by setting all the negative probabilities to 0. In this last case, the expected degree increases.<br>\n",
    "Thus, we obtain:\n",
    "$$\n",
    "\\begin{align}\n",
    "\\tilde{P}_{ii}&\\overset{\\text{def}}{=}\\hat{P}_{ii}+\\frac{N}{(n_i-1)}\\\\\n",
    "\\tilde{P}_{ij}=\\tilde{P}_{ji}&\\overset{\\text{def}}{=}\\text{max}\\{\\hat{P}_{ij}- \\frac{N}{\\sum_{j\\neq i} n_j},0\\}\n",
    "\\end{align}\n",
    "$$\n",
    "To decrease the edge density within communities, we simply change the sign:\n",
    "$$\n",
    "\\begin{align}\n",
    "\\tilde{P}_{ii}&\\overset{\\text{def}}{=}\\text{max}\\{\\hat{P}_{ii}-\\frac{N}{(n_i-1)},0\\}\\\\\n",
    "\\tilde{P}_{ij}=\\tilde{P}_{ji}&\\overset{\\text{def}}{=}\\hat{P}_{ij}+ \\frac{N}{\\sum_{j\\neq i} n_j}\n",
    "\\end{align}\n",
    "$$\n",
    "\n",
    "In the experiments, we set $N=1$ or $N=2$ since the average degree is very low. The boolean parameter $strong$ controls the sign: if it is `True` we increase the edge density within community, while if it is `False` we decrease it. In our experiments, we usually change just one community at a time (usually the one that has the lowest or highest \"community behavior\" in $\\hat{P}$, that is if it has the highest or lowest diagonal entry in respect to the others and the total number of nodes). Anyway, we treat the \"community\" parameter as a list, in order to try also the case when more than one community behavior is changed (for example, all the communities are weakened or strengthened). "
   ]
  },
  {
   "cell_type": "markdown",
   "metadata": {},
   "source": [
    "<h3 style=\"color:#C40233\"> <b> The SBM generation: the coupling </b> </h3>"
   ]
  },
  {
   "cell_type": "markdown",
   "metadata": {},
   "source": [
    "We now have 2 matrices $\\hat{P}$ and $\\tilde{P}$ with different edges probabilities: the first one is directly obtained  from the original dataset while the second one has slightly changed community distributions. At this point, the two SBM probability spaces ( SBM($\\hat{P}$) and SBM($\\tilde{P}$) ) are completely defined and we can sample from them. \n",
    "\n",
    "In order to make meaningful comparison between them, we decided to sample the random graphs through the following coupling. <br>\n",
    "Recall that $n$ is the number of nodes and $C_1 ,\\dots , C_r$ the community subsets. We will call $[n]=\\{1,\\dots,n\\}$. <br>\n",
    "For every indirected edge $e=\\{v,w\\}$, $v\\in C_i$ and $ w\\in C_j$, let $u_{\\{v,w\\}}$ be i.i.d. $\\mathcal{U}[0,1]$. We consider the graphs $G_1$ and $G_2$ with edge sets to be\n",
    "$$\n",
    "\\begin{align}\n",
    "E(G_1)=&\\{\\{v,w\\} \\in [n]^{(2)}, v \\in C_i, w \\in C_j : u_{\\{v,w\\}}\\leq \\hat{P}_{ij} \\} \\\\\n",
    "E(G_2)=&\\{\\{v,w\\} \\in [n]^{(2)}, v \\in C_i, w \\in C_j  : u_{\\{v,w\\}}\\leq \\tilde{P}_{ij}\\} \n",
    "\\end{align}\n",
    "$$\n",
    "In other words, for every unordered couple of nodes  $v \\in C_i, w \\in C_j$, we generate a uniform random number $u\\in [0,1]$. We then put an edge in the first graph if $u \\leq \\hat{P}_{ij}$ and an edge in the second graph  if  $u \\leq \\tilde{P}_{ij}$. The main point is that the $u$ is the same for both graphs and in this way we can compare the results for each node."
   ]
  },
  {
   "cell_type": "markdown",
   "metadata": {},
   "source": [
    "<h3 style=\"color:#C40233\"> <b> The experiments </b> </h3>"
   ]
  },
  {
   "cell_type": "markdown",
   "metadata": {},
   "source": [
    "Once we generated the 2 random graphs, we can study their properties. First, as anticipated, we compute few statistics in order to compare them with the original datasets. Then, we try the GCN and the Nettack on them. \n",
    "\n",
    "Since we want to study the performance according to the structure, we performed structure attacks. In particular, we focused on <b>direct evasion structure attacks</b>.  <br>\n",
    "In any case, we observed that, since  in  <i> CiteSeer </i> and <i> Cora </i> the average degrees are respectively around 3.5 and 4 while the number of features per node are 3703 and 1433, the Nettack always prefer to perform structure attacks when it is not constrained. This is due to the fact that the authors set the same budget for both the features and structure attacks. Moreover, in the article, the authors set $\\Delta=d_{v_0}+2$, where $d_{v_0}$ is the degree of the node $v_0$, that is a low budget for a feature attack (for these datasets) but it is quite high for a structure attacks since it usually allows to overturn the neighborhood. Since we agreed on the fact that effectiveness of the attack depends on the degree of the attacked node, we decided to set  $\\Delta=\\frac{d_{v_0}}{2}$ for the majority of the experiments. We also tried the effect of strong attack by trying $\\Delta=d_{v_0}$. In the experiments, one can tell which budget was used from the term $factor$ and set it as he prefers ($\\Delta=\\frac{d_{v_0}}{factor}$). As anticipated, the main other parameters are $N$ ($N=1$ or $N=2$), $strong$ (`True` or `False`) and the $communities$ list. The experiments can be repeated for `cora` and `citeseer`.\n",
    "\n",
    "once we set all the parameters, we model both the datasets and we try to predict all the nodes in the \"changed\" communities. If the prediction is correct, we attack the node and see if the attack is successfull. We record the number of nodes correctly classified nodes and the number of successfully attacked nodes in the 2 datasets.<br>\n",
    "At the end of the experiments, the results are print on a file with the format `dataset_n#_community#_strong#_factor#`."
   ]
  },
  {
   "cell_type": "markdown",
   "metadata": {},
   "source": [
    "<h3 style=\"color:#C40233\"> <b> The results </b> </h3>\n"
   ]
  },
  {
   "cell_type": "markdown",
   "metadata": {},
   "source": [
    "The results are contained in the `results` folder. Although we did not manage to run all the possible cases, we observed some different behaviors. \n",
    "\n",
    "The accuracy usually increases when a community is more \"closed\" and in general the attacks are less effective, but this happens mostly when in the community there  a greater number of nodes and when the attack is not that strong. This is the case of the following example: \n",
    "\n",
    "<img src=\"result_example.PNG\" alt=\"Drawing\" style=\"width: 500px;\"/>\n",
    "\n",
    "On the other hand, when we are dealing with a lower number of nodes and a lower accuracy, the effects of the community behavior on the attacks are less evident:\n",
    "\n",
    "<img src=\"result_example_2.PNG\" alt=\"Drawing\" style=\"width: 500px;\"/>\n",
    "\n",
    "Results also changed based on the datasets. In general, it is harder to comment results when the communities are less \"closed\" since they are effected by the randomness.\n"
   ]
  },
  {
   "cell_type": "markdown",
   "metadata": {},
   "source": [
    "## <b> The code </b>"
   ]
  },
  {
   "cell_type": "markdown",
   "metadata": {},
   "source": [
    "#### Requirements:\n",
    "* `numpy`\n",
    "* `scipy`\n",
    "* `scikit-learn`\n",
    "* `matplotlib`\n",
    "* `tensorflow`\n",
    "* `numba`"
   ]
  },
  {
   "cell_type": "code",
   "execution_count": 1,
   "metadata": {},
   "outputs": [],
   "source": [
    "from matplotlib import pyplot as plt\n",
    "%matplotlib inline\n",
    "from nettack import utils, GCN\n",
    "from nettack import nettack as ntk\n",
    "import numpy as np\n",
    "gpu_id = None # set this to your desired GPU ID if you want to use GPU computations (only for the GCN/surrogate training)\n",
    "from function_plot import plot\n",
    "\n",
    "#from importlib import reload \n",
    "import random\n",
    "from nettack import sbm\n",
    "import scipy.sparse as sp"
   ]
  },
  {
   "cell_type": "markdown",
   "metadata": {},
   "source": [
    "<a id='data'></a>\n",
    "### Load network, basic setup"
   ]
  },
  {
   "cell_type": "markdown",
   "metadata": {},
   "source": [
    "To begin with, we load the data from one of the dataset present in the data folder (`citeseer.npz` and `cora.npz`).\n"
   ]
  },
  {
   "cell_type": "code",
   "execution_count": 2,
   "metadata": {},
   "outputs": [
    {
     "name": "stdout",
     "output_type": "stream",
     "text": [
      "Number of nodes: 2708\n",
      "Number of features: 1433\n"
     ]
    }
   ],
   "source": [
    "#load the data\n",
    "#_A_obs: adjacency matrix for links (structure)\n",
    "#_X_obs: features per node  \n",
    "#_z_obs: label per node\n",
    "#One can also repeat the experiment with the dataset cora.\n",
    "dataset='cora'\n",
    "A_obs, X_obs, z_obs = utils.load_npz('data/'+dataset+'.npz')\n",
    "\n",
    "#make the graph indirected, that is make the adjacency matrix _A_obs symmetric\n",
    "A_obs = A_obs + A_obs.T \n",
    "A_obs[A_obs > 1] = 1\n",
    "    \n",
    "print_matrix=False\n",
    "if(print_matrix):\n",
    "    print(_A_obs)\n",
    "    \n",
    "#number of vertices\n",
    "print(\"Number of nodes:\", A_obs.shape[0])\n",
    "print(\"Number of features:\",X_obs.shape[1])"
   ]
  },
  {
   "cell_type": "markdown",
   "metadata": {},
   "source": [
    "### Data preprocessing\n"
   ]
  },
  {
   "cell_type": "code",
   "execution_count": 3,
   "metadata": {},
   "outputs": [
    {
     "name": "stdout",
     "output_type": "stream",
     "text": [
      "Selecting 1 largest connected components\n",
      "Number of nodes in the largest connected component: 2485\n",
      "Number of self loops in the dataset: 0\n"
     ]
    }
   ],
   "source": [
    "#we select the largest connected component    \n",
    "lcc = utils.largest_connected_components(A_obs)\n",
    "A_obs = A_obs[lcc][:,lcc]\n",
    "X_obs = X_obs[lcc].astype('float32')\n",
    "z_obs = z_obs[lcc]\n",
    "\n",
    "#number of vertices\n",
    "N = A_obs.shape[0]\n",
    "print(\"Number of nodes in the largest connected component:\",N)\n",
    "#avoid self loops\n",
    "A_obs=A_obs- sp.eye(N)\n",
    "print(\"Number of self loops in the dataset:\",int(N-np.sum(A_obs[A_obs<0]*-1)))\n",
    "A_obs[A_obs < 0] = 0\n",
    "\n",
    "\n",
    "assert np.abs(A_obs - A_obs.T).sum() == 0, \"Input graph is not symmetric\"\n",
    "assert A_obs.max() == 1 and len(np.unique(A_obs[A_obs.nonzero()].A1)) == 1, \"Graph must be unweighted\"\n",
    "assert A_obs.sum(0).A1.min() > 0, \"Graph contains singleton nodes\""
   ]
  },
  {
   "cell_type": "code",
   "execution_count": 4,
   "metadata": {},
   "outputs": [
    {
     "name": "stdout",
     "output_type": "stream",
     "text": [
      "Number of labels: 7\n"
     ]
    }
   ],
   "source": [
    "#number of labels\n",
    "_K = z_obs.max()+1\n",
    "print(\"Number of labels:\", _K)"
   ]
  },
  {
   "cell_type": "code",
   "execution_count": 5,
   "metadata": {},
   "outputs": [],
   "source": [
    "#degrees and neighbors\n",
    "neighbors=[]\n",
    "degrees=np.zeros(N)\n",
    "for i in range(N):\n",
    "    neighbors.append(A_obs[i].nonzero()[1])\n",
    "    degrees[i]=len(neighbors[i])"
   ]
  },
  {
   "cell_type": "markdown",
   "metadata": {},
   "source": [
    "### The $\\hat{P}$ matrix"
   ]
  },
  {
   "cell_type": "code",
   "execution_count": 6,
   "metadata": {},
   "outputs": [],
   "source": [
    "#number of communities/labels\n",
    "num_communities=_K"
   ]
  },
  {
   "cell_type": "code",
   "execution_count": 7,
   "metadata": {},
   "outputs": [
    {
     "name": "stdout",
     "output_type": "stream",
     "text": [
      "[[1.01309612e-02 2.24699680e-04 2.60983036e-04 1.75901495e-04\n",
      "  4.59091654e-04 1.20530333e-03 7.64993880e-04]\n",
      " [2.24699680e-04 9.99817552e-03 1.79809741e-04 1.29976474e-05\n",
      "  7.13595138e-04 3.76038807e-05 1.64680949e-04]\n",
      " [2.60983036e-04 1.79809741e-04 4.21392609e-03 4.83365679e-04\n",
      "  4.31245334e-04 1.68233340e-04 6.44660132e-04]\n",
      " [1.75901495e-04 1.29976474e-05 4.83365679e-04 8.52982647e-03\n",
      "  2.34261337e-04 1.20848355e-04 6.74970854e-04]\n",
      " [4.59091654e-04 7.13595138e-04 4.31245334e-04 2.34261337e-04\n",
      "  1.79018033e-02 7.13419419e-05 4.34688111e-04]\n",
      " [1.20530333e-03 3.76038807e-05 1.68233340e-04 1.20848355e-04\n",
      "  7.13419419e-05 2.18438050e-02 1.77525297e-03]\n",
      " [7.64993880e-04 1.64680949e-04 6.44660132e-04 6.74970854e-04\n",
      "  4.34688111e-04 1.77525297e-03 8.98365991e-03]]\n"
     ]
    }
   ],
   "source": [
    "vertices=np.array(range(N))\n",
    "#vector that stores the # of nodes for each community\n",
    "dim_communities=np.zeros(num_communities)\n",
    "#computes the values and fills the vector\n",
    "for i in range(num_communities):\n",
    "    dim_communities[i]=len(vertices[z_obs==i])\n",
    "\n",
    "#upper triangular matrix of _A_obs,used to compute the ammount of links among members of \n",
    "#the same community\n",
    "temp=sp.triu(A_obs,k=0).todense()\n",
    "#one can put norm=False is he wants to print the total number of links instead of the\n",
    "#normalized value (without the norm, the result is meaningless for the creation of the random graph) \n",
    "norm=True\n",
    "#p_hat=matrix that stores the estimated probabilities of presence of an edge that links members of \n",
    "#specified communities, that is, for each pair of communities i and j, the entry i,j of the matrix stores\n",
    "#the average value of the number of edges present in the graphs that link members of the communities i and j\n",
    "#respectively over the number of all possible edges among the 2 communities (that in the case of 2 \n",
    "#different communities is equal to dim_comm_i*dim_comm_j).\n",
    "#The average is computed also for the entries i,i that represent an estimation of the probability of an edge that link \n",
    "#2 members of community i.\n",
    "p_hat=np.zeros([num_communities,num_communities])\n",
    "#for each community\n",
    "for i in range(num_communities):\n",
    "    #total number of edges that link members of community i \n",
    "    p_hat[i][i]=temp[z_obs==i][:,z_obs==i].sum()\n",
    "    #this value has to be normalized over the total number of possible edges that link\n",
    "    #members of the same community, that is dim_i(dim_i-1)/2= (dim_i)(dim_i-1)/2\n",
    "    if norm:    \n",
    "        p_hat[i][i]=2*p_hat[i][i]/(dim_communities[i]*(dim_communities[i]-1))\n",
    "    #for all the other communities\n",
    "    for j in range(i+1, num_communities):\n",
    "        #total number of edges that link a member of community i and a member of community j\n",
    "        p_hat[i][j]=A_obs[z_obs==i][:,z_obs==j].sum()\n",
    "        #over all the possible links, that is dim_i*dim_j\n",
    "        if norm:\n",
    "            p_hat[i][j]=p_hat[i][j]/(dim_communities[i]*dim_communities[j])\n",
    "        p_hat[j][i]=p_hat[i][j]\n",
    "\n",
    "print_avg=True\n",
    "if(print_avg):\n",
    "    print(p_hat)"
   ]
  },
  {
   "cell_type": "markdown",
   "metadata": {},
   "source": [
    "### The $\\tilde{P}$ matrix\n",
    "In order to study the importance and the effects of edge densities and community structure, we either strengthen or weaken the ties within communities."
   ]
  },
  {
   "cell_type": "code",
   "execution_count": 8,
   "metadata": {},
   "outputs": [
    {
     "name": "stdout",
     "output_type": "stream",
     "text": [
      "The community with the  relative highest within-communities probability is: \n",
      "5 5\n",
      "The community with the  relative highest between-communities probability is:\n",
      "2 2\n"
     ]
    }
   ],
   "source": [
    "#we will call strongest_comm the community that has the highest probability to have an edges\n",
    "#that link members of the same community\n",
    "\n",
    "strongest_comm=np.argmax(np.diag(p_hat))\n",
    "temp=(p_hat-np.diag(np.diag(p_hat))).sum(axis=1)\n",
    "#print(temp)\n",
    "strongest_comm_2=np.argmax(np.diag(p_hat)-temp)\n",
    "#stongest_comm=np.argmax(np.diag(p_hat))\n",
    "#weakest_comm has the lowest probability\n",
    "weakest_comm=np.argmin(np.diag(p_hat))\n",
    "weakest_comm_2=np.argmin(np.diag(p_hat)-temp)\n",
    "print(\"The community with the  relative highest within-communities probability is: \")\n",
    "print(strongest_comm, strongest_comm_2)\n",
    "print(\"The community with the  relative highest between-communities probability is:\")\n",
    "print(weakest_comm, weakest_comm_2)"
   ]
  },
  {
   "cell_type": "code",
   "execution_count": 9,
   "metadata": {},
   "outputs": [],
   "source": [
    "#community=range(num_communities)\n",
    "community=[2]\n",
    "strong=True\n",
    "n=1"
   ]
  },
  {
   "cell_type": "code",
   "execution_count": 10,
   "metadata": {},
   "outputs": [
    {
     "name": "stdout",
     "output_type": "stream",
     "text": [
      "p_hat matrix for the cora dataset:\n",
      "[[0.01013096 0.0002247  0.00026098 0.0001759  0.00045909 0.0012053\n",
      "  0.00076499]\n",
      " [0.0002247  0.00999818 0.00017981 0.000013   0.0007136  0.0000376\n",
      "  0.00016468]\n",
      " [0.00026098 0.00017981 0.00421393 0.00048337 0.00043125 0.00016823\n",
      "  0.00064466]\n",
      " [0.0001759  0.000013   0.00048337 0.00852983 0.00023426 0.00012085\n",
      "  0.00067497]\n",
      " [0.00045909 0.0007136  0.00043125 0.00023426 0.0179018  0.00007134\n",
      "  0.00043469]\n",
      " [0.0012053  0.0000376  0.00016823 0.00012085 0.00007134 0.02184381\n",
      "  0.00177525]\n",
      " [0.00076499 0.00016468 0.00064466 0.00067497 0.00043469 0.00177525\n",
      "  0.00898366]]\n",
      "Modified matrix:\n",
      "[[0.01013096 0.0002247  0.         0.0001759  0.00045909 0.0012053\n",
      "  0.00076499]\n",
      " [0.0002247  0.00999818 0.         0.000013   0.0007136  0.0000376\n",
      "  0.00016468]\n",
      " [0.         0.         0.00559324 0.         0.         0.\n",
      "  0.00007616]\n",
      " [0.0001759  0.000013   0.         0.00852983 0.00023426 0.00012085\n",
      "  0.00067497]\n",
      " [0.00045909 0.0007136  0.         0.00023426 0.0179018  0.00007134\n",
      "  0.00043469]\n",
      " [0.0012053  0.0000376  0.         0.00012085 0.00007134 0.02184381\n",
      "  0.00177525]\n",
      " [0.00076499 0.00016468 0.00007616 0.00067497 0.00043469 0.00177525\n",
      "  0.00898366]]\n"
     ]
    }
   ],
   "source": [
    "p_hat_2=np.copy(p_hat)\n",
    "\n",
    "for i in community:\n",
    "    #n=sum(_z_obs==i)/4\n",
    "    if strong:\n",
    "        p_hat_2[i][i]=p_hat_2[i][i]+n/(sum(z_obs==i)-1)\n",
    "        sum_not_i=sum(z_obs!=i)\n",
    "        for j in range(num_communities):\n",
    "            if j!=i:\n",
    "                p_hat_2[i][j]=p_hat_2[i][j]-n/sum_not_i\n",
    "                if p_hat_2[i][j]<0:\n",
    "                    p_hat_2[i][j]=0\n",
    "                p_hat_2[j][i]=p_hat_2[i][j]\n",
    "    else:\n",
    "        p_hat_2[i][i]=p_hat_2[i][i]-n/(sum(z_obs==i)-1)\n",
    "        if p_hat_2[i][i]<0:\n",
    "            p_hat_2[i][i]=0\n",
    "        sum_not_i=sum(z_obs!=i)\n",
    "        for j in range(num_communities):\n",
    "            if j!=i:\n",
    "                p_hat_2[i][j]=p_hat_2[i][j]+n/sum_not_i\n",
    "                p_hat_2[j][i]=p_hat_2[i][j]\n",
    "    \n",
    "print_changes=True\n",
    "np.set_printoptions(suppress=True)\n",
    "if print_changes:\n",
    "    print(\"p_hat matrix for the \" + dataset+\" dataset:\")\n",
    "    print(p_hat)\n",
    "    print(\"Modified matrix:\")\n",
    "    print(p_hat_2)\n"
   ]
  },
  {
   "cell_type": "markdown",
   "metadata": {},
   "source": [
    "### The Stochastic Block Models generation\n",
    "Once we have <i> p_hat_2 </i>, we can generate a second SBM with a comparable average degree where edges more common within communities than between communities (or less common, depending on the boolean parameter <i> strong </i>)"
   ]
  },
  {
   "cell_type": "code",
   "execution_count": 11,
   "metadata": {},
   "outputs": [],
   "source": [
    "degrees_hat_2=np.zeros(N)\n",
    "degrees_hat=np.zeros(N)\n",
    "n_matrices=1\n",
    "for i in range(n_matrices):\n",
    "    #generate a SBM based on the p_hat we just computed and the node labels/community membership\n",
    "    rg=sbm.SBM(N, _K, z_obs, p_hat, p_hat_2)\n",
    "    A_obs_hat=sp.csr_matrix(rg.block_matrix)\n",
    "    A_obs_hat_2=sp.csr_matrix(rg.block_matrix_2)\n",
    "    \n",
    "    #update/compute statistics\n",
    "    temp_neighbors=[]\n",
    "    temp_degrees=np.zeros(N)\n",
    "    for i in range(N):\n",
    "        temp_neighbors.append(A_obs_hat[i].nonzero()[1])\n",
    "        temp_degrees[i]=len(temp_neighbors[i])\n",
    "        degrees_hat[i]+=temp_degrees[i]\n",
    "        \n",
    "    temp_neighbors_2=[]\n",
    "    temp_degrees_2=np.zeros(N)\n",
    "    for i in range(N):\n",
    "        temp_neighbors_2.append(A_obs_hat_2[i].nonzero()[1])\n",
    "        temp_degrees_2[i]=len(temp_neighbors_2[i])\n",
    "        degrees_hat_2[i]+=temp_degrees_2[i]\n",
    "\n",
    "degrees_hat=degrees_hat/n_matrices\n",
    "degrees_hat_2=degrees_hat_2/n_matrices    "
   ]
  },
  {
   "cell_type": "markdown",
   "metadata": {},
   "source": [
    "### A comparison"
   ]
  },
  {
   "cell_type": "markdown",
   "metadata": {},
   "source": [
    "In this section, we compute some statistics over the original dataset and the random graphs that we just  in order to compare them. Considering how they both were built, it is not surprising that the  One can decide if to print them or not through the boolean variable <i>print_stats</i>."
   ]
  },
  {
   "cell_type": "code",
   "execution_count": 12,
   "metadata": {},
   "outputs": [
    {
     "name": "stdout",
     "output_type": "stream",
     "text": [
      "STATISTICS OVER THE INPUT DATA\n",
      "# nodes with 0 degree: 0\n",
      "# nodes with 1 degree: 354\n",
      "# nodes with 2 degree: 545\n",
      "# nodes with 3 degree: 525\n",
      "# nodes with degree less than average: 1799\n",
      "# nodes with degree greater than average: 686\n",
      "max degree: 168.0\n",
      "average degree: 4.0796780684104625\n",
      "degree average for community 0 : 3.743859649122807\n",
      "degree average for community 1 : 4.463054187192118\n",
      "degree average for community 2 : 3.721763085399449\n",
      "degree average for community 3 : 3.928759894459103\n",
      "degree average for community 4 : 4.794392523364486\n",
      "degree average for community 5 : 3.9923664122137406\n",
      "degree average for community 6 : 4.415697674418604\n",
      "\n",
      "STATISTICS OVER THE RANDOM GRAPH\n",
      "# nodes with 0 degree: 51\n",
      "# nodes with 1 degree: 190\n",
      "# nodes with 2 degree: 363\n",
      "# nodes with 3 degree: 472\n",
      "# nodes with degree less than average: 1532\n",
      "# nodes with degree greater than average: 953\n",
      "max degree: 12.0\n",
      "average degree: 4.015291750503018\n",
      "average degree for community 0 : 3.912280701754386\n",
      "average degree for community 1 : 4.539408866995074\n",
      "average degree for community 2 : 3.5702479338842976\n",
      "average degree for community 3 : 3.825857519788918\n",
      "average degree for community 4 : 4.700934579439252\n",
      "average degree for community 5 : 3.8931297709923665\n",
      "average degree for community 6 : 4.25\n",
      "\n",
      "STATISTICS OVER THE MODIFIED RANDOM GRAPH\n",
      "# nodes with 0 degree: 44\n",
      "# nodes with 1 degree: 193\n",
      "# nodes with 2 degree: 378\n",
      "# nodes with 3 degree: 485\n",
      "# nodes with degree less than average: 1100\n",
      "# nodes with degree greater than average: 1385\n",
      "max degree: 12.0\n",
      "average degree: 3.933199195171026\n",
      "average degree for community 0 : 3.754385964912281\n",
      "average degree for community 1 : 4.426108374384237\n",
      "average degree for community 2 : 3.9077134986225897\n",
      "average degree for community 3 : 3.496042216358839\n",
      "average degree for community 4 : 4.373831775700935\n",
      "average degree for community 5 : 3.732824427480916\n",
      "average degree for community 6 : 3.8372093023255816\n"
     ]
    }
   ],
   "source": [
    "print_stats=True\n",
    "if(print_stats):\n",
    "    print(\"STATISTICS OVER THE INPUT DATA\")\n",
    "    for i in range(4):\n",
    "        print(\"# nodes with\",i,\"degree:\",(degrees==i).sum())\n",
    "    print(\"# nodes with degree less than average:\",(degrees<sum(degrees)/len(degrees)).sum())\n",
    "    print(\"# nodes with degree greater than average:\",(degrees>sum(degrees)/len(degrees)).sum())\n",
    "    print(\"max degree:\",max(degrees))\n",
    "    #print(neighbors[np.argmax(degrees)])\n",
    "    #print(np.argmax(degrees))\n",
    "    print(\"average degree:\",sum(degrees)/len(degrees))\n",
    "    for i in range(num_communities):\n",
    "        print(\"degree average for community\",i,\":\",sum(degrees[vertices[z_obs==i]])/len(degrees[vertices[z_obs==i]]))\n",
    "\n",
    "print_stats_rg=True\n",
    "if(print_stats_rg):\n",
    "    print(\"\\nSTATISTICS OVER THE RANDOM GRAPH\")\n",
    "    print(\"# nodes with 0 degree:\",(degrees_hat<1).sum())\n",
    "    for i in range(1,4):\n",
    "        print(\"# nodes with\",i,\"degree:\", (degrees_hat<i+1).sum()-(degrees_hat<i).sum())\n",
    "\n",
    "    print(\"# nodes with degree less than average:\",(degrees_hat<sum(degrees_hat)/len(degrees_hat)).sum())\n",
    "    j=10\n",
    "    print(\"# nodes with degree greater than average:\",(degrees_hat>sum(degrees_hat)/len(degrees_hat)).sum())\n",
    "    print(\"max degree:\",(max(degrees_hat)))\n",
    "    print(\"average degree:\",(sum(degrees_hat)/len(degrees_hat)))\n",
    "    for i in range(num_communities):\n",
    "        print(\"average degree for community\",i,\":\",sum(degrees_hat[vertices[z_obs==i]])/len(degrees_hat[vertices[z_obs==i]]))\n",
    "\n",
    "\n",
    "print_stats_rg_2=True\n",
    "if(print_stats_rg_2):\n",
    "    print(\"\\nSTATISTICS OVER THE MODIFIED RANDOM GRAPH\")\n",
    "    print(\"# nodes with 0 degree:\",(degrees_hat_2<1).sum())\n",
    "    for i in range(1,4):\n",
    "        print(\"# nodes with\",i,\"degree:\", (degrees_hat_2<i+1).sum()-(degrees_hat_2<i).sum())\n",
    "\n",
    "    print(\"# nodes with degree less than average:\",(degrees_hat_2<sum(degrees_hat_2)/len(degrees_hat_2)).sum())\n",
    "    j=10\n",
    "    print(\"# nodes with degree greater than average:\",(degrees_hat_2>sum(degrees_hat_2)/len(degrees_hat_2)).sum())\n",
    "    print(\"max degree:\",(max(degrees_hat_2)))\n",
    "    print(\"average degree:\",(sum(degrees_hat_2)/len(degrees_hat_2)))\n",
    "    for i in range(num_communities):\n",
    "        print(\"average degree for community\",i,\":\",sum(degrees_hat_2[vertices[z_obs==i]])/len(degrees_hat_2[vertices[z_obs==i]]))\n",
    "        \n"
   ]
  },
  {
   "cell_type": "markdown",
   "metadata": {},
   "source": [
    "<a id='data_preprocessing'></a>\n",
    "### Data preprocessing"
   ]
  },
  {
   "cell_type": "code",
   "execution_count": 13,
   "metadata": {},
   "outputs": [],
   "source": [
    "def intersection(lst1, lst2): \n",
    "    lst3 = [value for value in lst1 if value in lst2] \n",
    "    return lst3 "
   ]
  },
  {
   "cell_type": "code",
   "execution_count": 14,
   "metadata": {},
   "outputs": [
    {
     "name": "stdout",
     "output_type": "stream",
     "text": [
      "Selecting 1 largest connected components\n",
      "Selecting 1 largest connected components\n",
      "Number of nodes in the intersection of the 2 largerst connected components: 2418\n"
     ]
    }
   ],
   "source": [
    "#we select just the largest connected component    \n",
    "lcc_1= utils.largest_connected_components(A_obs_hat)\n",
    "lcc_2= utils.largest_connected_components(A_obs_hat_2)\n",
    "lcc=intersection(lcc_1,lcc_2)\n",
    "_A_obs_hat = A_obs_hat[lcc][:,lcc]\n",
    "_A_obs_hat_2 = A_obs_hat_2[lcc][:,lcc]\n",
    "_X_obs_hat = X_obs[lcc].astype('float32')\n",
    "_z_obs_hat = z_obs[lcc]\n",
    "\n",
    "#number of vertices\n",
    "_N = _A_obs_hat.shape[0]\n",
    "print(\"Number of nodes in the intersection of the 2 largerst connected components:\",_N)"
   ]
  },
  {
   "cell_type": "code",
   "execution_count": 15,
   "metadata": {},
   "outputs": [],
   "source": [
    "seed = 15\n",
    "unlabeled_share = 0.8\n",
    "val_share = 0.1\n",
    "train_share = 1 - unlabeled_share - val_share\n",
    "np.random.seed(seed)\n",
    "split_train, split_val, split_unlabeled = utils.train_val_test_split_tabular(np.arange(_N),\n",
    "                                                                       train_size=train_share,\n",
    "                                                                       val_size=val_share,\n",
    "                                                                       test_size=unlabeled_share,\n",
    "                                                                       stratify=_z_obs_hat)"
   ]
  },
  {
   "cell_type": "markdown",
   "metadata": {},
   "source": [
    "### Choose the node to attack"
   ]
  },
  {
   "cell_type": "code",
   "execution_count": 37,
   "metadata": {},
   "outputs": [
    {
     "name": "stdout",
     "output_type": "stream",
     "text": [
      "Neighbors of 1688 in the non-modified SBM: [  76  707  871 1383 1825 2202 2300]\n",
      "Labels of the neighbors: [2 2 2 6 1 2 2]\n",
      "Neighbors of 1688 in the modified SBM: [  76  659  707  871 2202 2300]\n",
      "Labels of the neighbors: [2 2 2 2 2 2]\n"
     ]
    }
   ],
   "source": [
    "set_deg=5\n",
    "\n",
    "#degrees and neighbors\n",
    "neighbors_hat=[]\n",
    "_degrees_hat=np.zeros(_N)\n",
    "for i in range(_N):\n",
    "    neighbors_hat.append(_A_obs_hat[i].nonzero()[1])\n",
    "    _degrees_hat[i]=len(neighbors_hat[i])\n",
    "    \n",
    "#degrees and neighbors\n",
    "neighbors_hat_2=[]\n",
    "_degrees_hat_2=np.zeros(_N)\n",
    "for i in range(_N):\n",
    "    neighbors_hat_2.append(_A_obs_hat_2[i].nonzero()[1])\n",
    "    _degrees_hat_2[i]=len(neighbors_hat_2[i])\n",
    "\n",
    "_vertices=np.array(range(_N))\n",
    "#u = random.choice(vertices[degrees_hat==set_deg]) # node to attack \n",
    "indices= _z_obs_hat==community[0]\n",
    "for c in community:\n",
    "    indices= [ indices[i] or _z_obs_hat[i]==c for i in range(len(_z_obs_hat))]\n",
    "\n",
    "u = random.choice(_vertices[np.multiply(indices ,_degrees_hat>set_deg)])\n",
    "assert u in split_unlabeled\n",
    "deg=degrees_hat[u]\n",
    "print(\"Neighbors of\", u, \"in the non-modified SBM:\",neighbors_hat[u])\n",
    "print(\"Labels of the neighbors:\",_z_obs_hat[neighbors_hat[u]])\n",
    "print(\"Neighbors of\", u, \"in the modified SBM:\",neighbors_hat_2[u])\n",
    "print(\"Labels of the neighbors:\",_z_obs_hat[neighbors_hat_2[u]])\n",
    "\n",
    "train_1=False\n",
    "train_2=False"
   ]
  },
  {
   "cell_type": "markdown",
   "metadata": {},
   "source": [
    "### Data preprocessing e general nettack set up"
   ]
  },
  {
   "cell_type": "code",
   "execution_count": 30,
   "metadata": {},
   "outputs": [],
   "source": [
    "_Z_obs_hat = np.eye(_K)[_z_obs_hat]\n",
    "sizes = [16, _K]"
   ]
  },
  {
   "cell_type": "code",
   "execution_count": 31,
   "metadata": {},
   "outputs": [],
   "source": [
    "direct_attack = True\n",
    "n_influencers = 1 if direct_attack else 5\n",
    "perturb_features = False    \n",
    "perturb_structure = True"
   ]
  },
  {
   "cell_type": "code",
   "execution_count": 32,
   "metadata": {},
   "outputs": [],
   "source": [
    "verbose = False\n",
    "retrain_iters=5"
   ]
  },
  {
   "cell_type": "markdown",
   "metadata": {},
   "source": [
    "### Attack of u on SBM($\\hat{P}$)"
   ]
  },
  {
   "cell_type": "code",
   "execution_count": 33,
   "metadata": {},
   "outputs": [],
   "source": [
    "n_perturbations_1=int(_degrees_hat[u]/2)\n",
    "_An_hat = utils.preprocess_graph(_A_obs_hat)"
   ]
  },
  {
   "cell_type": "code",
   "execution_count": 38,
   "metadata": {},
   "outputs": [
    {
     "name": "stderr",
     "output_type": "stream",
     "text": [
      "C:\\Users\\Martina\\Anaconda3\\envs\\project\\lib\\site-packages\\tensorflow\\python\\client\\session.py:1702: UserWarning: An interactive session is already active. This can cause out-of-memory errors in some cases. You must explicitly call `InteractiveSession.close()` to release resources held by the other session(s).\n",
      "  warnings.warn('An interactive session is already active. This can '\n",
      "C:\\Users\\Martina\\Anaconda3\\envs\\project\\lib\\site-packages\\sklearn\\metrics\\classification.py:1143: UndefinedMetricWarning: F-score is ill-defined and being set to 0.0 in labels with no predicted samples.\n",
      "  'precision', 'predicted', average, warn_for)\n"
     ]
    }
   ],
   "source": [
    "train_1=True\n",
    "\n",
    "#Train surrogate model (i.e. GCN without nonlinear activation)\n",
    "surrogate_model_1 = GCN.GCN(sizes, _An_hat, _X_obs_hat, with_relu=False, name=\"surrogate\", gpu_id=gpu_id)\n",
    "surrogate_model_1.train(split_train, split_val, _Z_obs_hat, print_info=verbose)\n",
    "W1_1 =surrogate_model_1.W1.eval(session=surrogate_model_1.session)\n",
    "W2_1 =surrogate_model_1.W2.eval(session=surrogate_model_1.session)\n",
    "    \n",
    "#Setup Nettack\n",
    "nettack_1 = ntk.Nettack(_A_obs_hat, _X_obs_hat, _z_obs_hat, W1_1, W2_1, u, verbose)\n",
    "    \n",
    "#Poison the data\n",
    "nettack_1.reset()\n",
    "nettack_1.attack_surrogate(n_perturbations_1, perturb_structure=perturb_structure, perturb_features=perturb_features, direct=direct_attack, n_influencers=n_influencers)\n",
    "    \n",
    "#Print perturbations\n",
    "if verbose:\n",
    "    print(\"Structure perturbations:\",nettack_1.structure_perturbations)\n",
    "    print(\"Features perturbations:\", nettack_1.feature_perturbations)\n",
    "    \n",
    "#Train GCN without perturbations\n",
    "if verbose:\n",
    "    print(\"Train GCN without perturbations\")\n",
    "\n",
    "classification_margins_clean_1 = []\n",
    "class_distrs_clean_1 = []\n",
    "gcn_before_1 = GCN.GCN(sizes, _An_hat, _X_obs_hat, \"gcn_orig\", gpu_id=gpu_id)\n",
    "for _ in range(retrain_iters):\n",
    "    if verbose:\n",
    "        print(\"... {}/{} \".format(_+1, retrain_iters))\n",
    "    gcn_before_1.train(split_train, split_val, _Z_obs_hat, print_info=verbose)\n",
    "    probs_before_attack_1 = gcn_before_1.predictions.eval(session=gcn_before_1.session,feed_dict={gcn_before_1.node_ids: [nettack_1.u]})[0]\n",
    "    class_distrs_clean_1.append(probs_before_attack_1)\n",
    "    #best_second_class_before_1 = (probs_before_attack_1 - 1000*_Z_obs_hat[nettack_1.u]).argmax()\n",
    "    #margin_before_1 = probs_before_attack_1[_z_obs_hat[nettack_1.u]] - probs_before_attack_1[best_second_class_before_1]\n",
    "    #classification_margins_clean_1.append(margin_before_1)\n",
    "\n",
    "class_distrs_clean_1 = np.array(class_distrs_clean_1)\n",
    "\n",
    "#Train GCN with perturbations\n",
    "if verbose:\n",
    "    print(\"Train GCN with perturbations\")\n",
    "classification_margins_corrupted_1 = []\n",
    "class_distrs_retrain_1 = []\n",
    "gcn_retrain_1 = GCN.GCN(sizes, nettack_1.adj_preprocessed, nettack_1.X_obs.tocsr(), \"gcn_retrain\", gpu_id=gpu_id)\n",
    "for _ in range(retrain_iters):\n",
    "    if verbose:    \n",
    "        print(\"... {}/{} \".format(_+1, retrain_iters))\n",
    "    gcn_retrain_1.train(split_train, split_val, _Z_obs_hat, print_info=verbose)\n",
    "    probs_after_attack_1 = gcn_retrain_1.predictions.eval(session=gcn_retrain_1.session,feed_dict={gcn_retrain_1.node_ids: [nettack_1.u]})[0]\n",
    "    #best_second_class_after_1 = (probs_after_attack_1 - 1000*_Z_obs_hat[nettack_1.u]).argmax()\n",
    "    #margin_after_1 = probs_after_attack_1[_z_obs_hat[nettack_1.u]] - probs_after_attack_1[best_second_class_after_1]\n",
    "    class_distrs_retrain_1.append(probs_after_attack_1)\n",
    "    #classification_margins_corrupted_1.append(margin_after_1)\n",
    "class_distrs_retrain_1 = np.array(class_distrs_retrain_1)"
   ]
  },
  {
   "cell_type": "markdown",
   "metadata": {},
   "source": [
    "### Attack of u on SBM($\\tilde{P}$)"
   ]
  },
  {
   "cell_type": "code",
   "execution_count": 39,
   "metadata": {},
   "outputs": [],
   "source": [
    "n_perturbations_2=int(_degrees_hat_2[u]/2)\n",
    "_An_hat_2 = utils.preprocess_graph(_A_obs_hat_2)"
   ]
  },
  {
   "cell_type": "code",
   "execution_count": null,
   "metadata": {},
   "outputs": [],
   "source": [
    "train_2=True \n",
    "#Train surrogate model (i.e. GCN without nonlinear activation)\n",
    "surrogate_model_2 = GCN.GCN(sizes, _An_hat_2, _X_obs_hat, with_relu=False, name=\"surrogate\", gpu_id=gpu_id)\n",
    "surrogate_model_2.train(split_train, split_val, _Z_obs_hat, print_info=verbose)\n",
    "W1_2 =surrogate_model_2.W1.eval(session=surrogate_model_2.session)\n",
    "W2_2 =surrogate_model_2.W2.eval(session=surrogate_model_2.session)\n",
    "    \n",
    "#Setup Nettack\n",
    "nettack_2 = ntk.Nettack(_A_obs_hat_2, _X_obs_hat, _z_obs_hat, W1_2, W2_2, u, verbose)\n",
    "    \n",
    "#Poison the data\n",
    "nettack_2.reset()\n",
    "nettack_2.attack_surrogate(n_perturbations_2, perturb_structure=perturb_structure, perturb_features=perturb_features, direct=direct_attack, n_influencers=n_influencers)\n",
    "    \n",
    "#Print perturbations\n",
    "if verbose:\n",
    "    print(\"Structure perturbations:\",nettack_2.structure_perturbations)\n",
    "    print(\"Features perturbations:\", nettack_2.feature_perturbations)\n",
    "    \n",
    "#Train GCN without perturbations\n",
    "if verbose:\n",
    "    print(\"Train GCN without perturbations\")\n",
    "\n",
    "classification_margins_clean_2 = []\n",
    "class_distrs_clean_2 = []\n",
    "gcn_before_2 = GCN.GCN(sizes, _An_hat_2, _X_obs_hat, \"gcn_orig\", gpu_id=gpu_id)\n",
    "for _ in range(retrain_iters):\n",
    "    if verbose:\n",
    "        print(\"... {}/{} \".format(_+1, retrain_iters))\n",
    "    gcn_before_2.train(split_train, split_val, _Z_obs_hat, print_info=verbose)\n",
    "    probs_before_attack_2 = gcn_before_2.predictions.eval(session=gcn_before_2.session,feed_dict={gcn_before_2.node_ids: [nettack_2.u]})[0]\n",
    "    class_distrs_clean_2.append(probs_before_attack_2)\n",
    "    #best_second_class_before_2 = (probs_before_attack_2 - 1000*_Z_obs_hat[nettack_2.u]).argmax()\n",
    "    #margin_before_2 = probs_before_attack_2[_z_obs_hat[nettack_1.u]] - probs_before_attack_2[best_second_class_before_2]\n",
    "    #classification_margins_clean_2.append(margin_before_2)\n",
    "\n",
    "class_distrs_clean_2 = np.array(class_distrs_clean_2)\n",
    "\n",
    "#Train GCN with perturbations\n",
    "if verbose:\n",
    "    print(\"Train GCN with perturbations\")\n",
    "classification_margins_corrupted_2 = []\n",
    "class_distrs_retrain_2 = []\n",
    "gcn_retrain_2 = GCN.GCN(sizes, nettack_2.adj_preprocessed, nettack_2.X_obs.tocsr(), \"gcn_retrain\", gpu_id=gpu_id)\n",
    "for _ in range(retrain_iters):\n",
    "    if verbose:    \n",
    "        print(\"... {}/{} \".format(_+1, retrain_iters))\n",
    "    gcn_retrain_2.train(split_train, split_val, _Z_obs_hat, print_info=verbose)\n",
    "    probs_after_attack_2 = gcn_retrain_2.predictions.eval(session=gcn_retrain_2.session,feed_dict={gcn_retrain_2.node_ids: [nettack_2.u]})[0]\n",
    "    #best_second_class_after_2 = (probs_after_attack_2 - 1000*_Z_obs_hat[nettack_2.u]).argmax()\n",
    "    #margin_after_2 = probs_after_attack_2[_z_obs_hat[nettack_2.u]] - probs_after_attack_2[best_second_class_after_2]\n",
    "    class_distrs_retrain_2.append(probs_after_attack_2)\n",
    "    #classification_margins_corrupted_2.append(margin_after_2)\n",
    "class_distrs_retrain_2 = np.array(class_distrs_retrain_2)"
   ]
  },
  {
   "cell_type": "markdown",
   "metadata": {},
   "source": [
    "### Visualize and compare the results"
   ]
  },
  {
   "cell_type": "code",
   "execution_count": 24,
   "metadata": {},
   "outputs": [
    {
     "data": {
      "image/png": "[encoded data removed]",
      "text/plain": [
       "<Figure size 864x288 with 2 Axes>"
      ]
     },
     "metadata": {
      "needs_background": "light"
     },
     "output_type": "display_data"
    },
    {
     "data": {
      "image/png": "[encoded data removed]",
      "text/plain": [
       "<Figure size 864x288 with 2 Axes>"
      ]
     },
     "metadata": {
      "needs_background": "light"
     },
     "output_type": "display_data"
    }
   ],
   "source": [
    "plot(class_distrs_clean_1, class_distrs_retrain_1, retrain_iters, nettack_1.u, nettack_1.label_u, _K, n_perturbations_1)\n",
    "plot(class_distrs_clean_2, class_distrs_retrain_2, retrain_iters, nettack_2.u, nettack_2.label_u, _K, n_perturbations_2)"
   ]
  },
  {
   "cell_type": "code",
   "execution_count": 25,
   "metadata": {},
   "outputs": [],
   "source": [
    "#u_hat_2=random.choice(vertices[np.multiply(degrees_hat_2==deg,_z_obs==_z_obs[u])])\n",
    "#n_perturbations=int(degrees_hat_2[u]/2)\n",
    "#[clean, attacked]=test_nettack(_A_obs_hat_2, _X_obs_hat, _z_obs_hat, u,  n_perturbations, perturb_structure, perturb_features, direct_attack, n_influencers, \n",
    "#             split_train, split_val, split_unlabeled, verbose=True)"
   ]
  },
  {
   "cell_type": "markdown",
   "metadata": {},
   "source": [
    "### Experiments"
   ]
  },
  {
   "cell_type": "code",
   "execution_count": null,
   "metadata": {},
   "outputs": [],
   "source": [
    "indices= _z_obs_hat==community[0]\n",
    "attacked_nodes = _vertices[[indices[i]  and _degrees_hat[i]>1 and _degrees_hat_2[i]>1 for i in range(_N)]]\n",
    "tot=len(attacked_nodes)\n"
   ]
  },
  {
   "cell_type": "code",
   "execution_count": null,
   "metadata": {},
   "outputs": [],
   "source": [
    " #DATA PREPROCESSING\n",
    "#_An_1=_An_hat\n",
    "#_An_2=_An_hat_2\n",
    "_An_1 = utils.preprocess_graph(_A_obs_hat)\n",
    "_An_2 = utils.preprocess_graph(_A_obs_hat_2)"
   ]
  },
  {
   "cell_type": "code",
   "execution_count": null,
   "metadata": {},
   "outputs": [],
   "source": [
    "#surrogate model of SBM 1 - needed for nettack\n",
    "\n",
    "if not train_1:\n",
    "    surrogate_model_1 = GCN.GCN(sizes, _An_1, _X_obs_hat, with_relu=False, name=\"surrogate\", gpu_id=gpu_id)\n",
    "    surrogate_model_1.train(split_train, split_val, _Z_obs_hat, print_info=False)\n",
    "    W1_1 =surrogate_model_1.W1.eval(session=surrogate_model_1.session)\n",
    "    W2_1 =surrogate_model_1.W2.eval(session=surrogate_model_1.session)\n",
    "    \n",
    "    #Train GCN without perturbations\n",
    "    gcn_before_1 = GCN.GCN(sizes, _An_1, _X_obs_hat, \"gcn_orig\", gpu_id=gpu_id)\n",
    "    gcn_before_1.train(split_train, split_val, _Z_obs_hat, print_info=False)\n",
    "\n",
    "if not train_2:\n",
    "    #surrogate model of SBM 2 - needed for nettack\n",
    "    surrogate_model_2 = GCN.GCN(sizes, _An_2, _X_obs_hat, with_relu=False, name=\"surrogate\", gpu_id=gpu_id)\n",
    "    surrogate_model_2.train(split_train, split_val, _Z_obs_hat, print_info=False)\n",
    "    W1_2 =surrogate_model_2.W1.eval(session=surrogate_model_2.session)\n",
    "    W2_2 =surrogate_model_2.W2.eval(session=surrogate_model_2.session)\n",
    "    \n",
    "    #Train GCN without perturbations\n",
    "    gcn_before_2 = GCN.GCN(sizes, _An_2, _X_obs_hat, \"gcn_orig\", gpu_id=gpu_id)\n",
    "    gcn_before_2.train(split_train, split_val, _Z_obs_hat, print_info=False)\n",
    "\n",
    "    "
   ]
  },
  {
   "cell_type": "code",
   "execution_count": null,
   "metadata": {},
   "outputs": [],
   "source": [
    "stamp=False\n",
    "correct=0\n",
    "mod_correct=0\n",
    "mod_mis=0\n",
    "mis=0\n",
    "succ_att=0\n",
    "mod_succ_att=0\n",
    "i=0\n",
    "limit=500\n",
    "\n",
    "if strong:\n",
    "    print(\"More edges within communities\\n\")\n",
    "else:\n",
    "    print(\"More edges between communities\\n\")\n",
    "\n",
    "\n",
    "for u in attacked_nodes:  \n",
    "    if i ==limit:\n",
    "        break\n",
    "    if stamp:\n",
    "        print(\"Iteration:\",i,\"/\", tot)\n",
    "    i+=1\n",
    "    \n",
    "    ###### AVERAGE COMMUNITIES ########\n",
    "    n_perturbations=int(_degrees_hat[u]/2)\n",
    "    if stamp:\n",
    "        print(\"Testing nettack on the clean random graph (\", n_perturbations, \"perturbations)\")\n",
    "        print(\"Attacked node:\",u,\", class:\",_z_obs_hat[u],\", neighbors:\", neighbors_hat[u], \"with class\", _z_obs_hat[neighbors_hat[u]])\n",
    "    \n",
    "    \n",
    "    clean_1 = gcn_before_1.predictions.eval(session=gcn_before_1.session,feed_dict={gcn_before_1.node_ids: [u]})[0]\n",
    "       #[clean_1, attacked_1]=test_nettack(_A_obs_hat, _X_obs_hat, _z_obs_hat, u,  n_perturbations, perturb_structure, perturb_features, direct_attack, n_influencers, \n",
    "    #         split_train, split_val, split_unlabeled, verbose=False, plot=False)\n",
    "    \n",
    "    #if(np.argmax(np.sum(clean_1,axis=1))==_z_obs_hat[u]):\n",
    "    if(np.argmax(clean_1)==_z_obs_hat[u]):\n",
    "        correct+=1\n",
    "        print(\"Iteration:\",i,\"/\", tot)\n",
    "        #Set up nettack \n",
    "        #NOTE: W1_1 and W_2 are the same for all the attacks and are computed in the previous step\n",
    "        nettack_1 = ntk.Nettack(_A_obs_hat, _X_obs_hat, _z_obs_hat, W1_1, W2_1, u,verbose=False)\n",
    "        #Poison the data\n",
    "        nettack_1.reset()\n",
    "        nettack_1.attack_surrogate(n_perturbations, perturb_structure=perturb_structure, \n",
    "                               perturb_features=perturb_features, direct=direct_attack, n_influencers=n_influencers)\n",
    "        gcn_retrain_1 = GCN.GCN(sizes, nettack_1.adj_preprocessed, nettack_1.X_obs.tocsr(), \n",
    "                                \"gcn_retrain\", gpu_id=gpu_id)\n",
    "        gcn_retrain_1.train(split_train, split_val, _Z_obs_hat, print_info=False)\n",
    "        attacked_1 = gcn_retrain_1.predictions.eval(session=gcn_retrain_1.session,\n",
    "                                                    feed_dict={gcn_retrain_1.node_ids: [nettack_1.u]})[0]\n",
    "        #if(np.argmax(np.sum(attacked_1,axis=1))!=_z_obs_hat[u]):\n",
    "        if(np.argmax(attacked_1)!=_z_obs_hat[u]):\n",
    "            succ_att+=1\n",
    "    else:\n",
    "        mis+=1\n",
    "            \n",
    "    if stamp:\n",
    "        if(np.argmax(clean_1)==_z_obs_hat[u]):\n",
    "            print(\"Correct classified\")\n",
    "            if(np.argmax(attacked_1)!=_z_obs_hat[u]):\n",
    "                print(\"Successful attack\\n\")\n",
    "            else:\n",
    "                print(\"Unsuccessful attack\\n\")\n",
    "        else:\n",
    "            print(\"Misclassified\")\n",
    "        \n",
    "            \n",
    "    ######## MODIFIED COMMUNITIES ##########\n",
    "    n_perturbations=int(_degrees_hat_2[u]/2)\n",
    "    if stamp:\n",
    "        print(\"Testing nettack on the modified random graph (\", n_perturbations, \"perturbations)\")\n",
    "        print(\"Attacked node:\",u, \", class:\",_z_obs_hat[u],\", neighbors:\", neighbors_hat_2[u], \"with class\",_z_obs_hat[neighbors_hat_2[u]])\n",
    "\n",
    "    clean_2 = gcn_before_2.predictions.eval(session=gcn_before_2.session,feed_dict={gcn_before_2.node_ids: [u]})[0]\n",
    "    \n",
    "    #if(np.argmax(np.sum(clean_2,axis=1))==_z_obs_hat[u]):\n",
    "    if(np.argmax(clean_2)==_z_obs_hat[u]):\n",
    "        mod_correct+=1\n",
    "        \n",
    "        #Set up nettack \n",
    "        #NOTE: W1_1 and W_2 are the same for all the attacks and are computed in the previous step\n",
    "        nettack_2 = ntk.Nettack(_A_obs_hat_2, _X_obs_hat, _z_obs_hat, W1_2, W2_2, u, verbose=False)\n",
    "        #Poison the data\n",
    "        nettack_2.reset()\n",
    "        nettack_2.attack_surrogate(n_perturbations, perturb_structure=perturb_structure, \n",
    "                                   perturb_features=perturb_features, direct=direct_attack, \n",
    "                                   n_influencers=n_influencers)\n",
    "    \n",
    "        gcn_retrain_2 = GCN.GCN(sizes, nettack_2.adj_preprocessed, nettack_2.X_obs.tocsr(), \"gcn_retrain\", \n",
    "                                gpu_id=gpu_id)\n",
    "        gcn_retrain_2.train(split_train, split_val, _Z_obs_hat, print_info=False)\n",
    "        attacked_2 = gcn_retrain_2.predictions.eval(session=gcn_retrain_2.session,\n",
    "                                                feed_dict={gcn_retrain_2.node_ids: [nettack_2.u]})[0]\n",
    "        #if(np.argmax(np.sum(attacked_2,axis=1))!=_z_obs_hat[u]):\n",
    "        if(np.argmax(attacked_2)!=_z_obs_hat[u]):\n",
    "            mod_succ_att+=1\n",
    "    else:\n",
    "        mod_mis+=1\n",
    "    \n",
    "    if stamp:\n",
    "        if(np.argmax(clean_2)==_z_obs_hat[u]):\n",
    "            print(\"Correct classified\")\n",
    "            if(np.argmax(attacked_2)!=_z_obs_hat[u]):\n",
    "                print(\"Successful attack\\n\")\n",
    "            else:\n",
    "                print(\"Unsuccessful attack\\n\")\n",
    "        else:\n",
    "            print(\"Misclassified\")\n",
    "        \n",
    "        \n",
    "    \n",
    "print(\"# of correct classified nodes:\",correct)\n",
    "print(\"# of correct classified nodes in the second graph\", mod_correct)\n",
    "print(\"# of successful attacks \", succ_att)\n",
    "print(\"# of successful attacks in the second graph\", mod_succ_att)"
   ]
  },
  {
   "cell_type": "code",
   "execution_count": null,
   "metadata": {},
   "outputs": [],
   "source": [
    "print(\"#### CASE N =\", n, \", n_perturbations=degree/2, strong=\", strong, \" ####\" )\n",
    "print(\"# of tested nodes:\", tot)\n",
    "print(\"# of correct classified nodes in the first dataset:\",correct, \", accuracy:\", correct/tot)\n",
    "print(\"# of correct classified nodes in the second dataset:\", mod_correct, \", accuracy:\", mod_correct/tot)\n",
    "print(\"# of successful attacks in the first dataset:\", succ_att, \", accuracy:\", succ_att/correct)\n",
    "print(\"# of successful attacks in the second dataset:\", mod_succ_att, \", accuracy:\", mod_succ_att/mod_correct)"
   ]
  },
  {
   "cell_type": "code",
   "execution_count": null,
   "metadata": {},
   "outputs": [],
   "source": [
    "name=\"Experiment\"+str(3)\n",
    "f=open(name,\"w+\")\n",
    "f.write(\"#### CASE N=\"+ str(n)+ \", n_perturbations=degree/2, strong=\" + str(strong)+ \" on \" +dataset+\" ####\\n\" )\n",
    "f.write(\"# of tested nodes:\"+str(tot)+ \"\\n\")\n",
    "f.write(\"# of correct classified nodes in the first dataset:\"+str(correct)+ \", accuracy:\"+str(correct/tot)+ \"\\n\")\n",
    "f.write(\"# of correct classified nodes in the second dataset:\"+str(mod_correct)+ \", accuracy:\"+str(mod_correct/tot)+ \"\\n\")\n",
    "f.write(\"# of successful attacks in the first dataset:\" +str(succ_att)+ \", accuracy:\"+ str(succ_att/correct)+ \"\\n\")\n",
    "f.write(\"# of successful attacks in the second dataset:\"+str(mod_succ_att)+ \", accuracy:\" + str(mod_succ_att/mod_correct)+ \"\\n\")\n",
    "f.close()"
   ]
  },
  {
   "cell_type": "code",
   "execution_count": null,
   "metadata": {},
   "outputs": [],
   "source": []
  }
 ],
 "metadata": {
  "kernelspec": {
   "display_name": "Python 3",
   "language": "python",
   "name": "python3"
  },
  "language_info": {
   "codemirror_mode": {
    "name": "ipython",
    "version": 3
   },
   "file_extension": ".py",
   "mimetype": "text/x-python",
   "name": "python",
   "nbconvert_exporter": "python",
   "pygments_lexer": "ipython3",
   "version": "3.7.3"
  }
 },
 "nbformat": 4,
 "nbformat_minor": 2
}
