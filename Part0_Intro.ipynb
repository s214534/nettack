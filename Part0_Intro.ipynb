{
 "cells": [
  {
   "cell_type": "markdown",
   "metadata": {},
   "source": [
    "# <b> Final Project - Glassman Yair, Vanelli Martina </b>\n",
    "<h2 style=\"color:#C40233\"> <b> CS236605: Deep Learning </b> </h2>"
   ]
  },
  {
   "cell_type": "markdown",
   "metadata": {},
   "source": [
    "Our project is based on the article [Adversarial Attacks on Neural Networks for Graph Data](https://arxiv.org/pdf/1805.07984.pdf) (Code: [code](https://github.com/danielzuegner/nettack)). In this paper, the authors generated adversarial attacks on attributed graphs targeting the node’s features and the graph structure. The attacks aim to fool  graph-based deep learning models on a semi-supervised node classification task. \n",
    "\n",
    "The main point of our project is to study the behavior of the model and the effectiveness of the adversarial attacks according to the edge densities between and within communities. We studied this problem through Stochastic Block Models. "
   ]
  }
 ],
 "metadata": {
  "kernelspec": {
   "display_name": "Python 3",
   "language": "python",
   "name": "python3"
  },
  "language_info": {
   "codemirror_mode": {
    "name": "ipython",
    "version": 3
   },
   "file_extension": ".py",
   "mimetype": "text/x-python",
   "name": "python",
   "nbconvert_exporter": "python",
   "pygments_lexer": "ipython3",
   "version": "3.7.3"
  }
 },
 "nbformat": 4,
 "nbformat_minor": 2
}
